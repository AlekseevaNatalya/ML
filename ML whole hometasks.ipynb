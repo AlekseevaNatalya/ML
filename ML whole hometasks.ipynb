{
 "cells": [
  {
   "cell_type": "code",
   "execution_count": 1,
   "metadata": {},
   "outputs": [],
   "source": [
    "# Загрузка библиотек для работы с данными\n",
    "import numpy as np\n",
    "import matplotlib.pyplot as plt\n",
    "import pandas as pd\n",
    "%matplotlib inline"
   ]
  },
  {
   "cell_type": "code",
   "execution_count": 85,
   "metadata": {},
   "outputs": [],
   "source": [
    "# Вводим в программу ссылку на данные для работы\n",
    "data = pd.read_csv('C:/Users/Lenovo/Desktop/zoo2.csv', sep = ',', engine = 'python') \n",
    "# Животные различных классов, для разбора примеров из \"adult\", тренировочная выборка\n",
    "data1 = pd.read_csv('C:/Users/Lenovo/Desktop/zoo3.csv', sep = ',', engine = 'python') \n",
    "# Животные из бразильского зоопарка São Paulo Zoo, находящиеся на грани исчезновения, тестовая выборка"
   ]
  },
  {
   "cell_type": "code",
   "execution_count": 4,
   "metadata": {},
   "outputs": [
    {
     "data": {
      "text/plain": [
       "pandas.core.frame.DataFrame"
      ]
     },
     "execution_count": 4,
     "metadata": {},
     "output_type": "execute_result"
    }
   ],
   "source": [
    "type(data)"
   ]
  },
  {
   "cell_type": "code",
   "execution_count": 5,
   "metadata": {},
   "outputs": [
    {
     "data": {
      "text/html": [
       "<div>\n",
       "<style scoped>\n",
       "    .dataframe tbody tr th:only-of-type {\n",
       "        vertical-align: middle;\n",
       "    }\n",
       "\n",
       "    .dataframe tbody tr th {\n",
       "        vertical-align: top;\n",
       "    }\n",
       "\n",
       "    .dataframe thead th {\n",
       "        text-align: right;\n",
       "    }\n",
       "</style>\n",
       "<table border=\"1\" class=\"dataframe\">\n",
       "  <thead>\n",
       "    <tr style=\"text-align: right;\">\n",
       "      <th></th>\n",
       "      <th>animal_name</th>\n",
       "      <th>hair</th>\n",
       "      <th>feathers</th>\n",
       "      <th>eggs</th>\n",
       "      <th>milk</th>\n",
       "      <th>airborne</th>\n",
       "      <th>aquatic</th>\n",
       "      <th>predator</th>\n",
       "      <th>toothed</th>\n",
       "      <th>backbone</th>\n",
       "      <th>breathes</th>\n",
       "      <th>venomous</th>\n",
       "      <th>fins</th>\n",
       "      <th>legs</th>\n",
       "      <th>tail</th>\n",
       "      <th>domestic</th>\n",
       "      <th>catsize</th>\n",
       "      <th>class_type</th>\n",
       "    </tr>\n",
       "  </thead>\n",
       "  <tbody>\n",
       "    <tr>\n",
       "      <td>0</td>\n",
       "      <td>turtle</td>\n",
       "      <td>0</td>\n",
       "      <td>0</td>\n",
       "      <td>1</td>\n",
       "      <td>0</td>\n",
       "      <td>0</td>\n",
       "      <td>1</td>\n",
       "      <td>0</td>\n",
       "      <td>0</td>\n",
       "      <td>1</td>\n",
       "      <td>1</td>\n",
       "      <td>0</td>\n",
       "      <td>0</td>\n",
       "      <td>4</td>\n",
       "      <td>1</td>\n",
       "      <td>1</td>\n",
       "      <td>1</td>\n",
       "      <td>3</td>\n",
       "    </tr>\n",
       "    <tr>\n",
       "      <td>1</td>\n",
       "      <td>chameleon</td>\n",
       "      <td>0</td>\n",
       "      <td>0</td>\n",
       "      <td>1</td>\n",
       "      <td>0</td>\n",
       "      <td>0</td>\n",
       "      <td>0</td>\n",
       "      <td>0</td>\n",
       "      <td>1</td>\n",
       "      <td>1</td>\n",
       "      <td>1</td>\n",
       "      <td>0</td>\n",
       "      <td>0</td>\n",
       "      <td>4</td>\n",
       "      <td>1</td>\n",
       "      <td>1</td>\n",
       "      <td>0</td>\n",
       "      <td>3</td>\n",
       "    </tr>\n",
       "    <tr>\n",
       "      <td>2</td>\n",
       "      <td>iguana</td>\n",
       "      <td>0</td>\n",
       "      <td>0</td>\n",
       "      <td>1</td>\n",
       "      <td>0</td>\n",
       "      <td>0</td>\n",
       "      <td>0</td>\n",
       "      <td>1</td>\n",
       "      <td>1</td>\n",
       "      <td>1</td>\n",
       "      <td>1</td>\n",
       "      <td>0</td>\n",
       "      <td>0</td>\n",
       "      <td>4</td>\n",
       "      <td>1</td>\n",
       "      <td>1</td>\n",
       "      <td>1</td>\n",
       "      <td>3</td>\n",
       "    </tr>\n",
       "    <tr>\n",
       "      <td>3</td>\n",
       "      <td>lizard</td>\n",
       "      <td>0</td>\n",
       "      <td>0</td>\n",
       "      <td>1</td>\n",
       "      <td>0</td>\n",
       "      <td>0</td>\n",
       "      <td>0</td>\n",
       "      <td>1</td>\n",
       "      <td>1</td>\n",
       "      <td>1</td>\n",
       "      <td>1</td>\n",
       "      <td>0</td>\n",
       "      <td>0</td>\n",
       "      <td>4</td>\n",
       "      <td>1</td>\n",
       "      <td>0</td>\n",
       "      <td>0</td>\n",
       "      <td>3</td>\n",
       "    </tr>\n",
       "    <tr>\n",
       "      <td>4</td>\n",
       "      <td>gecko</td>\n",
       "      <td>0</td>\n",
       "      <td>0</td>\n",
       "      <td>1</td>\n",
       "      <td>0</td>\n",
       "      <td>0</td>\n",
       "      <td>0</td>\n",
       "      <td>0</td>\n",
       "      <td>1</td>\n",
       "      <td>1</td>\n",
       "      <td>1</td>\n",
       "      <td>0</td>\n",
       "      <td>0</td>\n",
       "      <td>4</td>\n",
       "      <td>1</td>\n",
       "      <td>1</td>\n",
       "      <td>0</td>\n",
       "      <td>3</td>\n",
       "    </tr>\n",
       "    <tr>\n",
       "      <td>5</td>\n",
       "      <td>python</td>\n",
       "      <td>0</td>\n",
       "      <td>0</td>\n",
       "      <td>1</td>\n",
       "      <td>0</td>\n",
       "      <td>0</td>\n",
       "      <td>0</td>\n",
       "      <td>1</td>\n",
       "      <td>1</td>\n",
       "      <td>1</td>\n",
       "      <td>1</td>\n",
       "      <td>1</td>\n",
       "      <td>0</td>\n",
       "      <td>0</td>\n",
       "      <td>1</td>\n",
       "      <td>0</td>\n",
       "      <td>1</td>\n",
       "      <td>3</td>\n",
       "    </tr>\n",
       "    <tr>\n",
       "      <td>6</td>\n",
       "      <td>boa</td>\n",
       "      <td>0</td>\n",
       "      <td>0</td>\n",
       "      <td>1</td>\n",
       "      <td>0</td>\n",
       "      <td>0</td>\n",
       "      <td>0</td>\n",
       "      <td>1</td>\n",
       "      <td>1</td>\n",
       "      <td>1</td>\n",
       "      <td>1</td>\n",
       "      <td>0</td>\n",
       "      <td>0</td>\n",
       "      <td>0</td>\n",
       "      <td>1</td>\n",
       "      <td>0</td>\n",
       "      <td>1</td>\n",
       "      <td>3</td>\n",
       "    </tr>\n",
       "    <tr>\n",
       "      <td>7</td>\n",
       "      <td>adder</td>\n",
       "      <td>0</td>\n",
       "      <td>0</td>\n",
       "      <td>1</td>\n",
       "      <td>0</td>\n",
       "      <td>0</td>\n",
       "      <td>0</td>\n",
       "      <td>1</td>\n",
       "      <td>1</td>\n",
       "      <td>1</td>\n",
       "      <td>1</td>\n",
       "      <td>1</td>\n",
       "      <td>0</td>\n",
       "      <td>0</td>\n",
       "      <td>1</td>\n",
       "      <td>0</td>\n",
       "      <td>1</td>\n",
       "      <td>3</td>\n",
       "    </tr>\n",
       "    <tr>\n",
       "      <td>8</td>\n",
       "      <td>crocodile</td>\n",
       "      <td>0</td>\n",
       "      <td>0</td>\n",
       "      <td>1</td>\n",
       "      <td>0</td>\n",
       "      <td>0</td>\n",
       "      <td>1</td>\n",
       "      <td>1</td>\n",
       "      <td>1</td>\n",
       "      <td>1</td>\n",
       "      <td>1</td>\n",
       "      <td>0</td>\n",
       "      <td>0</td>\n",
       "      <td>4</td>\n",
       "      <td>1</td>\n",
       "      <td>0</td>\n",
       "      <td>1</td>\n",
       "      <td>3</td>\n",
       "    </tr>\n",
       "    <tr>\n",
       "      <td>9</td>\n",
       "      <td>alligator</td>\n",
       "      <td>0</td>\n",
       "      <td>0</td>\n",
       "      <td>1</td>\n",
       "      <td>0</td>\n",
       "      <td>0</td>\n",
       "      <td>1</td>\n",
       "      <td>1</td>\n",
       "      <td>1</td>\n",
       "      <td>1</td>\n",
       "      <td>1</td>\n",
       "      <td>0</td>\n",
       "      <td>0</td>\n",
       "      <td>4</td>\n",
       "      <td>1</td>\n",
       "      <td>0</td>\n",
       "      <td>1</td>\n",
       "      <td>3</td>\n",
       "    </tr>\n",
       "    <tr>\n",
       "      <td>10</td>\n",
       "      <td>gharial</td>\n",
       "      <td>0</td>\n",
       "      <td>0</td>\n",
       "      <td>1</td>\n",
       "      <td>0</td>\n",
       "      <td>0</td>\n",
       "      <td>1</td>\n",
       "      <td>1</td>\n",
       "      <td>1</td>\n",
       "      <td>1</td>\n",
       "      <td>1</td>\n",
       "      <td>0</td>\n",
       "      <td>0</td>\n",
       "      <td>4</td>\n",
       "      <td>1</td>\n",
       "      <td>0</td>\n",
       "      <td>1</td>\n",
       "      <td>3</td>\n",
       "    </tr>\n",
       "    <tr>\n",
       "      <td>11</td>\n",
       "      <td>skink</td>\n",
       "      <td>0</td>\n",
       "      <td>0</td>\n",
       "      <td>1</td>\n",
       "      <td>0</td>\n",
       "      <td>0</td>\n",
       "      <td>0</td>\n",
       "      <td>0</td>\n",
       "      <td>1</td>\n",
       "      <td>1</td>\n",
       "      <td>1</td>\n",
       "      <td>0</td>\n",
       "      <td>0</td>\n",
       "      <td>4</td>\n",
       "      <td>1</td>\n",
       "      <td>0</td>\n",
       "      <td>0</td>\n",
       "      <td>3</td>\n",
       "    </tr>\n",
       "    <tr>\n",
       "      <td>12</td>\n",
       "      <td>anchovy</td>\n",
       "      <td>0</td>\n",
       "      <td>0</td>\n",
       "      <td>1</td>\n",
       "      <td>0</td>\n",
       "      <td>0</td>\n",
       "      <td>1</td>\n",
       "      <td>0</td>\n",
       "      <td>0</td>\n",
       "      <td>1</td>\n",
       "      <td>0</td>\n",
       "      <td>0</td>\n",
       "      <td>1</td>\n",
       "      <td>0</td>\n",
       "      <td>1</td>\n",
       "      <td>0</td>\n",
       "      <td>0</td>\n",
       "      <td>4</td>\n",
       "    </tr>\n",
       "    <tr>\n",
       "      <td>13</td>\n",
       "      <td>flounder</td>\n",
       "      <td>0</td>\n",
       "      <td>0</td>\n",
       "      <td>1</td>\n",
       "      <td>0</td>\n",
       "      <td>0</td>\n",
       "      <td>1</td>\n",
       "      <td>0</td>\n",
       "      <td>0</td>\n",
       "      <td>1</td>\n",
       "      <td>0</td>\n",
       "      <td>0</td>\n",
       "      <td>1</td>\n",
       "      <td>0</td>\n",
       "      <td>1</td>\n",
       "      <td>0</td>\n",
       "      <td>1</td>\n",
       "      <td>4</td>\n",
       "    </tr>\n",
       "    <tr>\n",
       "      <td>14</td>\n",
       "      <td>halibut</td>\n",
       "      <td>0</td>\n",
       "      <td>0</td>\n",
       "      <td>1</td>\n",
       "      <td>0</td>\n",
       "      <td>0</td>\n",
       "      <td>1</td>\n",
       "      <td>0</td>\n",
       "      <td>0</td>\n",
       "      <td>1</td>\n",
       "      <td>0</td>\n",
       "      <td>0</td>\n",
       "      <td>1</td>\n",
       "      <td>0</td>\n",
       "      <td>1</td>\n",
       "      <td>0</td>\n",
       "      <td>1</td>\n",
       "      <td>4</td>\n",
       "    </tr>\n",
       "    <tr>\n",
       "      <td>15</td>\n",
       "      <td>mackerel</td>\n",
       "      <td>0</td>\n",
       "      <td>0</td>\n",
       "      <td>1</td>\n",
       "      <td>0</td>\n",
       "      <td>0</td>\n",
       "      <td>1</td>\n",
       "      <td>0</td>\n",
       "      <td>0</td>\n",
       "      <td>1</td>\n",
       "      <td>0</td>\n",
       "      <td>0</td>\n",
       "      <td>1</td>\n",
       "      <td>0</td>\n",
       "      <td>1</td>\n",
       "      <td>0</td>\n",
       "      <td>1</td>\n",
       "      <td>4</td>\n",
       "    </tr>\n",
       "    <tr>\n",
       "      <td>16</td>\n",
       "      <td>barracuda</td>\n",
       "      <td>0</td>\n",
       "      <td>0</td>\n",
       "      <td>1</td>\n",
       "      <td>0</td>\n",
       "      <td>0</td>\n",
       "      <td>1</td>\n",
       "      <td>1</td>\n",
       "      <td>1</td>\n",
       "      <td>1</td>\n",
       "      <td>0</td>\n",
       "      <td>0</td>\n",
       "      <td>1</td>\n",
       "      <td>0</td>\n",
       "      <td>1</td>\n",
       "      <td>0</td>\n",
       "      <td>1</td>\n",
       "      <td>4</td>\n",
       "    </tr>\n",
       "    <tr>\n",
       "      <td>17</td>\n",
       "      <td>marlin</td>\n",
       "      <td>0</td>\n",
       "      <td>0</td>\n",
       "      <td>1</td>\n",
       "      <td>0</td>\n",
       "      <td>0</td>\n",
       "      <td>1</td>\n",
       "      <td>0</td>\n",
       "      <td>0</td>\n",
       "      <td>1</td>\n",
       "      <td>0</td>\n",
       "      <td>0</td>\n",
       "      <td>1</td>\n",
       "      <td>0</td>\n",
       "      <td>1</td>\n",
       "      <td>0</td>\n",
       "      <td>1</td>\n",
       "      <td>4</td>\n",
       "    </tr>\n",
       "    <tr>\n",
       "      <td>18</td>\n",
       "      <td>trout</td>\n",
       "      <td>0</td>\n",
       "      <td>0</td>\n",
       "      <td>1</td>\n",
       "      <td>0</td>\n",
       "      <td>0</td>\n",
       "      <td>1</td>\n",
       "      <td>0</td>\n",
       "      <td>0</td>\n",
       "      <td>1</td>\n",
       "      <td>0</td>\n",
       "      <td>0</td>\n",
       "      <td>1</td>\n",
       "      <td>0</td>\n",
       "      <td>1</td>\n",
       "      <td>0</td>\n",
       "      <td>1</td>\n",
       "      <td>4</td>\n",
       "    </tr>\n",
       "    <tr>\n",
       "      <td>19</td>\n",
       "      <td>salamander</td>\n",
       "      <td>0</td>\n",
       "      <td>0</td>\n",
       "      <td>1</td>\n",
       "      <td>0</td>\n",
       "      <td>0</td>\n",
       "      <td>1</td>\n",
       "      <td>0</td>\n",
       "      <td>1</td>\n",
       "      <td>1</td>\n",
       "      <td>1</td>\n",
       "      <td>0</td>\n",
       "      <td>0</td>\n",
       "      <td>4</td>\n",
       "      <td>1</td>\n",
       "      <td>1</td>\n",
       "      <td>0</td>\n",
       "      <td>5</td>\n",
       "    </tr>\n",
       "    <tr>\n",
       "      <td>20</td>\n",
       "      <td>siren</td>\n",
       "      <td>0</td>\n",
       "      <td>0</td>\n",
       "      <td>1</td>\n",
       "      <td>0</td>\n",
       "      <td>0</td>\n",
       "      <td>1</td>\n",
       "      <td>0</td>\n",
       "      <td>1</td>\n",
       "      <td>1</td>\n",
       "      <td>1</td>\n",
       "      <td>0</td>\n",
       "      <td>0</td>\n",
       "      <td>2</td>\n",
       "      <td>1</td>\n",
       "      <td>0</td>\n",
       "      <td>0</td>\n",
       "      <td>5</td>\n",
       "    </tr>\n",
       "    <tr>\n",
       "      <td>21</td>\n",
       "      <td>tree frog</td>\n",
       "      <td>0</td>\n",
       "      <td>0</td>\n",
       "      <td>1</td>\n",
       "      <td>0</td>\n",
       "      <td>0</td>\n",
       "      <td>1</td>\n",
       "      <td>0</td>\n",
       "      <td>1</td>\n",
       "      <td>1</td>\n",
       "      <td>1</td>\n",
       "      <td>0</td>\n",
       "      <td>0</td>\n",
       "      <td>4</td>\n",
       "      <td>0</td>\n",
       "      <td>0</td>\n",
       "      <td>0</td>\n",
       "      <td>5</td>\n",
       "    </tr>\n",
       "    <tr>\n",
       "      <td>22</td>\n",
       "      <td>dart frog</td>\n",
       "      <td>0</td>\n",
       "      <td>0</td>\n",
       "      <td>1</td>\n",
       "      <td>0</td>\n",
       "      <td>0</td>\n",
       "      <td>1</td>\n",
       "      <td>0</td>\n",
       "      <td>1</td>\n",
       "      <td>1</td>\n",
       "      <td>1</td>\n",
       "      <td>0</td>\n",
       "      <td>0</td>\n",
       "      <td>4</td>\n",
       "      <td>0</td>\n",
       "      <td>0</td>\n",
       "      <td>0</td>\n",
       "      <td>5</td>\n",
       "    </tr>\n",
       "    <tr>\n",
       "      <td>23</td>\n",
       "      <td>firebelly</td>\n",
       "      <td>0</td>\n",
       "      <td>0</td>\n",
       "      <td>1</td>\n",
       "      <td>0</td>\n",
       "      <td>0</td>\n",
       "      <td>1</td>\n",
       "      <td>0</td>\n",
       "      <td>1</td>\n",
       "      <td>1</td>\n",
       "      <td>1</td>\n",
       "      <td>0</td>\n",
       "      <td>0</td>\n",
       "      <td>4</td>\n",
       "      <td>0</td>\n",
       "      <td>0</td>\n",
       "      <td>0</td>\n",
       "      <td>5</td>\n",
       "    </tr>\n",
       "    <tr>\n",
       "      <td>24</td>\n",
       "      <td>wart toad</td>\n",
       "      <td>0</td>\n",
       "      <td>0</td>\n",
       "      <td>1</td>\n",
       "      <td>0</td>\n",
       "      <td>0</td>\n",
       "      <td>1</td>\n",
       "      <td>0</td>\n",
       "      <td>1</td>\n",
       "      <td>1</td>\n",
       "      <td>1</td>\n",
       "      <td>0</td>\n",
       "      <td>0</td>\n",
       "      <td>4</td>\n",
       "      <td>0</td>\n",
       "      <td>0</td>\n",
       "      <td>0</td>\n",
       "      <td>5</td>\n",
       "    </tr>\n",
       "    <tr>\n",
       "      <td>25</td>\n",
       "      <td>mosquito</td>\n",
       "      <td>0</td>\n",
       "      <td>0</td>\n",
       "      <td>1</td>\n",
       "      <td>0</td>\n",
       "      <td>1</td>\n",
       "      <td>0</td>\n",
       "      <td>0</td>\n",
       "      <td>0</td>\n",
       "      <td>0</td>\n",
       "      <td>1</td>\n",
       "      <td>0</td>\n",
       "      <td>0</td>\n",
       "      <td>6</td>\n",
       "      <td>0</td>\n",
       "      <td>0</td>\n",
       "      <td>0</td>\n",
       "      <td>6</td>\n",
       "    </tr>\n",
       "    <tr>\n",
       "      <td>26</td>\n",
       "      <td>hornet</td>\n",
       "      <td>0</td>\n",
       "      <td>0</td>\n",
       "      <td>1</td>\n",
       "      <td>0</td>\n",
       "      <td>1</td>\n",
       "      <td>0</td>\n",
       "      <td>1</td>\n",
       "      <td>0</td>\n",
       "      <td>0</td>\n",
       "      <td>1</td>\n",
       "      <td>1</td>\n",
       "      <td>0</td>\n",
       "      <td>6</td>\n",
       "      <td>0</td>\n",
       "      <td>0</td>\n",
       "      <td>0</td>\n",
       "      <td>6</td>\n",
       "    </tr>\n",
       "    <tr>\n",
       "      <td>27</td>\n",
       "      <td>cricket</td>\n",
       "      <td>0</td>\n",
       "      <td>0</td>\n",
       "      <td>1</td>\n",
       "      <td>0</td>\n",
       "      <td>0</td>\n",
       "      <td>0</td>\n",
       "      <td>0</td>\n",
       "      <td>0</td>\n",
       "      <td>0</td>\n",
       "      <td>1</td>\n",
       "      <td>0</td>\n",
       "      <td>0</td>\n",
       "      <td>6</td>\n",
       "      <td>0</td>\n",
       "      <td>0</td>\n",
       "      <td>0</td>\n",
       "      <td>6</td>\n",
       "    </tr>\n",
       "    <tr>\n",
       "      <td>28</td>\n",
       "      <td>beetle</td>\n",
       "      <td>0</td>\n",
       "      <td>0</td>\n",
       "      <td>1</td>\n",
       "      <td>0</td>\n",
       "      <td>0</td>\n",
       "      <td>0</td>\n",
       "      <td>0</td>\n",
       "      <td>0</td>\n",
       "      <td>0</td>\n",
       "      <td>1</td>\n",
       "      <td>0</td>\n",
       "      <td>0</td>\n",
       "      <td>6</td>\n",
       "      <td>0</td>\n",
       "      <td>0</td>\n",
       "      <td>0</td>\n",
       "      <td>6</td>\n",
       "    </tr>\n",
       "    <tr>\n",
       "      <td>29</td>\n",
       "      <td>butterfly</td>\n",
       "      <td>1</td>\n",
       "      <td>0</td>\n",
       "      <td>1</td>\n",
       "      <td>0</td>\n",
       "      <td>1</td>\n",
       "      <td>0</td>\n",
       "      <td>0</td>\n",
       "      <td>0</td>\n",
       "      <td>0</td>\n",
       "      <td>1</td>\n",
       "      <td>0</td>\n",
       "      <td>0</td>\n",
       "      <td>6</td>\n",
       "      <td>0</td>\n",
       "      <td>0</td>\n",
       "      <td>0</td>\n",
       "      <td>6</td>\n",
       "    </tr>\n",
       "    <tr>\n",
       "      <td>30</td>\n",
       "      <td>palmetto</td>\n",
       "      <td>0</td>\n",
       "      <td>0</td>\n",
       "      <td>1</td>\n",
       "      <td>0</td>\n",
       "      <td>1</td>\n",
       "      <td>0</td>\n",
       "      <td>1</td>\n",
       "      <td>0</td>\n",
       "      <td>0</td>\n",
       "      <td>1</td>\n",
       "      <td>0</td>\n",
       "      <td>0</td>\n",
       "      <td>6</td>\n",
       "      <td>0</td>\n",
       "      <td>0</td>\n",
       "      <td>0</td>\n",
       "      <td>6</td>\n",
       "    </tr>\n",
       "    <tr>\n",
       "      <td>31</td>\n",
       "      <td>cockroach</td>\n",
       "      <td>0</td>\n",
       "      <td>0</td>\n",
       "      <td>1</td>\n",
       "      <td>0</td>\n",
       "      <td>0</td>\n",
       "      <td>0</td>\n",
       "      <td>0</td>\n",
       "      <td>0</td>\n",
       "      <td>0</td>\n",
       "      <td>1</td>\n",
       "      <td>0</td>\n",
       "      <td>0</td>\n",
       "      <td>6</td>\n",
       "      <td>0</td>\n",
       "      <td>0</td>\n",
       "      <td>0</td>\n",
       "      <td>6</td>\n",
       "    </tr>\n",
       "    <tr>\n",
       "      <td>32</td>\n",
       "      <td>mantis</td>\n",
       "      <td>0</td>\n",
       "      <td>0</td>\n",
       "      <td>1</td>\n",
       "      <td>0</td>\n",
       "      <td>0</td>\n",
       "      <td>0</td>\n",
       "      <td>1</td>\n",
       "      <td>0</td>\n",
       "      <td>0</td>\n",
       "      <td>1</td>\n",
       "      <td>0</td>\n",
       "      <td>0</td>\n",
       "      <td>6</td>\n",
       "      <td>0</td>\n",
       "      <td>0</td>\n",
       "      <td>0</td>\n",
       "      <td>6</td>\n",
       "    </tr>\n",
       "    <tr>\n",
       "      <td>33</td>\n",
       "      <td>dragonfly</td>\n",
       "      <td>0</td>\n",
       "      <td>0</td>\n",
       "      <td>1</td>\n",
       "      <td>0</td>\n",
       "      <td>1</td>\n",
       "      <td>0</td>\n",
       "      <td>0</td>\n",
       "      <td>0</td>\n",
       "      <td>0</td>\n",
       "      <td>1</td>\n",
       "      <td>0</td>\n",
       "      <td>0</td>\n",
       "      <td>6</td>\n",
       "      <td>0</td>\n",
       "      <td>0</td>\n",
       "      <td>0</td>\n",
       "      <td>6</td>\n",
       "    </tr>\n",
       "    <tr>\n",
       "      <td>34</td>\n",
       "      <td>aphid</td>\n",
       "      <td>0</td>\n",
       "      <td>0</td>\n",
       "      <td>1</td>\n",
       "      <td>0</td>\n",
       "      <td>0</td>\n",
       "      <td>0</td>\n",
       "      <td>0</td>\n",
       "      <td>0</td>\n",
       "      <td>0</td>\n",
       "      <td>1</td>\n",
       "      <td>0</td>\n",
       "      <td>0</td>\n",
       "      <td>6</td>\n",
       "      <td>0</td>\n",
       "      <td>0</td>\n",
       "      <td>0</td>\n",
       "      <td>6</td>\n",
       "    </tr>\n",
       "    <tr>\n",
       "      <td>35</td>\n",
       "      <td>cicada</td>\n",
       "      <td>0</td>\n",
       "      <td>0</td>\n",
       "      <td>1</td>\n",
       "      <td>0</td>\n",
       "      <td>1</td>\n",
       "      <td>0</td>\n",
       "      <td>0</td>\n",
       "      <td>0</td>\n",
       "      <td>0</td>\n",
       "      <td>1</td>\n",
       "      <td>0</td>\n",
       "      <td>0</td>\n",
       "      <td>6</td>\n",
       "      <td>0</td>\n",
       "      <td>0</td>\n",
       "      <td>0</td>\n",
       "      <td>6</td>\n",
       "    </tr>\n",
       "    <tr>\n",
       "      <td>36</td>\n",
       "      <td>antlion</td>\n",
       "      <td>0</td>\n",
       "      <td>0</td>\n",
       "      <td>1</td>\n",
       "      <td>0</td>\n",
       "      <td>1</td>\n",
       "      <td>0</td>\n",
       "      <td>0</td>\n",
       "      <td>0</td>\n",
       "      <td>0</td>\n",
       "      <td>1</td>\n",
       "      <td>0</td>\n",
       "      <td>0</td>\n",
       "      <td>6</td>\n",
       "      <td>0</td>\n",
       "      <td>0</td>\n",
       "      <td>0</td>\n",
       "      <td>6</td>\n",
       "    </tr>\n",
       "    <tr>\n",
       "      <td>37</td>\n",
       "      <td>scallop</td>\n",
       "      <td>0</td>\n",
       "      <td>0</td>\n",
       "      <td>1</td>\n",
       "      <td>0</td>\n",
       "      <td>0</td>\n",
       "      <td>1</td>\n",
       "      <td>0</td>\n",
       "      <td>0</td>\n",
       "      <td>0</td>\n",
       "      <td>0</td>\n",
       "      <td>0</td>\n",
       "      <td>0</td>\n",
       "      <td>0</td>\n",
       "      <td>0</td>\n",
       "      <td>0</td>\n",
       "      <td>0</td>\n",
       "      <td>7</td>\n",
       "    </tr>\n",
       "    <tr>\n",
       "      <td>38</td>\n",
       "      <td>spider</td>\n",
       "      <td>0</td>\n",
       "      <td>0</td>\n",
       "      <td>1</td>\n",
       "      <td>0</td>\n",
       "      <td>0</td>\n",
       "      <td>0</td>\n",
       "      <td>1</td>\n",
       "      <td>1</td>\n",
       "      <td>0</td>\n",
       "      <td>1</td>\n",
       "      <td>1</td>\n",
       "      <td>0</td>\n",
       "      <td>8</td>\n",
       "      <td>0</td>\n",
       "      <td>0</td>\n",
       "      <td>0</td>\n",
       "      <td>7</td>\n",
       "    </tr>\n",
       "    <tr>\n",
       "      <td>39</td>\n",
       "      <td>snail</td>\n",
       "      <td>0</td>\n",
       "      <td>0</td>\n",
       "      <td>1</td>\n",
       "      <td>0</td>\n",
       "      <td>0</td>\n",
       "      <td>0</td>\n",
       "      <td>0</td>\n",
       "      <td>0</td>\n",
       "      <td>0</td>\n",
       "      <td>1</td>\n",
       "      <td>0</td>\n",
       "      <td>0</td>\n",
       "      <td>0</td>\n",
       "      <td>0</td>\n",
       "      <td>0</td>\n",
       "      <td>0</td>\n",
       "      <td>7</td>\n",
       "    </tr>\n",
       "    <tr>\n",
       "      <td>40</td>\n",
       "      <td>silkworm</td>\n",
       "      <td>0</td>\n",
       "      <td>0</td>\n",
       "      <td>1</td>\n",
       "      <td>0</td>\n",
       "      <td>0</td>\n",
       "      <td>0</td>\n",
       "      <td>0</td>\n",
       "      <td>0</td>\n",
       "      <td>0</td>\n",
       "      <td>1</td>\n",
       "      <td>0</td>\n",
       "      <td>0</td>\n",
       "      <td>0</td>\n",
       "      <td>0</td>\n",
       "      <td>0</td>\n",
       "      <td>0</td>\n",
       "      <td>7</td>\n",
       "    </tr>\n",
       "    <tr>\n",
       "      <td>41</td>\n",
       "      <td>jellyfish</td>\n",
       "      <td>0</td>\n",
       "      <td>0</td>\n",
       "      <td>1</td>\n",
       "      <td>0</td>\n",
       "      <td>0</td>\n",
       "      <td>1</td>\n",
       "      <td>0</td>\n",
       "      <td>0</td>\n",
       "      <td>0</td>\n",
       "      <td>0</td>\n",
       "      <td>1</td>\n",
       "      <td>0</td>\n",
       "      <td>0</td>\n",
       "      <td>0</td>\n",
       "      <td>0</td>\n",
       "      <td>1</td>\n",
       "      <td>7</td>\n",
       "    </tr>\n",
       "    <tr>\n",
       "      <td>42</td>\n",
       "      <td>squid</td>\n",
       "      <td>0</td>\n",
       "      <td>0</td>\n",
       "      <td>1</td>\n",
       "      <td>0</td>\n",
       "      <td>0</td>\n",
       "      <td>1</td>\n",
       "      <td>0</td>\n",
       "      <td>0</td>\n",
       "      <td>0</td>\n",
       "      <td>0</td>\n",
       "      <td>0</td>\n",
       "      <td>0</td>\n",
       "      <td>0</td>\n",
       "      <td>0</td>\n",
       "      <td>0</td>\n",
       "      <td>1</td>\n",
       "      <td>7</td>\n",
       "    </tr>\n",
       "  </tbody>\n",
       "</table>\n",
       "</div>"
      ],
      "text/plain": [
       "   animal_name  hair  feathers  eggs  milk  airborne  aquatic  predator  \\\n",
       "0       turtle     0         0     1     0         0        1         0   \n",
       "1    chameleon     0         0     1     0         0        0         0   \n",
       "2       iguana     0         0     1     0         0        0         1   \n",
       "3       lizard     0         0     1     0         0        0         1   \n",
       "4        gecko     0         0     1     0         0        0         0   \n",
       "5       python     0         0     1     0         0        0         1   \n",
       "6          boa     0         0     1     0         0        0         1   \n",
       "7        adder     0         0     1     0         0        0         1   \n",
       "8    crocodile     0         0     1     0         0        1         1   \n",
       "9    alligator     0         0     1     0         0        1         1   \n",
       "10     gharial     0         0     1     0         0        1         1   \n",
       "11       skink     0         0     1     0         0        0         0   \n",
       "12     anchovy     0         0     1     0         0        1         0   \n",
       "13    flounder     0         0     1     0         0        1         0   \n",
       "14     halibut     0         0     1     0         0        1         0   \n",
       "15    mackerel     0         0     1     0         0        1         0   \n",
       "16   barracuda     0         0     1     0         0        1         1   \n",
       "17      marlin     0         0     1     0         0        1         0   \n",
       "18       trout     0         0     1     0         0        1         0   \n",
       "19  salamander     0         0     1     0         0        1         0   \n",
       "20       siren     0         0     1     0         0        1         0   \n",
       "21   tree frog     0         0     1     0         0        1         0   \n",
       "22   dart frog     0         0     1     0         0        1         0   \n",
       "23   firebelly     0         0     1     0         0        1         0   \n",
       "24   wart toad     0         0     1     0         0        1         0   \n",
       "25    mosquito     0         0     1     0         1        0         0   \n",
       "26      hornet     0         0     1     0         1        0         1   \n",
       "27     cricket     0         0     1     0         0        0         0   \n",
       "28      beetle     0         0     1     0         0        0         0   \n",
       "29   butterfly     1         0     1     0         1        0         0   \n",
       "30    palmetto     0         0     1     0         1        0         1   \n",
       "31   cockroach     0         0     1     0         0        0         0   \n",
       "32      mantis     0         0     1     0         0        0         1   \n",
       "33   dragonfly     0         0     1     0         1        0         0   \n",
       "34       aphid     0         0     1     0         0        0         0   \n",
       "35      cicada     0         0     1     0         1        0         0   \n",
       "36     antlion     0         0     1     0         1        0         0   \n",
       "37     scallop     0         0     1     0         0        1         0   \n",
       "38      spider     0         0     1     0         0        0         1   \n",
       "39       snail     0         0     1     0         0        0         0   \n",
       "40    silkworm     0         0     1     0         0        0         0   \n",
       "41   jellyfish     0         0     1     0         0        1         0   \n",
       "42       squid     0         0     1     0         0        1         0   \n",
       "\n",
       "    toothed  backbone  breathes  venomous  fins  legs  tail  domestic  \\\n",
       "0         0         1         1         0     0     4     1         1   \n",
       "1         1         1         1         0     0     4     1         1   \n",
       "2         1         1         1         0     0     4     1         1   \n",
       "3         1         1         1         0     0     4     1         0   \n",
       "4         1         1         1         0     0     4     1         1   \n",
       "5         1         1         1         1     0     0     1         0   \n",
       "6         1         1         1         0     0     0     1         0   \n",
       "7         1         1         1         1     0     0     1         0   \n",
       "8         1         1         1         0     0     4     1         0   \n",
       "9         1         1         1         0     0     4     1         0   \n",
       "10        1         1         1         0     0     4     1         0   \n",
       "11        1         1         1         0     0     4     1         0   \n",
       "12        0         1         0         0     1     0     1         0   \n",
       "13        0         1         0         0     1     0     1         0   \n",
       "14        0         1         0         0     1     0     1         0   \n",
       "15        0         1         0         0     1     0     1         0   \n",
       "16        1         1         0         0     1     0     1         0   \n",
       "17        0         1         0         0     1     0     1         0   \n",
       "18        0         1         0         0     1     0     1         0   \n",
       "19        1         1         1         0     0     4     1         1   \n",
       "20        1         1         1         0     0     2     1         0   \n",
       "21        1         1         1         0     0     4     0         0   \n",
       "22        1         1         1         0     0     4     0         0   \n",
       "23        1         1         1         0     0     4     0         0   \n",
       "24        1         1         1         0     0     4     0         0   \n",
       "25        0         0         1         0     0     6     0         0   \n",
       "26        0         0         1         1     0     6     0         0   \n",
       "27        0         0         1         0     0     6     0         0   \n",
       "28        0         0         1         0     0     6     0         0   \n",
       "29        0         0         1         0     0     6     0         0   \n",
       "30        0         0         1         0     0     6     0         0   \n",
       "31        0         0         1         0     0     6     0         0   \n",
       "32        0         0         1         0     0     6     0         0   \n",
       "33        0         0         1         0     0     6     0         0   \n",
       "34        0         0         1         0     0     6     0         0   \n",
       "35        0         0         1         0     0     6     0         0   \n",
       "36        0         0         1         0     0     6     0         0   \n",
       "37        0         0         0         0     0     0     0         0   \n",
       "38        1         0         1         1     0     8     0         0   \n",
       "39        0         0         1         0     0     0     0         0   \n",
       "40        0         0         1         0     0     0     0         0   \n",
       "41        0         0         0         1     0     0     0         0   \n",
       "42        0         0         0         0     0     0     0         0   \n",
       "\n",
       "    catsize  class_type  \n",
       "0         1           3  \n",
       "1         0           3  \n",
       "2         1           3  \n",
       "3         0           3  \n",
       "4         0           3  \n",
       "5         1           3  \n",
       "6         1           3  \n",
       "7         1           3  \n",
       "8         1           3  \n",
       "9         1           3  \n",
       "10        1           3  \n",
       "11        0           3  \n",
       "12        0           4  \n",
       "13        1           4  \n",
       "14        1           4  \n",
       "15        1           4  \n",
       "16        1           4  \n",
       "17        1           4  \n",
       "18        1           4  \n",
       "19        0           5  \n",
       "20        0           5  \n",
       "21        0           5  \n",
       "22        0           5  \n",
       "23        0           5  \n",
       "24        0           5  \n",
       "25        0           6  \n",
       "26        0           6  \n",
       "27        0           6  \n",
       "28        0           6  \n",
       "29        0           6  \n",
       "30        0           6  \n",
       "31        0           6  \n",
       "32        0           6  \n",
       "33        0           6  \n",
       "34        0           6  \n",
       "35        0           6  \n",
       "36        0           6  \n",
       "37        0           7  \n",
       "38        0           7  \n",
       "39        0           7  \n",
       "40        0           7  \n",
       "41        1           7  \n",
       "42        1           7  "
      ]
     },
     "execution_count": 5,
     "metadata": {},
     "output_type": "execute_result"
    }
   ],
   "source": [
    "# Вводим имеющиеся данные в программу\n",
    "data"
   ]
  },
  {
   "cell_type": "code",
   "execution_count": 6,
   "metadata": {},
   "outputs": [
    {
     "name": "stdout",
     "output_type": "stream",
     "text": [
      "   animal_name  hair  feathers  eggs  milk  airborne  aquatic  predator  \\\n",
      "0       turtle     0         0     1     0         0        1         0   \n",
      "1    chameleon     0         0     1     0         0        0         0   \n",
      "2       iguana     0         0     1     0         0        0         1   \n",
      "3       lizard     0         0     1     0         0        0         1   \n",
      "4        gecko     0         0     1     0         0        0         0   \n",
      "5       python     0         0     1     0         0        0         1   \n",
      "6          boa     0         0     1     0         0        0         1   \n",
      "7        adder     0         0     1     0         0        0         1   \n",
      "8    crocodile     0         0     1     0         0        1         1   \n",
      "9    alligator     0         0     1     0         0        1         1   \n",
      "10     gharial     0         0     1     0         0        1         1   \n",
      "11       skink     0         0     1     0         0        0         0   \n",
      "12     anchovy     0         0     1     0         0        1         0   \n",
      "13    flounder     0         0     1     0         0        1         0   \n",
      "14     halibut     0         0     1     0         0        1         0   \n",
      "15    mackerel     0         0     1     0         0        1         0   \n",
      "16   barracuda     0         0     1     0         0        1         1   \n",
      "17      marlin     0         0     1     0         0        1         0   \n",
      "18       trout     0         0     1     0         0        1         0   \n",
      "19  salamander     0         0     1     0         0        1         0   \n",
      "20       siren     0         0     1     0         0        1         0   \n",
      "21   tree frog     0         0     1     0         0        1         0   \n",
      "22   dart frog     0         0     1     0         0        1         0   \n",
      "23   firebelly     0         0     1     0         0        1         0   \n",
      "24   wart toad     0         0     1     0         0        1         0   \n",
      "25    mosquito     0         0     1     0         1        0         0   \n",
      "26      hornet     0         0     1     0         1        0         1   \n",
      "27     cricket     0         0     1     0         0        0         0   \n",
      "28      beetle     0         0     1     0         0        0         0   \n",
      "29   butterfly     1         0     1     0         1        0         0   \n",
      "30    palmetto     0         0     1     0         1        0         1   \n",
      "31   cockroach     0         0     1     0         0        0         0   \n",
      "32      mantis     0         0     1     0         0        0         1   \n",
      "33   dragonfly     0         0     1     0         1        0         0   \n",
      "34       aphid     0         0     1     0         0        0         0   \n",
      "35      cicada     0         0     1     0         1        0         0   \n",
      "36     antlion     0         0     1     0         1        0         0   \n",
      "37     scallop     0         0     1     0         0        1         0   \n",
      "38      spider     0         0     1     0         0        0         1   \n",
      "39       snail     0         0     1     0         0        0         0   \n",
      "40    silkworm     0         0     1     0         0        0         0   \n",
      "41   jellyfish     0         0     1     0         0        1         0   \n",
      "42       squid     0         0     1     0         0        1         0   \n",
      "\n",
      "    toothed  backbone  breathes  venomous  fins  legs  tail  domestic  \\\n",
      "0         0         1         1         0     0     4     1         1   \n",
      "1         1         1         1         0     0     4     1         1   \n",
      "2         1         1         1         0     0     4     1         1   \n",
      "3         1         1         1         0     0     4     1         0   \n",
      "4         1         1         1         0     0     4     1         1   \n",
      "5         1         1         1         1     0     0     1         0   \n",
      "6         1         1         1         0     0     0     1         0   \n",
      "7         1         1         1         1     0     0     1         0   \n",
      "8         1         1         1         0     0     4     1         0   \n",
      "9         1         1         1         0     0     4     1         0   \n",
      "10        1         1         1         0     0     4     1         0   \n",
      "11        1         1         1         0     0     4     1         0   \n",
      "12        0         1         0         0     1     0     1         0   \n",
      "13        0         1         0         0     1     0     1         0   \n",
      "14        0         1         0         0     1     0     1         0   \n",
      "15        0         1         0         0     1     0     1         0   \n",
      "16        1         1         0         0     1     0     1         0   \n",
      "17        0         1         0         0     1     0     1         0   \n",
      "18        0         1         0         0     1     0     1         0   \n",
      "19        1         1         1         0     0     4     1         1   \n",
      "20        1         1         1         0     0     2     1         0   \n",
      "21        1         1         1         0     0     4     0         0   \n",
      "22        1         1         1         0     0     4     0         0   \n",
      "23        1         1         1         0     0     4     0         0   \n",
      "24        1         1         1         0     0     4     0         0   \n",
      "25        0         0         1         0     0     6     0         0   \n",
      "26        0         0         1         1     0     6     0         0   \n",
      "27        0         0         1         0     0     6     0         0   \n",
      "28        0         0         1         0     0     6     0         0   \n",
      "29        0         0         1         0     0     6     0         0   \n",
      "30        0         0         1         0     0     6     0         0   \n",
      "31        0         0         1         0     0     6     0         0   \n",
      "32        0         0         1         0     0     6     0         0   \n",
      "33        0         0         1         0     0     6     0         0   \n",
      "34        0         0         1         0     0     6     0         0   \n",
      "35        0         0         1         0     0     6     0         0   \n",
      "36        0         0         1         0     0     6     0         0   \n",
      "37        0         0         0         0     0     0     0         0   \n",
      "38        1         0         1         1     0     8     0         0   \n",
      "39        0         0         1         0     0     0     0         0   \n",
      "40        0         0         1         0     0     0     0         0   \n",
      "41        0         0         0         1     0     0     0         0   \n",
      "42        0         0         0         0     0     0     0         0   \n",
      "\n",
      "    catsize  class_type  \n",
      "0         1           3  \n",
      "1         0           3  \n",
      "2         1           3  \n",
      "3         0           3  \n",
      "4         0           3  \n",
      "5         1           3  \n",
      "6         1           3  \n",
      "7         1           3  \n",
      "8         1           3  \n",
      "9         1           3  \n",
      "10        1           3  \n",
      "11        0           3  \n",
      "12        0           4  \n",
      "13        1           4  \n",
      "14        1           4  \n",
      "15        1           4  \n",
      "16        1           4  \n",
      "17        1           4  \n",
      "18        1           4  \n",
      "19        0           5  \n",
      "20        0           5  \n",
      "21        0           5  \n",
      "22        0           5  \n",
      "23        0           5  \n",
      "24        0           5  \n",
      "25        0           6  \n",
      "26        0           6  \n",
      "27        0           6  \n",
      "28        0           6  \n",
      "29        0           6  \n",
      "30        0           6  \n",
      "31        0           6  \n",
      "32        0           6  \n",
      "33        0           6  \n",
      "34        0           6  \n",
      "35        0           6  \n",
      "36        0           6  \n",
      "37        0           7  \n",
      "38        0           7  \n",
      "39        0           7  \n",
      "40        0           7  \n",
      "41        1           7  \n",
      "42        1           7  \n"
     ]
    }
   ],
   "source": [
    "# Распечатываем данные на экране\n",
    "print(data)"
   ]
  },
  {
   "cell_type": "code",
   "execution_count": 7,
   "metadata": {},
   "outputs": [],
   "source": [
    "# Вводим названия столбцов\n",
    "data.columns = ['animal_name', 'hair', 'feathers', 'eggs', 'milk', 'airborne', 'aquatic', 'predator', \n",
    "                'toothed', 'backbone', 'breathes', 'venomous', 'fins', 'legs', 'tail', 'domestic', \n",
    "                'catsize', 'class_type']"
   ]
  },
  {
   "cell_type": "code",
   "execution_count": 8,
   "metadata": {},
   "outputs": [
    {
     "data": {
      "text/html": [
       "<div>\n",
       "<style scoped>\n",
       "    .dataframe tbody tr th:only-of-type {\n",
       "        vertical-align: middle;\n",
       "    }\n",
       "\n",
       "    .dataframe tbody tr th {\n",
       "        vertical-align: top;\n",
       "    }\n",
       "\n",
       "    .dataframe thead th {\n",
       "        text-align: right;\n",
       "    }\n",
       "</style>\n",
       "<table border=\"1\" class=\"dataframe\">\n",
       "  <thead>\n",
       "    <tr style=\"text-align: right;\">\n",
       "      <th></th>\n",
       "      <th>animal_name</th>\n",
       "      <th>hair</th>\n",
       "      <th>feathers</th>\n",
       "      <th>eggs</th>\n",
       "      <th>milk</th>\n",
       "      <th>airborne</th>\n",
       "      <th>aquatic</th>\n",
       "      <th>predator</th>\n",
       "      <th>toothed</th>\n",
       "      <th>backbone</th>\n",
       "      <th>breathes</th>\n",
       "      <th>venomous</th>\n",
       "      <th>fins</th>\n",
       "      <th>legs</th>\n",
       "      <th>tail</th>\n",
       "      <th>domestic</th>\n",
       "      <th>catsize</th>\n",
       "      <th>class_type</th>\n",
       "    </tr>\n",
       "  </thead>\n",
       "  <tbody>\n",
       "    <tr>\n",
       "      <td>0</td>\n",
       "      <td>turtle</td>\n",
       "      <td>0</td>\n",
       "      <td>0</td>\n",
       "      <td>1</td>\n",
       "      <td>0</td>\n",
       "      <td>0</td>\n",
       "      <td>1</td>\n",
       "      <td>0</td>\n",
       "      <td>0</td>\n",
       "      <td>1</td>\n",
       "      <td>1</td>\n",
       "      <td>0</td>\n",
       "      <td>0</td>\n",
       "      <td>4</td>\n",
       "      <td>1</td>\n",
       "      <td>1</td>\n",
       "      <td>1</td>\n",
       "      <td>3</td>\n",
       "    </tr>\n",
       "    <tr>\n",
       "      <td>1</td>\n",
       "      <td>chameleon</td>\n",
       "      <td>0</td>\n",
       "      <td>0</td>\n",
       "      <td>1</td>\n",
       "      <td>0</td>\n",
       "      <td>0</td>\n",
       "      <td>0</td>\n",
       "      <td>0</td>\n",
       "      <td>1</td>\n",
       "      <td>1</td>\n",
       "      <td>1</td>\n",
       "      <td>0</td>\n",
       "      <td>0</td>\n",
       "      <td>4</td>\n",
       "      <td>1</td>\n",
       "      <td>1</td>\n",
       "      <td>0</td>\n",
       "      <td>3</td>\n",
       "    </tr>\n",
       "    <tr>\n",
       "      <td>2</td>\n",
       "      <td>iguana</td>\n",
       "      <td>0</td>\n",
       "      <td>0</td>\n",
       "      <td>1</td>\n",
       "      <td>0</td>\n",
       "      <td>0</td>\n",
       "      <td>0</td>\n",
       "      <td>1</td>\n",
       "      <td>1</td>\n",
       "      <td>1</td>\n",
       "      <td>1</td>\n",
       "      <td>0</td>\n",
       "      <td>0</td>\n",
       "      <td>4</td>\n",
       "      <td>1</td>\n",
       "      <td>1</td>\n",
       "      <td>1</td>\n",
       "      <td>3</td>\n",
       "    </tr>\n",
       "    <tr>\n",
       "      <td>3</td>\n",
       "      <td>lizard</td>\n",
       "      <td>0</td>\n",
       "      <td>0</td>\n",
       "      <td>1</td>\n",
       "      <td>0</td>\n",
       "      <td>0</td>\n",
       "      <td>0</td>\n",
       "      <td>1</td>\n",
       "      <td>1</td>\n",
       "      <td>1</td>\n",
       "      <td>1</td>\n",
       "      <td>0</td>\n",
       "      <td>0</td>\n",
       "      <td>4</td>\n",
       "      <td>1</td>\n",
       "      <td>0</td>\n",
       "      <td>0</td>\n",
       "      <td>3</td>\n",
       "    </tr>\n",
       "    <tr>\n",
       "      <td>4</td>\n",
       "      <td>gecko</td>\n",
       "      <td>0</td>\n",
       "      <td>0</td>\n",
       "      <td>1</td>\n",
       "      <td>0</td>\n",
       "      <td>0</td>\n",
       "      <td>0</td>\n",
       "      <td>0</td>\n",
       "      <td>1</td>\n",
       "      <td>1</td>\n",
       "      <td>1</td>\n",
       "      <td>0</td>\n",
       "      <td>0</td>\n",
       "      <td>4</td>\n",
       "      <td>1</td>\n",
       "      <td>1</td>\n",
       "      <td>0</td>\n",
       "      <td>3</td>\n",
       "    </tr>\n",
       "  </tbody>\n",
       "</table>\n",
       "</div>"
      ],
      "text/plain": [
       "  animal_name  hair  feathers  eggs  milk  airborne  aquatic  predator  \\\n",
       "0      turtle     0         0     1     0         0        1         0   \n",
       "1   chameleon     0         0     1     0         0        0         0   \n",
       "2      iguana     0         0     1     0         0        0         1   \n",
       "3      lizard     0         0     1     0         0        0         1   \n",
       "4       gecko     0         0     1     0         0        0         0   \n",
       "\n",
       "   toothed  backbone  breathes  venomous  fins  legs  tail  domestic  catsize  \\\n",
       "0        0         1         1         0     0     4     1         1        1   \n",
       "1        1         1         1         0     0     4     1         1        0   \n",
       "2        1         1         1         0     0     4     1         1        1   \n",
       "3        1         1         1         0     0     4     1         0        0   \n",
       "4        1         1         1         0     0     4     1         1        0   \n",
       "\n",
       "   class_type  \n",
       "0           3  \n",
       "1           3  \n",
       "2           3  \n",
       "3           3  \n",
       "4           3  "
      ]
     },
     "execution_count": 8,
     "metadata": {},
     "output_type": "execute_result"
    }
   ],
   "source": [
    "# Выводим начало данных\n",
    "data.head()"
   ]
  },
  {
   "cell_type": "code",
   "execution_count": 9,
   "metadata": {},
   "outputs": [
    {
     "data": {
      "text/html": [
       "<div>\n",
       "<style scoped>\n",
       "    .dataframe tbody tr th:only-of-type {\n",
       "        vertical-align: middle;\n",
       "    }\n",
       "\n",
       "    .dataframe tbody tr th {\n",
       "        vertical-align: top;\n",
       "    }\n",
       "\n",
       "    .dataframe thead th {\n",
       "        text-align: right;\n",
       "    }\n",
       "</style>\n",
       "<table border=\"1\" class=\"dataframe\">\n",
       "  <thead>\n",
       "    <tr style=\"text-align: right;\">\n",
       "      <th></th>\n",
       "      <th>animal_name</th>\n",
       "      <th>hair</th>\n",
       "      <th>feathers</th>\n",
       "      <th>eggs</th>\n",
       "      <th>milk</th>\n",
       "      <th>airborne</th>\n",
       "      <th>aquatic</th>\n",
       "      <th>predator</th>\n",
       "      <th>toothed</th>\n",
       "      <th>backbone</th>\n",
       "      <th>breathes</th>\n",
       "      <th>venomous</th>\n",
       "      <th>fins</th>\n",
       "      <th>legs</th>\n",
       "      <th>tail</th>\n",
       "      <th>domestic</th>\n",
       "      <th>catsize</th>\n",
       "      <th>class_type</th>\n",
       "    </tr>\n",
       "  </thead>\n",
       "  <tbody>\n",
       "    <tr>\n",
       "      <td>38</td>\n",
       "      <td>spider</td>\n",
       "      <td>0</td>\n",
       "      <td>0</td>\n",
       "      <td>1</td>\n",
       "      <td>0</td>\n",
       "      <td>0</td>\n",
       "      <td>0</td>\n",
       "      <td>1</td>\n",
       "      <td>1</td>\n",
       "      <td>0</td>\n",
       "      <td>1</td>\n",
       "      <td>1</td>\n",
       "      <td>0</td>\n",
       "      <td>8</td>\n",
       "      <td>0</td>\n",
       "      <td>0</td>\n",
       "      <td>0</td>\n",
       "      <td>7</td>\n",
       "    </tr>\n",
       "    <tr>\n",
       "      <td>39</td>\n",
       "      <td>snail</td>\n",
       "      <td>0</td>\n",
       "      <td>0</td>\n",
       "      <td>1</td>\n",
       "      <td>0</td>\n",
       "      <td>0</td>\n",
       "      <td>0</td>\n",
       "      <td>0</td>\n",
       "      <td>0</td>\n",
       "      <td>0</td>\n",
       "      <td>1</td>\n",
       "      <td>0</td>\n",
       "      <td>0</td>\n",
       "      <td>0</td>\n",
       "      <td>0</td>\n",
       "      <td>0</td>\n",
       "      <td>0</td>\n",
       "      <td>7</td>\n",
       "    </tr>\n",
       "    <tr>\n",
       "      <td>40</td>\n",
       "      <td>silkworm</td>\n",
       "      <td>0</td>\n",
       "      <td>0</td>\n",
       "      <td>1</td>\n",
       "      <td>0</td>\n",
       "      <td>0</td>\n",
       "      <td>0</td>\n",
       "      <td>0</td>\n",
       "      <td>0</td>\n",
       "      <td>0</td>\n",
       "      <td>1</td>\n",
       "      <td>0</td>\n",
       "      <td>0</td>\n",
       "      <td>0</td>\n",
       "      <td>0</td>\n",
       "      <td>0</td>\n",
       "      <td>0</td>\n",
       "      <td>7</td>\n",
       "    </tr>\n",
       "    <tr>\n",
       "      <td>41</td>\n",
       "      <td>jellyfish</td>\n",
       "      <td>0</td>\n",
       "      <td>0</td>\n",
       "      <td>1</td>\n",
       "      <td>0</td>\n",
       "      <td>0</td>\n",
       "      <td>1</td>\n",
       "      <td>0</td>\n",
       "      <td>0</td>\n",
       "      <td>0</td>\n",
       "      <td>0</td>\n",
       "      <td>1</td>\n",
       "      <td>0</td>\n",
       "      <td>0</td>\n",
       "      <td>0</td>\n",
       "      <td>0</td>\n",
       "      <td>1</td>\n",
       "      <td>7</td>\n",
       "    </tr>\n",
       "    <tr>\n",
       "      <td>42</td>\n",
       "      <td>squid</td>\n",
       "      <td>0</td>\n",
       "      <td>0</td>\n",
       "      <td>1</td>\n",
       "      <td>0</td>\n",
       "      <td>0</td>\n",
       "      <td>1</td>\n",
       "      <td>0</td>\n",
       "      <td>0</td>\n",
       "      <td>0</td>\n",
       "      <td>0</td>\n",
       "      <td>0</td>\n",
       "      <td>0</td>\n",
       "      <td>0</td>\n",
       "      <td>0</td>\n",
       "      <td>0</td>\n",
       "      <td>1</td>\n",
       "      <td>7</td>\n",
       "    </tr>\n",
       "  </tbody>\n",
       "</table>\n",
       "</div>"
      ],
      "text/plain": [
       "   animal_name  hair  feathers  eggs  milk  airborne  aquatic  predator  \\\n",
       "38      spider     0         0     1     0         0        0         1   \n",
       "39       snail     0         0     1     0         0        0         0   \n",
       "40    silkworm     0         0     1     0         0        0         0   \n",
       "41   jellyfish     0         0     1     0         0        1         0   \n",
       "42       squid     0         0     1     0         0        1         0   \n",
       "\n",
       "    toothed  backbone  breathes  venomous  fins  legs  tail  domestic  \\\n",
       "38        1         0         1         1     0     8     0         0   \n",
       "39        0         0         1         0     0     0     0         0   \n",
       "40        0         0         1         0     0     0     0         0   \n",
       "41        0         0         0         1     0     0     0         0   \n",
       "42        0         0         0         0     0     0     0         0   \n",
       "\n",
       "    catsize  class_type  \n",
       "38        0           7  \n",
       "39        0           7  \n",
       "40        0           7  \n",
       "41        1           7  \n",
       "42        1           7  "
      ]
     },
     "execution_count": 9,
     "metadata": {},
     "output_type": "execute_result"
    }
   ],
   "source": [
    "# Выводим конец данных\n",
    "data.tail()"
   ]
  },
  {
   "cell_type": "code",
   "execution_count": 10,
   "metadata": {},
   "outputs": [
    {
     "name": "stdout",
     "output_type": "stream",
     "text": [
      "(43, 18)\n",
      "Index(['animal_name', 'hair', 'feathers', 'eggs', 'milk', 'airborne',\n",
      "       'aquatic', 'predator', 'toothed', 'backbone', 'breathes', 'venomous',\n",
      "       'fins', 'legs', 'tail', 'domestic', 'catsize', 'class_type'],\n",
      "      dtype='object')\n"
     ]
    }
   ],
   "source": [
    "# Выводим информацию о количестве строк, столбцов, названии столбцов и типе данных\n",
    "print(data.shape)\n",
    "print(data.columns)"
   ]
  },
  {
   "cell_type": "code",
   "execution_count": 11,
   "metadata": {},
   "outputs": [
    {
     "data": {
      "text/plain": [
       "RangeIndex(start=0, stop=43, step=1)"
      ]
     },
     "execution_count": 11,
     "metadata": {},
     "output_type": "execute_result"
    }
   ],
   "source": [
    "# Показываем, гле начинается и где заканчивается чтение данных, с каким шагом движемся по данным\n",
    "data.index"
   ]
  },
  {
   "cell_type": "code",
   "execution_count": 14,
   "metadata": {},
   "outputs": [
    {
     "data": {
      "text/plain": [
       "1"
      ]
     },
     "execution_count": 14,
     "metadata": {},
     "output_type": "execute_result"
    }
   ],
   "source": [
    "# Выводим информацию из заданной строки и столбца\n",
    "data.at[2, 'backbone']"
   ]
  },
  {
   "cell_type": "code",
   "execution_count": 15,
   "metadata": {},
   "outputs": [
    {
     "data": {
      "text/plain": [
       "0     1\n",
       "1     1\n",
       "2     1\n",
       "3     1\n",
       "4     1\n",
       "5     1\n",
       "6     1\n",
       "7     1\n",
       "8     1\n",
       "9     1\n",
       "10    1\n",
       "11    1\n",
       "12    1\n",
       "13    1\n",
       "14    1\n",
       "15    1\n",
       "16    1\n",
       "17    1\n",
       "18    1\n",
       "19    1\n",
       "20    1\n",
       "21    1\n",
       "22    1\n",
       "23    1\n",
       "24    1\n",
       "25    0\n",
       "26    0\n",
       "27    0\n",
       "28    0\n",
       "29    0\n",
       "30    0\n",
       "31    0\n",
       "32    0\n",
       "33    0\n",
       "34    0\n",
       "35    0\n",
       "36    0\n",
       "37    0\n",
       "38    0\n",
       "39    0\n",
       "40    0\n",
       "41    0\n",
       "42    0\n",
       "Name: backbone, dtype: int64"
      ]
     },
     "execution_count": 15,
     "metadata": {},
     "output_type": "execute_result"
    }
   ],
   "source": [
    "# Выводим информацию всего заданного столбца\n",
    "data['backbone']"
   ]
  },
  {
   "cell_type": "code",
   "execution_count": 16,
   "metadata": {},
   "outputs": [
    {
     "data": {
      "text/plain": [
       "0"
      ]
     },
     "execution_count": 16,
     "metadata": {},
     "output_type": "execute_result"
    }
   ],
   "source": [
    "# Выводим информацию из заданной строки и столбца\n",
    "data['backbone'][25]"
   ]
  },
  {
   "cell_type": "code",
   "execution_count": 17,
   "metadata": {},
   "outputs": [
    {
     "data": {
      "text/plain": [
       "'int64'"
      ]
     },
     "execution_count": 17,
     "metadata": {},
     "output_type": "execute_result"
    }
   ],
   "source": [
    "# Указываем тип данных в интересующем столбце\n",
    "data['legs'].dtype.name"
   ]
  },
  {
   "cell_type": "code",
   "execution_count": 18,
   "metadata": {},
   "outputs": [
    {
     "data": {
      "text/plain": [
       "str"
      ]
     },
     "execution_count": 18,
     "metadata": {},
     "output_type": "execute_result"
    }
   ],
   "source": [
    "# Указываем тип данных в заданном столбце и строке\n",
    "type(data['animal_name'][2])"
   ]
  },
  {
   "cell_type": "code",
   "execution_count": 19,
   "metadata": {},
   "outputs": [
    {
     "data": {
      "text/plain": [
       "pandas.core.series.Series"
      ]
     },
     "execution_count": 19,
     "metadata": {},
     "output_type": "execute_result"
    }
   ],
   "source": [
    "type(data['animal_name'])"
   ]
  },
  {
   "cell_type": "code",
   "execution_count": 20,
   "metadata": {},
   "outputs": [
    {
     "data": {
      "text/html": [
       "<div>\n",
       "<style scoped>\n",
       "    .dataframe tbody tr th:only-of-type {\n",
       "        vertical-align: middle;\n",
       "    }\n",
       "\n",
       "    .dataframe tbody tr th {\n",
       "        vertical-align: top;\n",
       "    }\n",
       "\n",
       "    .dataframe thead th {\n",
       "        text-align: right;\n",
       "    }\n",
       "</style>\n",
       "<table border=\"1\" class=\"dataframe\">\n",
       "  <thead>\n",
       "    <tr style=\"text-align: right;\">\n",
       "      <th></th>\n",
       "      <th>animal_name</th>\n",
       "      <th>predator</th>\n",
       "    </tr>\n",
       "  </thead>\n",
       "  <tbody>\n",
       "    <tr>\n",
       "      <td>0</td>\n",
       "      <td>turtle</td>\n",
       "      <td>0</td>\n",
       "    </tr>\n",
       "    <tr>\n",
       "      <td>1</td>\n",
       "      <td>chameleon</td>\n",
       "      <td>0</td>\n",
       "    </tr>\n",
       "    <tr>\n",
       "      <td>2</td>\n",
       "      <td>iguana</td>\n",
       "      <td>1</td>\n",
       "    </tr>\n",
       "    <tr>\n",
       "      <td>3</td>\n",
       "      <td>lizard</td>\n",
       "      <td>1</td>\n",
       "    </tr>\n",
       "    <tr>\n",
       "      <td>4</td>\n",
       "      <td>gecko</td>\n",
       "      <td>0</td>\n",
       "    </tr>\n",
       "  </tbody>\n",
       "</table>\n",
       "</div>"
      ],
      "text/plain": [
       "  animal_name  predator\n",
       "0      turtle         0\n",
       "1   chameleon         0\n",
       "2      iguana         1\n",
       "3      lizard         1\n",
       "4       gecko         0"
      ]
     },
     "execution_count": 20,
     "metadata": {},
     "output_type": "execute_result"
    }
   ],
   "source": [
    "# Выводим информацию о двух интересующих столбцах (только начало таблицы)\n",
    "data[['animal_name', 'predator']].head()"
   ]
  },
  {
   "cell_type": "code",
   "execution_count": 21,
   "metadata": {},
   "outputs": [
    {
     "data": {
      "text/html": [
       "<div>\n",
       "<style scoped>\n",
       "    .dataframe tbody tr th:only-of-type {\n",
       "        vertical-align: middle;\n",
       "    }\n",
       "\n",
       "    .dataframe tbody tr th {\n",
       "        vertical-align: top;\n",
       "    }\n",
       "\n",
       "    .dataframe thead th {\n",
       "        text-align: right;\n",
       "    }\n",
       "</style>\n",
       "<table border=\"1\" class=\"dataframe\">\n",
       "  <thead>\n",
       "    <tr style=\"text-align: right;\">\n",
       "      <th></th>\n",
       "      <th>hair</th>\n",
       "      <th>feathers</th>\n",
       "      <th>eggs</th>\n",
       "      <th>milk</th>\n",
       "      <th>airborne</th>\n",
       "      <th>aquatic</th>\n",
       "      <th>predator</th>\n",
       "      <th>toothed</th>\n",
       "      <th>backbone</th>\n",
       "      <th>breathes</th>\n",
       "      <th>venomous</th>\n",
       "      <th>fins</th>\n",
       "      <th>legs</th>\n",
       "      <th>tail</th>\n",
       "      <th>domestic</th>\n",
       "      <th>catsize</th>\n",
       "      <th>class_type</th>\n",
       "    </tr>\n",
       "  </thead>\n",
       "  <tbody>\n",
       "    <tr>\n",
       "      <td>count</td>\n",
       "      <td>43.000000</td>\n",
       "      <td>43.0</td>\n",
       "      <td>43.0</td>\n",
       "      <td>43.0</td>\n",
       "      <td>43.000000</td>\n",
       "      <td>43.000000</td>\n",
       "      <td>43.000000</td>\n",
       "      <td>43.000000</td>\n",
       "      <td>43.000000</td>\n",
       "      <td>43.000000</td>\n",
       "      <td>43.000000</td>\n",
       "      <td>43.000000</td>\n",
       "      <td>43.000000</td>\n",
       "      <td>43.000000</td>\n",
       "      <td>43.000000</td>\n",
       "      <td>43.000000</td>\n",
       "      <td>43.000000</td>\n",
       "    </tr>\n",
       "    <tr>\n",
       "      <td>mean</td>\n",
       "      <td>0.023256</td>\n",
       "      <td>0.0</td>\n",
       "      <td>1.0</td>\n",
       "      <td>0.0</td>\n",
       "      <td>0.162791</td>\n",
       "      <td>0.465116</td>\n",
       "      <td>0.302326</td>\n",
       "      <td>0.441860</td>\n",
       "      <td>0.581395</td>\n",
       "      <td>0.767442</td>\n",
       "      <td>0.116279</td>\n",
       "      <td>0.162791</td>\n",
       "      <td>3.209302</td>\n",
       "      <td>0.488372</td>\n",
       "      <td>0.116279</td>\n",
       "      <td>0.372093</td>\n",
       "      <td>4.837209</td>\n",
       "    </tr>\n",
       "    <tr>\n",
       "      <td>std</td>\n",
       "      <td>0.152499</td>\n",
       "      <td>0.0</td>\n",
       "      <td>0.0</td>\n",
       "      <td>0.0</td>\n",
       "      <td>0.373544</td>\n",
       "      <td>0.504685</td>\n",
       "      <td>0.464701</td>\n",
       "      <td>0.502486</td>\n",
       "      <td>0.499169</td>\n",
       "      <td>0.427463</td>\n",
       "      <td>0.324353</td>\n",
       "      <td>0.373544</td>\n",
       "      <td>2.587131</td>\n",
       "      <td>0.505781</td>\n",
       "      <td>0.324353</td>\n",
       "      <td>0.489083</td>\n",
       "      <td>1.462715</td>\n",
       "    </tr>\n",
       "    <tr>\n",
       "      <td>min</td>\n",
       "      <td>0.000000</td>\n",
       "      <td>0.0</td>\n",
       "      <td>1.0</td>\n",
       "      <td>0.0</td>\n",
       "      <td>0.000000</td>\n",
       "      <td>0.000000</td>\n",
       "      <td>0.000000</td>\n",
       "      <td>0.000000</td>\n",
       "      <td>0.000000</td>\n",
       "      <td>0.000000</td>\n",
       "      <td>0.000000</td>\n",
       "      <td>0.000000</td>\n",
       "      <td>0.000000</td>\n",
       "      <td>0.000000</td>\n",
       "      <td>0.000000</td>\n",
       "      <td>0.000000</td>\n",
       "      <td>3.000000</td>\n",
       "    </tr>\n",
       "    <tr>\n",
       "      <td>25%</td>\n",
       "      <td>0.000000</td>\n",
       "      <td>0.0</td>\n",
       "      <td>1.0</td>\n",
       "      <td>0.0</td>\n",
       "      <td>0.000000</td>\n",
       "      <td>0.000000</td>\n",
       "      <td>0.000000</td>\n",
       "      <td>0.000000</td>\n",
       "      <td>0.000000</td>\n",
       "      <td>1.000000</td>\n",
       "      <td>0.000000</td>\n",
       "      <td>0.000000</td>\n",
       "      <td>0.000000</td>\n",
       "      <td>0.000000</td>\n",
       "      <td>0.000000</td>\n",
       "      <td>0.000000</td>\n",
       "      <td>3.000000</td>\n",
       "    </tr>\n",
       "    <tr>\n",
       "      <td>50%</td>\n",
       "      <td>0.000000</td>\n",
       "      <td>0.0</td>\n",
       "      <td>1.0</td>\n",
       "      <td>0.0</td>\n",
       "      <td>0.000000</td>\n",
       "      <td>0.000000</td>\n",
       "      <td>0.000000</td>\n",
       "      <td>0.000000</td>\n",
       "      <td>1.000000</td>\n",
       "      <td>1.000000</td>\n",
       "      <td>0.000000</td>\n",
       "      <td>0.000000</td>\n",
       "      <td>4.000000</td>\n",
       "      <td>0.000000</td>\n",
       "      <td>0.000000</td>\n",
       "      <td>0.000000</td>\n",
       "      <td>5.000000</td>\n",
       "    </tr>\n",
       "    <tr>\n",
       "      <td>75%</td>\n",
       "      <td>0.000000</td>\n",
       "      <td>0.0</td>\n",
       "      <td>1.0</td>\n",
       "      <td>0.0</td>\n",
       "      <td>0.000000</td>\n",
       "      <td>1.000000</td>\n",
       "      <td>1.000000</td>\n",
       "      <td>1.000000</td>\n",
       "      <td>1.000000</td>\n",
       "      <td>1.000000</td>\n",
       "      <td>0.000000</td>\n",
       "      <td>0.000000</td>\n",
       "      <td>6.000000</td>\n",
       "      <td>1.000000</td>\n",
       "      <td>0.000000</td>\n",
       "      <td>1.000000</td>\n",
       "      <td>6.000000</td>\n",
       "    </tr>\n",
       "    <tr>\n",
       "      <td>max</td>\n",
       "      <td>1.000000</td>\n",
       "      <td>0.0</td>\n",
       "      <td>1.0</td>\n",
       "      <td>0.0</td>\n",
       "      <td>1.000000</td>\n",
       "      <td>1.000000</td>\n",
       "      <td>1.000000</td>\n",
       "      <td>1.000000</td>\n",
       "      <td>1.000000</td>\n",
       "      <td>1.000000</td>\n",
       "      <td>1.000000</td>\n",
       "      <td>1.000000</td>\n",
       "      <td>8.000000</td>\n",
       "      <td>1.000000</td>\n",
       "      <td>1.000000</td>\n",
       "      <td>1.000000</td>\n",
       "      <td>7.000000</td>\n",
       "    </tr>\n",
       "  </tbody>\n",
       "</table>\n",
       "</div>"
      ],
      "text/plain": [
       "            hair  feathers  eggs  milk   airborne    aquatic   predator  \\\n",
       "count  43.000000      43.0  43.0  43.0  43.000000  43.000000  43.000000   \n",
       "mean    0.023256       0.0   1.0   0.0   0.162791   0.465116   0.302326   \n",
       "std     0.152499       0.0   0.0   0.0   0.373544   0.504685   0.464701   \n",
       "min     0.000000       0.0   1.0   0.0   0.000000   0.000000   0.000000   \n",
       "25%     0.000000       0.0   1.0   0.0   0.000000   0.000000   0.000000   \n",
       "50%     0.000000       0.0   1.0   0.0   0.000000   0.000000   0.000000   \n",
       "75%     0.000000       0.0   1.0   0.0   0.000000   1.000000   1.000000   \n",
       "max     1.000000       0.0   1.0   0.0   1.000000   1.000000   1.000000   \n",
       "\n",
       "         toothed   backbone   breathes   venomous       fins       legs  \\\n",
       "count  43.000000  43.000000  43.000000  43.000000  43.000000  43.000000   \n",
       "mean    0.441860   0.581395   0.767442   0.116279   0.162791   3.209302   \n",
       "std     0.502486   0.499169   0.427463   0.324353   0.373544   2.587131   \n",
       "min     0.000000   0.000000   0.000000   0.000000   0.000000   0.000000   \n",
       "25%     0.000000   0.000000   1.000000   0.000000   0.000000   0.000000   \n",
       "50%     0.000000   1.000000   1.000000   0.000000   0.000000   4.000000   \n",
       "75%     1.000000   1.000000   1.000000   0.000000   0.000000   6.000000   \n",
       "max     1.000000   1.000000   1.000000   1.000000   1.000000   8.000000   \n",
       "\n",
       "            tail   domestic    catsize  class_type  \n",
       "count  43.000000  43.000000  43.000000   43.000000  \n",
       "mean    0.488372   0.116279   0.372093    4.837209  \n",
       "std     0.505781   0.324353   0.489083    1.462715  \n",
       "min     0.000000   0.000000   0.000000    3.000000  \n",
       "25%     0.000000   0.000000   0.000000    3.000000  \n",
       "50%     0.000000   0.000000   0.000000    5.000000  \n",
       "75%     1.000000   0.000000   1.000000    6.000000  \n",
       "max     1.000000   1.000000   1.000000    7.000000  "
      ]
     },
     "execution_count": 21,
     "metadata": {},
     "output_type": "execute_result"
    }
   ],
   "source": [
    "# Смотрим на описание характеристик, статистические данные\n",
    "data.describe()"
   ]
  },
  {
   "cell_type": "code",
   "execution_count": 22,
   "metadata": {},
   "outputs": [
    {
     "name": "stderr",
     "output_type": "stream",
     "text": [
      "C:\\Users\\Lenovo\\Documents\\Anaconda\\lib\\site-packages\\pandas\\plotting\\_matplotlib\\misc.py:80: UserWarning: Attempting to set identical left == right == 0.0 results in singular transformations; automatically expanding.\n",
      "  ax.set_xlim(boundaries_list[j])\n",
      "C:\\Users\\Lenovo\\Documents\\Anaconda\\lib\\site-packages\\pandas\\plotting\\_matplotlib\\misc.py:80: UserWarning: Attempting to set identical left == right == 1.0 results in singular transformations; automatically expanding.\n",
      "  ax.set_xlim(boundaries_list[j])\n",
      "C:\\Users\\Lenovo\\Documents\\Anaconda\\lib\\site-packages\\pandas\\plotting\\_matplotlib\\misc.py:81: UserWarning: Attempting to set identical bottom == top == 0.0 results in singular transformations; automatically expanding.\n",
      "  ax.set_ylim(boundaries_list[i])\n",
      "C:\\Users\\Lenovo\\Documents\\Anaconda\\lib\\site-packages\\pandas\\plotting\\_matplotlib\\misc.py:71: UserWarning: Attempting to set identical left == right == 0.0 results in singular transformations; automatically expanding.\n",
      "  ax.set_xlim(boundaries_list[i])\n",
      "C:\\Users\\Lenovo\\Documents\\Anaconda\\lib\\site-packages\\pandas\\plotting\\_matplotlib\\misc.py:81: UserWarning: Attempting to set identical bottom == top == 1.0 results in singular transformations; automatically expanding.\n",
      "  ax.set_ylim(boundaries_list[i])\n",
      "C:\\Users\\Lenovo\\Documents\\Anaconda\\lib\\site-packages\\pandas\\plotting\\_matplotlib\\misc.py:71: UserWarning: Attempting to set identical left == right == 1.0 results in singular transformations; automatically expanding.\n",
      "  ax.set_xlim(boundaries_list[i])\n"
     ]
    },
    {
     "data": {
      "image/png": "[encoded data removed]",
      "text/plain": [
       "<Figure size 720x720 with 289 Axes>"
      ]
     },
     "metadata": {
      "needs_background": "light"
     },
     "output_type": "display_data"
    }
   ],
   "source": [
    "# Строим ковариационную матрицу\n",
    "from pandas.plotting import scatter_matrix\n",
    "scatter_matrix(data, alpha = .01, figsize = (10, 10))\n",
    "pass"
   ]
  },
  {
   "cell_type": "code",
   "execution_count": 23,
   "metadata": {},
   "outputs": [
    {
     "data": {
      "text/html": [
       "<div>\n",
       "<style scoped>\n",
       "    .dataframe tbody tr th:only-of-type {\n",
       "        vertical-align: middle;\n",
       "    }\n",
       "\n",
       "    .dataframe tbody tr th {\n",
       "        vertical-align: top;\n",
       "    }\n",
       "\n",
       "    .dataframe thead th {\n",
       "        text-align: right;\n",
       "    }\n",
       "</style>\n",
       "<table border=\"1\" class=\"dataframe\">\n",
       "  <thead>\n",
       "    <tr style=\"text-align: right;\">\n",
       "      <th></th>\n",
       "      <th>hair</th>\n",
       "      <th>feathers</th>\n",
       "      <th>eggs</th>\n",
       "      <th>milk</th>\n",
       "      <th>airborne</th>\n",
       "      <th>aquatic</th>\n",
       "      <th>predator</th>\n",
       "      <th>toothed</th>\n",
       "      <th>backbone</th>\n",
       "      <th>breathes</th>\n",
       "      <th>venomous</th>\n",
       "      <th>fins</th>\n",
       "      <th>legs</th>\n",
       "      <th>tail</th>\n",
       "      <th>domestic</th>\n",
       "      <th>catsize</th>\n",
       "      <th>class_type</th>\n",
       "    </tr>\n",
       "  </thead>\n",
       "  <tbody>\n",
       "    <tr>\n",
       "      <td>hair</td>\n",
       "      <td>1.000000</td>\n",
       "      <td>NaN</td>\n",
       "      <td>NaN</td>\n",
       "      <td>NaN</td>\n",
       "      <td>0.349927</td>\n",
       "      <td>-0.143889</td>\n",
       "      <td>-0.101575</td>\n",
       "      <td>-0.137292</td>\n",
       "      <td>-0.181848</td>\n",
       "      <td>0.084941</td>\n",
       "      <td>-0.055972</td>\n",
       "      <td>-0.068041</td>\n",
       "      <td>0.168414</td>\n",
       "      <td>-0.150756</td>\n",
       "      <td>-0.055972</td>\n",
       "      <td>-0.118783</td>\n",
       "      <td>0.124116</td>\n",
       "    </tr>\n",
       "    <tr>\n",
       "      <td>feathers</td>\n",
       "      <td>NaN</td>\n",
       "      <td>NaN</td>\n",
       "      <td>NaN</td>\n",
       "      <td>NaN</td>\n",
       "      <td>NaN</td>\n",
       "      <td>NaN</td>\n",
       "      <td>NaN</td>\n",
       "      <td>NaN</td>\n",
       "      <td>NaN</td>\n",
       "      <td>NaN</td>\n",
       "      <td>NaN</td>\n",
       "      <td>NaN</td>\n",
       "      <td>NaN</td>\n",
       "      <td>NaN</td>\n",
       "      <td>NaN</td>\n",
       "      <td>NaN</td>\n",
       "      <td>NaN</td>\n",
       "    </tr>\n",
       "    <tr>\n",
       "      <td>eggs</td>\n",
       "      <td>NaN</td>\n",
       "      <td>NaN</td>\n",
       "      <td>NaN</td>\n",
       "      <td>NaN</td>\n",
       "      <td>NaN</td>\n",
       "      <td>NaN</td>\n",
       "      <td>NaN</td>\n",
       "      <td>NaN</td>\n",
       "      <td>NaN</td>\n",
       "      <td>NaN</td>\n",
       "      <td>NaN</td>\n",
       "      <td>NaN</td>\n",
       "      <td>NaN</td>\n",
       "      <td>NaN</td>\n",
       "      <td>NaN</td>\n",
       "      <td>NaN</td>\n",
       "      <td>NaN</td>\n",
       "    </tr>\n",
       "    <tr>\n",
       "      <td>milk</td>\n",
       "      <td>NaN</td>\n",
       "      <td>NaN</td>\n",
       "      <td>NaN</td>\n",
       "      <td>NaN</td>\n",
       "      <td>NaN</td>\n",
       "      <td>NaN</td>\n",
       "      <td>NaN</td>\n",
       "      <td>NaN</td>\n",
       "      <td>NaN</td>\n",
       "      <td>NaN</td>\n",
       "      <td>NaN</td>\n",
       "      <td>NaN</td>\n",
       "      <td>NaN</td>\n",
       "      <td>NaN</td>\n",
       "      <td>NaN</td>\n",
       "      <td>NaN</td>\n",
       "      <td>NaN</td>\n",
       "    </tr>\n",
       "    <tr>\n",
       "      <td>airborne</td>\n",
       "      <td>0.349927</td>\n",
       "      <td>NaN</td>\n",
       "      <td>NaN</td>\n",
       "      <td>NaN</td>\n",
       "      <td>1.000000</td>\n",
       "      <td>-0.411196</td>\n",
       "      <td>-0.015949</td>\n",
       "      <td>-0.392346</td>\n",
       "      <td>-0.519675</td>\n",
       "      <td>0.242740</td>\n",
       "      <td>0.036561</td>\n",
       "      <td>-0.194444</td>\n",
       "      <td>0.481284</td>\n",
       "      <td>-0.430820</td>\n",
       "      <td>-0.159952</td>\n",
       "      <td>-0.339450</td>\n",
       "      <td>0.354690</td>\n",
       "    </tr>\n",
       "    <tr>\n",
       "      <td>aquatic</td>\n",
       "      <td>-0.143889</td>\n",
       "      <td>NaN</td>\n",
       "      <td>NaN</td>\n",
       "      <td>NaN</td>\n",
       "      <td>-0.411196</td>\n",
       "      <td>1.000000</td>\n",
       "      <td>-0.207765</td>\n",
       "      <td>0.109171</td>\n",
       "      <td>0.507723</td>\n",
       "      <td>-0.590326</td>\n",
       "      <td>-0.192805</td>\n",
       "      <td>0.472875</td>\n",
       "      <td>-0.477510</td>\n",
       "      <td>0.301519</td>\n",
       "      <td>-0.047356</td>\n",
       "      <td>0.439679</td>\n",
       "      <td>-0.185268</td>\n",
       "    </tr>\n",
       "    <tr>\n",
       "      <td>predator</td>\n",
       "      <td>-0.101575</td>\n",
       "      <td>NaN</td>\n",
       "      <td>NaN</td>\n",
       "      <td>NaN</td>\n",
       "      <td>-0.015949</td>\n",
       "      <td>-0.207765</td>\n",
       "      <td>1.000000</td>\n",
       "      <td>0.433947</td>\n",
       "      <td>0.147997</td>\n",
       "      <td>0.242510</td>\n",
       "      <td>0.393074</td>\n",
       "      <td>-0.153112</td>\n",
       "      <td>0.084744</td>\n",
       "      <td>0.268566</td>\n",
       "      <td>-0.080819</td>\n",
       "      <td>0.331333</td>\n",
       "      <td>-0.346209</td>\n",
       "    </tr>\n",
       "    <tr>\n",
       "      <td>toothed</td>\n",
       "      <td>-0.137292</td>\n",
       "      <td>NaN</td>\n",
       "      <td>NaN</td>\n",
       "      <td>NaN</td>\n",
       "      <td>-0.392346</td>\n",
       "      <td>0.109171</td>\n",
       "      <td>0.433947</td>\n",
       "      <td>1.000000</td>\n",
       "      <td>0.660059</td>\n",
       "      <td>0.378947</td>\n",
       "      <td>0.115510</td>\n",
       "      <td>-0.265497</td>\n",
       "      <td>0.018741</td>\n",
       "      <td>0.442275</td>\n",
       "      <td>0.261596</td>\n",
       "      <td>0.090123</td>\n",
       "      <td>-0.580082</td>\n",
       "    </tr>\n",
       "    <tr>\n",
       "      <td>backbone</td>\n",
       "      <td>-0.181848</td>\n",
       "      <td>NaN</td>\n",
       "      <td>NaN</td>\n",
       "      <td>NaN</td>\n",
       "      <td>-0.519675</td>\n",
       "      <td>0.507723</td>\n",
       "      <td>0.147997</td>\n",
       "      <td>0.660059</td>\n",
       "      <td>1.000000</td>\n",
       "      <td>-0.132345</td>\n",
       "      <td>-0.133377</td>\n",
       "      <td>0.374166</td>\n",
       "      <td>-0.409897</td>\n",
       "      <td>0.829019</td>\n",
       "      <td>0.307794</td>\n",
       "      <td>0.458145</td>\n",
       "      <td>-0.878180</td>\n",
       "    </tr>\n",
       "    <tr>\n",
       "      <td>breathes</td>\n",
       "      <td>0.084941</td>\n",
       "      <td>NaN</td>\n",
       "      <td>NaN</td>\n",
       "      <td>NaN</td>\n",
       "      <td>0.242740</td>\n",
       "      <td>-0.590326</td>\n",
       "      <td>0.242510</td>\n",
       "      <td>0.378947</td>\n",
       "      <td>-0.132345</td>\n",
       "      <td>1.000000</td>\n",
       "      <td>0.027955</td>\n",
       "      <td>-0.801041</td>\n",
       "      <td>0.690947</td>\n",
       "      <td>-0.233058</td>\n",
       "      <td>0.199681</td>\n",
       "      <td>-0.487325</td>\n",
       "      <td>-0.023910</td>\n",
       "    </tr>\n",
       "    <tr>\n",
       "      <td>venomous</td>\n",
       "      <td>-0.055972</td>\n",
       "      <td>NaN</td>\n",
       "      <td>NaN</td>\n",
       "      <td>NaN</td>\n",
       "      <td>0.036561</td>\n",
       "      <td>-0.192805</td>\n",
       "      <td>0.393074</td>\n",
       "      <td>0.115510</td>\n",
       "      <td>-0.133377</td>\n",
       "      <td>0.027955</td>\n",
       "      <td>1.000000</td>\n",
       "      <td>-0.159952</td>\n",
       "      <td>-0.058067</td>\n",
       "      <td>-0.064129</td>\n",
       "      <td>-0.131579</td>\n",
       "      <td>0.171032</td>\n",
       "      <td>0.091033</td>\n",
       "    </tr>\n",
       "    <tr>\n",
       "      <td>fins</td>\n",
       "      <td>-0.068041</td>\n",
       "      <td>NaN</td>\n",
       "      <td>NaN</td>\n",
       "      <td>NaN</td>\n",
       "      <td>-0.194444</td>\n",
       "      <td>0.472875</td>\n",
       "      <td>-0.153112</td>\n",
       "      <td>-0.265497</td>\n",
       "      <td>0.374166</td>\n",
       "      <td>-0.801041</td>\n",
       "      <td>-0.159952</td>\n",
       "      <td>1.000000</td>\n",
       "      <td>-0.553477</td>\n",
       "      <td>0.451335</td>\n",
       "      <td>-0.159952</td>\n",
       "      <td>0.442497</td>\n",
       "      <td>-0.255377</td>\n",
       "    </tr>\n",
       "    <tr>\n",
       "      <td>legs</td>\n",
       "      <td>0.168414</td>\n",
       "      <td>NaN</td>\n",
       "      <td>NaN</td>\n",
       "      <td>NaN</td>\n",
       "      <td>0.481284</td>\n",
       "      <td>-0.477510</td>\n",
       "      <td>0.084744</td>\n",
       "      <td>0.018741</td>\n",
       "      <td>-0.409897</td>\n",
       "      <td>0.690947</td>\n",
       "      <td>-0.058067</td>\n",
       "      <td>-0.553477</td>\n",
       "      <td>1.000000</td>\n",
       "      <td>-0.462088</td>\n",
       "      <td>0.112175</td>\n",
       "      <td>-0.589890</td>\n",
       "      <td>0.242014</td>\n",
       "    </tr>\n",
       "    <tr>\n",
       "      <td>tail</td>\n",
       "      <td>-0.150756</td>\n",
       "      <td>NaN</td>\n",
       "      <td>NaN</td>\n",
       "      <td>NaN</td>\n",
       "      <td>-0.430820</td>\n",
       "      <td>0.301519</td>\n",
       "      <td>0.268566</td>\n",
       "      <td>0.442275</td>\n",
       "      <td>0.829019</td>\n",
       "      <td>-0.233058</td>\n",
       "      <td>-0.064129</td>\n",
       "      <td>0.451335</td>\n",
       "      <td>-0.462088</td>\n",
       "      <td>1.000000</td>\n",
       "      <td>0.371274</td>\n",
       "      <td>0.595414</td>\n",
       "      <td>-0.887657</td>\n",
       "    </tr>\n",
       "    <tr>\n",
       "      <td>domestic</td>\n",
       "      <td>-0.055972</td>\n",
       "      <td>NaN</td>\n",
       "      <td>NaN</td>\n",
       "      <td>NaN</td>\n",
       "      <td>-0.159952</td>\n",
       "      <td>-0.047356</td>\n",
       "      <td>-0.080819</td>\n",
       "      <td>0.261596</td>\n",
       "      <td>0.307794</td>\n",
       "      <td>0.199681</td>\n",
       "      <td>-0.131579</td>\n",
       "      <td>-0.159952</td>\n",
       "      <td>0.112175</td>\n",
       "      <td>0.371274</td>\n",
       "      <td>1.000000</td>\n",
       "      <td>0.020943</td>\n",
       "      <td>-0.360631</td>\n",
       "    </tr>\n",
       "    <tr>\n",
       "      <td>catsize</td>\n",
       "      <td>-0.118783</td>\n",
       "      <td>NaN</td>\n",
       "      <td>NaN</td>\n",
       "      <td>NaN</td>\n",
       "      <td>-0.339450</td>\n",
       "      <td>0.439679</td>\n",
       "      <td>0.331333</td>\n",
       "      <td>0.090123</td>\n",
       "      <td>0.458145</td>\n",
       "      <td>-0.487325</td>\n",
       "      <td>0.171032</td>\n",
       "      <td>0.442497</td>\n",
       "      <td>-0.589890</td>\n",
       "      <td>0.595414</td>\n",
       "      <td>0.020943</td>\n",
       "      <td>1.000000</td>\n",
       "      <td>-0.512386</td>\n",
       "    </tr>\n",
       "    <tr>\n",
       "      <td>class_type</td>\n",
       "      <td>0.124116</td>\n",
       "      <td>NaN</td>\n",
       "      <td>NaN</td>\n",
       "      <td>NaN</td>\n",
       "      <td>0.354690</td>\n",
       "      <td>-0.185268</td>\n",
       "      <td>-0.346209</td>\n",
       "      <td>-0.580082</td>\n",
       "      <td>-0.878180</td>\n",
       "      <td>-0.023910</td>\n",
       "      <td>0.091033</td>\n",
       "      <td>-0.255377</td>\n",
       "      <td>0.242014</td>\n",
       "      <td>-0.887657</td>\n",
       "      <td>-0.360631</td>\n",
       "      <td>-0.512386</td>\n",
       "      <td>1.000000</td>\n",
       "    </tr>\n",
       "  </tbody>\n",
       "</table>\n",
       "</div>"
      ],
      "text/plain": [
       "                hair  feathers  eggs  milk  airborne   aquatic  predator  \\\n",
       "hair        1.000000       NaN   NaN   NaN  0.349927 -0.143889 -0.101575   \n",
       "feathers         NaN       NaN   NaN   NaN       NaN       NaN       NaN   \n",
       "eggs             NaN       NaN   NaN   NaN       NaN       NaN       NaN   \n",
       "milk             NaN       NaN   NaN   NaN       NaN       NaN       NaN   \n",
       "airborne    0.349927       NaN   NaN   NaN  1.000000 -0.411196 -0.015949   \n",
       "aquatic    -0.143889       NaN   NaN   NaN -0.411196  1.000000 -0.207765   \n",
       "predator   -0.101575       NaN   NaN   NaN -0.015949 -0.207765  1.000000   \n",
       "toothed    -0.137292       NaN   NaN   NaN -0.392346  0.109171  0.433947   \n",
       "backbone   -0.181848       NaN   NaN   NaN -0.519675  0.507723  0.147997   \n",
       "breathes    0.084941       NaN   NaN   NaN  0.242740 -0.590326  0.242510   \n",
       "venomous   -0.055972       NaN   NaN   NaN  0.036561 -0.192805  0.393074   \n",
       "fins       -0.068041       NaN   NaN   NaN -0.194444  0.472875 -0.153112   \n",
       "legs        0.168414       NaN   NaN   NaN  0.481284 -0.477510  0.084744   \n",
       "tail       -0.150756       NaN   NaN   NaN -0.430820  0.301519  0.268566   \n",
       "domestic   -0.055972       NaN   NaN   NaN -0.159952 -0.047356 -0.080819   \n",
       "catsize    -0.118783       NaN   NaN   NaN -0.339450  0.439679  0.331333   \n",
       "class_type  0.124116       NaN   NaN   NaN  0.354690 -0.185268 -0.346209   \n",
       "\n",
       "             toothed  backbone  breathes  venomous      fins      legs  \\\n",
       "hair       -0.137292 -0.181848  0.084941 -0.055972 -0.068041  0.168414   \n",
       "feathers         NaN       NaN       NaN       NaN       NaN       NaN   \n",
       "eggs             NaN       NaN       NaN       NaN       NaN       NaN   \n",
       "milk             NaN       NaN       NaN       NaN       NaN       NaN   \n",
       "airborne   -0.392346 -0.519675  0.242740  0.036561 -0.194444  0.481284   \n",
       "aquatic     0.109171  0.507723 -0.590326 -0.192805  0.472875 -0.477510   \n",
       "predator    0.433947  0.147997  0.242510  0.393074 -0.153112  0.084744   \n",
       "toothed     1.000000  0.660059  0.378947  0.115510 -0.265497  0.018741   \n",
       "backbone    0.660059  1.000000 -0.132345 -0.133377  0.374166 -0.409897   \n",
       "breathes    0.378947 -0.132345  1.000000  0.027955 -0.801041  0.690947   \n",
       "venomous    0.115510 -0.133377  0.027955  1.000000 -0.159952 -0.058067   \n",
       "fins       -0.265497  0.374166 -0.801041 -0.159952  1.000000 -0.553477   \n",
       "legs        0.018741 -0.409897  0.690947 -0.058067 -0.553477  1.000000   \n",
       "tail        0.442275  0.829019 -0.233058 -0.064129  0.451335 -0.462088   \n",
       "domestic    0.261596  0.307794  0.199681 -0.131579 -0.159952  0.112175   \n",
       "catsize     0.090123  0.458145 -0.487325  0.171032  0.442497 -0.589890   \n",
       "class_type -0.580082 -0.878180 -0.023910  0.091033 -0.255377  0.242014   \n",
       "\n",
       "                tail  domestic   catsize  class_type  \n",
       "hair       -0.150756 -0.055972 -0.118783    0.124116  \n",
       "feathers         NaN       NaN       NaN         NaN  \n",
       "eggs             NaN       NaN       NaN         NaN  \n",
       "milk             NaN       NaN       NaN         NaN  \n",
       "airborne   -0.430820 -0.159952 -0.339450    0.354690  \n",
       "aquatic     0.301519 -0.047356  0.439679   -0.185268  \n",
       "predator    0.268566 -0.080819  0.331333   -0.346209  \n",
       "toothed     0.442275  0.261596  0.090123   -0.580082  \n",
       "backbone    0.829019  0.307794  0.458145   -0.878180  \n",
       "breathes   -0.233058  0.199681 -0.487325   -0.023910  \n",
       "venomous   -0.064129 -0.131579  0.171032    0.091033  \n",
       "fins        0.451335 -0.159952  0.442497   -0.255377  \n",
       "legs       -0.462088  0.112175 -0.589890    0.242014  \n",
       "tail        1.000000  0.371274  0.595414   -0.887657  \n",
       "domestic    0.371274  1.000000  0.020943   -0.360631  \n",
       "catsize     0.595414  0.020943  1.000000   -0.512386  \n",
       "class_type -0.887657 -0.360631 -0.512386    1.000000  "
      ]
     },
     "execution_count": 23,
     "metadata": {},
     "output_type": "execute_result"
    }
   ],
   "source": [
    "data.corr()"
   ]
  },
  {
   "cell_type": "code",
   "execution_count": 24,
   "metadata": {},
   "outputs": [
    {
     "data": {
      "image/png": "[encoded data removed]",
      "text/plain": [
       "<Figure size 432x288 with 1 Axes>"
      ]
     },
     "metadata": {
      "needs_background": "light"
     },
     "output_type": "display_data"
    }
   ],
   "source": [
    "# Рисуем графики зависимости двух групп данных\n",
    "plt.plot(data['predator'], data['toothed'], 'o', alpha = 0.05)\n",
    "plt.xlabel('predator')\n",
    "plt.ylabel('toothed')\n",
    "plt.title('Predator vs Toothed')\n",
    "pass"
   ]
  },
  {
   "cell_type": "code",
   "execution_count": 25,
   "metadata": {},
   "outputs": [
    {
     "data": {
      "image/png": "[encoded data removed]",
      "text/plain": [
       "<Figure size 432x288 with 1 Axes>"
      ]
     },
     "metadata": {
      "needs_background": "light"
     },
     "output_type": "display_data"
    }
   ],
   "source": [
    "# Рисуем графики зависимости двух групп данных\n",
    "plt.plot(data['legs'], data['catsize'], 'o', alpha = 0.05)\n",
    "plt.xlabel('legs')\n",
    "plt.ylabel('catsize')\n",
    "plt.title('Legs vs Catsize')\n",
    "pass"
   ]
  },
  {
   "cell_type": "code",
   "execution_count": 27,
   "metadata": {},
   "outputs": [
    {
     "data": {
      "text/plain": [
       "0     False\n",
       "1     False\n",
       "2     False\n",
       "3     False\n",
       "4     False\n",
       "5     False\n",
       "6     False\n",
       "7     False\n",
       "8     False\n",
       "9     False\n",
       "10    False\n",
       "11    False\n",
       "12    False\n",
       "13    False\n",
       "14    False\n",
       "15    False\n",
       "16    False\n",
       "17    False\n",
       "18    False\n",
       "19    False\n",
       "20    False\n",
       "21    False\n",
       "22    False\n",
       "23    False\n",
       "24    False\n",
       "25     True\n",
       "26     True\n",
       "27     True\n",
       "28     True\n",
       "29     True\n",
       "30     True\n",
       "31     True\n",
       "32     True\n",
       "33     True\n",
       "34     True\n",
       "35     True\n",
       "36     True\n",
       "37    False\n",
       "38    False\n",
       "39    False\n",
       "40    False\n",
       "41    False\n",
       "42    False\n",
       "Name: class_type, dtype: bool"
      ]
     },
     "execution_count": 27,
     "metadata": {},
     "output_type": "execute_result"
    }
   ],
   "source": [
    "# Проверяем совпадение значений в заданном столбце с искомым\n",
    "data['class_type'] == 6"
   ]
  },
  {
   "cell_type": "code",
   "execution_count": 42,
   "metadata": {},
   "outputs": [
    {
     "data": {
      "image/png": "[encoded data removed]",
      "text/plain": [
       "<Figure size 504x576 with 1 Axes>"
      ]
     },
     "metadata": {
      "needs_background": "light"
     },
     "output_type": "display_data"
    }
   ],
   "source": [
    "plt.figure(figsize = (7, 8))\n",
    "\n",
    "plt.scatter(data[data['class_type'] == 6]['airborne'],\n",
    "            data[data['class_type'] == 6]['legs'],\n",
    "            alpha = 0.15,\n",
    "            label = 6,\n",
    "            color = 'b')\n",
    "\n",
    "plt.scatter(data[data['class_type'] == 5]['airborne'],\n",
    "            data[data['class_type'] == 5]['legs'],\n",
    "            alpha = 0.05,\n",
    "            label = 5,\n",
    "            color = 'r')\n",
    "\n",
    "plt.xlabel('airborne')\n",
    "plt.xticks(range(7))\n",
    "plt.xlim(0, 6)\n",
    "plt.ylabel('legs')\n",
    "plt.legend()\n",
    "plt.grid()"
   ]
  },
  {
   "cell_type": "code",
   "execution_count": 44,
   "metadata": {},
   "outputs": [
    {
     "data": {
      "image/png": "[encoded data removed]",
      "text/plain": [
       "<Figure size 504x576 with 1 Axes>"
      ]
     },
     "metadata": {
      "needs_background": "light"
     },
     "output_type": "display_data"
    }
   ],
   "source": [
    "plt.figure(figsize = (7, 8))\n",
    "\n",
    "plt.scatter(data[data['breathes'] == 0]['class_type'],\n",
    "            data[data['breathes'] == 0]['legs'],\n",
    "            alpha = 0.15,\n",
    "            label = 0,\n",
    "            color = 'b')\n",
    "\n",
    "plt.scatter(data[data['breathes'] == 1]['class_type'],\n",
    "            data[data['breathes'] == 1]['legs'],\n",
    "            alpha = 0.05,\n",
    "            label = 1,\n",
    "            color = 'r')\n",
    "\n",
    "plt.xlabel('class_type')\n",
    "plt.xticks(range(7))\n",
    "plt.xlim(0, 6)\n",
    "plt.ylabel('legs')\n",
    "plt.legend()\n",
    "plt.grid()"
   ]
  },
  {
   "cell_type": "code",
   "execution_count": 45,
   "metadata": {},
   "outputs": [
    {
     "data": {
      "text/html": [
       "<div>\n",
       "<style scoped>\n",
       "    .dataframe tbody tr th:only-of-type {\n",
       "        vertical-align: middle;\n",
       "    }\n",
       "\n",
       "    .dataframe tbody tr th {\n",
       "        vertical-align: top;\n",
       "    }\n",
       "\n",
       "    .dataframe thead th {\n",
       "        text-align: right;\n",
       "    }\n",
       "</style>\n",
       "<table border=\"1\" class=\"dataframe\">\n",
       "  <thead>\n",
       "    <tr style=\"text-align: right;\">\n",
       "      <th></th>\n",
       "      <th>animal_name</th>\n",
       "    </tr>\n",
       "  </thead>\n",
       "  <tbody>\n",
       "    <tr>\n",
       "      <td>count</td>\n",
       "      <td>43</td>\n",
       "    </tr>\n",
       "    <tr>\n",
       "      <td>unique</td>\n",
       "      <td>43</td>\n",
       "    </tr>\n",
       "    <tr>\n",
       "      <td>top</td>\n",
       "      <td>marlin</td>\n",
       "    </tr>\n",
       "    <tr>\n",
       "      <td>freq</td>\n",
       "      <td>1</td>\n",
       "    </tr>\n",
       "  </tbody>\n",
       "</table>\n",
       "</div>"
      ],
      "text/plain": [
       "       animal_name\n",
       "count           43\n",
       "unique          43\n",
       "top         marlin\n",
       "freq             1"
      ]
     },
     "execution_count": 45,
     "metadata": {},
     "output_type": "execute_result"
    }
   ],
   "source": [
    "# Характеристика отдельных номинальных признаков\n",
    "data.describe(include = ['object'])"
   ]
  },
  {
   "cell_type": "code",
   "execution_count": 46,
   "metadata": {},
   "outputs": [
    {
     "data": {
      "text/html": [
       "<div>\n",
       "<style scoped>\n",
       "    .dataframe tbody tr th:only-of-type {\n",
       "        vertical-align: middle;\n",
       "    }\n",
       "\n",
       "    .dataframe tbody tr th {\n",
       "        vertical-align: top;\n",
       "    }\n",
       "\n",
       "    .dataframe thead th {\n",
       "        text-align: right;\n",
       "    }\n",
       "</style>\n",
       "<table border=\"1\" class=\"dataframe\">\n",
       "  <thead>\n",
       "    <tr style=\"text-align: right;\">\n",
       "      <th></th>\n",
       "      <th>animal_name</th>\n",
       "      <th>hair</th>\n",
       "      <th>feathers</th>\n",
       "      <th>eggs</th>\n",
       "      <th>milk</th>\n",
       "      <th>airborne</th>\n",
       "      <th>aquatic</th>\n",
       "      <th>predator</th>\n",
       "      <th>toothed</th>\n",
       "      <th>backbone</th>\n",
       "      <th>breathes</th>\n",
       "      <th>venomous</th>\n",
       "      <th>fins</th>\n",
       "      <th>legs</th>\n",
       "      <th>tail</th>\n",
       "      <th>domestic</th>\n",
       "      <th>catsize</th>\n",
       "      <th>class_type</th>\n",
       "    </tr>\n",
       "  </thead>\n",
       "  <tbody>\n",
       "    <tr>\n",
       "      <td>count</td>\n",
       "      <td>43</td>\n",
       "      <td>43.000000</td>\n",
       "      <td>43.0</td>\n",
       "      <td>43.0</td>\n",
       "      <td>43.0</td>\n",
       "      <td>43.000000</td>\n",
       "      <td>43.000000</td>\n",
       "      <td>43.000000</td>\n",
       "      <td>43.000000</td>\n",
       "      <td>43.000000</td>\n",
       "      <td>43.000000</td>\n",
       "      <td>43.000000</td>\n",
       "      <td>43.000000</td>\n",
       "      <td>43.000000</td>\n",
       "      <td>43.000000</td>\n",
       "      <td>43.000000</td>\n",
       "      <td>43.000000</td>\n",
       "      <td>43.000000</td>\n",
       "    </tr>\n",
       "    <tr>\n",
       "      <td>unique</td>\n",
       "      <td>43</td>\n",
       "      <td>NaN</td>\n",
       "      <td>NaN</td>\n",
       "      <td>NaN</td>\n",
       "      <td>NaN</td>\n",
       "      <td>NaN</td>\n",
       "      <td>NaN</td>\n",
       "      <td>NaN</td>\n",
       "      <td>NaN</td>\n",
       "      <td>NaN</td>\n",
       "      <td>NaN</td>\n",
       "      <td>NaN</td>\n",
       "      <td>NaN</td>\n",
       "      <td>NaN</td>\n",
       "      <td>NaN</td>\n",
       "      <td>NaN</td>\n",
       "      <td>NaN</td>\n",
       "      <td>NaN</td>\n",
       "    </tr>\n",
       "    <tr>\n",
       "      <td>top</td>\n",
       "      <td>marlin</td>\n",
       "      <td>NaN</td>\n",
       "      <td>NaN</td>\n",
       "      <td>NaN</td>\n",
       "      <td>NaN</td>\n",
       "      <td>NaN</td>\n",
       "      <td>NaN</td>\n",
       "      <td>NaN</td>\n",
       "      <td>NaN</td>\n",
       "      <td>NaN</td>\n",
       "      <td>NaN</td>\n",
       "      <td>NaN</td>\n",
       "      <td>NaN</td>\n",
       "      <td>NaN</td>\n",
       "      <td>NaN</td>\n",
       "      <td>NaN</td>\n",
       "      <td>NaN</td>\n",
       "      <td>NaN</td>\n",
       "    </tr>\n",
       "    <tr>\n",
       "      <td>freq</td>\n",
       "      <td>1</td>\n",
       "      <td>NaN</td>\n",
       "      <td>NaN</td>\n",
       "      <td>NaN</td>\n",
       "      <td>NaN</td>\n",
       "      <td>NaN</td>\n",
       "      <td>NaN</td>\n",
       "      <td>NaN</td>\n",
       "      <td>NaN</td>\n",
       "      <td>NaN</td>\n",
       "      <td>NaN</td>\n",
       "      <td>NaN</td>\n",
       "      <td>NaN</td>\n",
       "      <td>NaN</td>\n",
       "      <td>NaN</td>\n",
       "      <td>NaN</td>\n",
       "      <td>NaN</td>\n",
       "      <td>NaN</td>\n",
       "    </tr>\n",
       "    <tr>\n",
       "      <td>mean</td>\n",
       "      <td>NaN</td>\n",
       "      <td>0.023256</td>\n",
       "      <td>0.0</td>\n",
       "      <td>1.0</td>\n",
       "      <td>0.0</td>\n",
       "      <td>0.162791</td>\n",
       "      <td>0.465116</td>\n",
       "      <td>0.302326</td>\n",
       "      <td>0.441860</td>\n",
       "      <td>0.581395</td>\n",
       "      <td>0.767442</td>\n",
       "      <td>0.116279</td>\n",
       "      <td>0.162791</td>\n",
       "      <td>3.209302</td>\n",
       "      <td>0.488372</td>\n",
       "      <td>0.116279</td>\n",
       "      <td>0.372093</td>\n",
       "      <td>4.837209</td>\n",
       "    </tr>\n",
       "    <tr>\n",
       "      <td>std</td>\n",
       "      <td>NaN</td>\n",
       "      <td>0.152499</td>\n",
       "      <td>0.0</td>\n",
       "      <td>0.0</td>\n",
       "      <td>0.0</td>\n",
       "      <td>0.373544</td>\n",
       "      <td>0.504685</td>\n",
       "      <td>0.464701</td>\n",
       "      <td>0.502486</td>\n",
       "      <td>0.499169</td>\n",
       "      <td>0.427463</td>\n",
       "      <td>0.324353</td>\n",
       "      <td>0.373544</td>\n",
       "      <td>2.587131</td>\n",
       "      <td>0.505781</td>\n",
       "      <td>0.324353</td>\n",
       "      <td>0.489083</td>\n",
       "      <td>1.462715</td>\n",
       "    </tr>\n",
       "    <tr>\n",
       "      <td>min</td>\n",
       "      <td>NaN</td>\n",
       "      <td>0.000000</td>\n",
       "      <td>0.0</td>\n",
       "      <td>1.0</td>\n",
       "      <td>0.0</td>\n",
       "      <td>0.000000</td>\n",
       "      <td>0.000000</td>\n",
       "      <td>0.000000</td>\n",
       "      <td>0.000000</td>\n",
       "      <td>0.000000</td>\n",
       "      <td>0.000000</td>\n",
       "      <td>0.000000</td>\n",
       "      <td>0.000000</td>\n",
       "      <td>0.000000</td>\n",
       "      <td>0.000000</td>\n",
       "      <td>0.000000</td>\n",
       "      <td>0.000000</td>\n",
       "      <td>3.000000</td>\n",
       "    </tr>\n",
       "    <tr>\n",
       "      <td>25%</td>\n",
       "      <td>NaN</td>\n",
       "      <td>0.000000</td>\n",
       "      <td>0.0</td>\n",
       "      <td>1.0</td>\n",
       "      <td>0.0</td>\n",
       "      <td>0.000000</td>\n",
       "      <td>0.000000</td>\n",
       "      <td>0.000000</td>\n",
       "      <td>0.000000</td>\n",
       "      <td>0.000000</td>\n",
       "      <td>1.000000</td>\n",
       "      <td>0.000000</td>\n",
       "      <td>0.000000</td>\n",
       "      <td>0.000000</td>\n",
       "      <td>0.000000</td>\n",
       "      <td>0.000000</td>\n",
       "      <td>0.000000</td>\n",
       "      <td>3.000000</td>\n",
       "    </tr>\n",
       "    <tr>\n",
       "      <td>50%</td>\n",
       "      <td>NaN</td>\n",
       "      <td>0.000000</td>\n",
       "      <td>0.0</td>\n",
       "      <td>1.0</td>\n",
       "      <td>0.0</td>\n",
       "      <td>0.000000</td>\n",
       "      <td>0.000000</td>\n",
       "      <td>0.000000</td>\n",
       "      <td>0.000000</td>\n",
       "      <td>1.000000</td>\n",
       "      <td>1.000000</td>\n",
       "      <td>0.000000</td>\n",
       "      <td>0.000000</td>\n",
       "      <td>4.000000</td>\n",
       "      <td>0.000000</td>\n",
       "      <td>0.000000</td>\n",
       "      <td>0.000000</td>\n",
       "      <td>5.000000</td>\n",
       "    </tr>\n",
       "    <tr>\n",
       "      <td>75%</td>\n",
       "      <td>NaN</td>\n",
       "      <td>0.000000</td>\n",
       "      <td>0.0</td>\n",
       "      <td>1.0</td>\n",
       "      <td>0.0</td>\n",
       "      <td>0.000000</td>\n",
       "      <td>1.000000</td>\n",
       "      <td>1.000000</td>\n",
       "      <td>1.000000</td>\n",
       "      <td>1.000000</td>\n",
       "      <td>1.000000</td>\n",
       "      <td>0.000000</td>\n",
       "      <td>0.000000</td>\n",
       "      <td>6.000000</td>\n",
       "      <td>1.000000</td>\n",
       "      <td>0.000000</td>\n",
       "      <td>1.000000</td>\n",
       "      <td>6.000000</td>\n",
       "    </tr>\n",
       "    <tr>\n",
       "      <td>max</td>\n",
       "      <td>NaN</td>\n",
       "      <td>1.000000</td>\n",
       "      <td>0.0</td>\n",
       "      <td>1.0</td>\n",
       "      <td>0.0</td>\n",
       "      <td>1.000000</td>\n",
       "      <td>1.000000</td>\n",
       "      <td>1.000000</td>\n",
       "      <td>1.000000</td>\n",
       "      <td>1.000000</td>\n",
       "      <td>1.000000</td>\n",
       "      <td>1.000000</td>\n",
       "      <td>1.000000</td>\n",
       "      <td>8.000000</td>\n",
       "      <td>1.000000</td>\n",
       "      <td>1.000000</td>\n",
       "      <td>1.000000</td>\n",
       "      <td>7.000000</td>\n",
       "    </tr>\n",
       "  </tbody>\n",
       "</table>\n",
       "</div>"
      ],
      "text/plain": [
       "       animal_name       hair  feathers  eggs  milk   airborne    aquatic  \\\n",
       "count           43  43.000000      43.0  43.0  43.0  43.000000  43.000000   \n",
       "unique          43        NaN       NaN   NaN   NaN        NaN        NaN   \n",
       "top         marlin        NaN       NaN   NaN   NaN        NaN        NaN   \n",
       "freq             1        NaN       NaN   NaN   NaN        NaN        NaN   \n",
       "mean           NaN   0.023256       0.0   1.0   0.0   0.162791   0.465116   \n",
       "std            NaN   0.152499       0.0   0.0   0.0   0.373544   0.504685   \n",
       "min            NaN   0.000000       0.0   1.0   0.0   0.000000   0.000000   \n",
       "25%            NaN   0.000000       0.0   1.0   0.0   0.000000   0.000000   \n",
       "50%            NaN   0.000000       0.0   1.0   0.0   0.000000   0.000000   \n",
       "75%            NaN   0.000000       0.0   1.0   0.0   0.000000   1.000000   \n",
       "max            NaN   1.000000       0.0   1.0   0.0   1.000000   1.000000   \n",
       "\n",
       "         predator    toothed   backbone   breathes   venomous       fins  \\\n",
       "count   43.000000  43.000000  43.000000  43.000000  43.000000  43.000000   \n",
       "unique        NaN        NaN        NaN        NaN        NaN        NaN   \n",
       "top           NaN        NaN        NaN        NaN        NaN        NaN   \n",
       "freq          NaN        NaN        NaN        NaN        NaN        NaN   \n",
       "mean     0.302326   0.441860   0.581395   0.767442   0.116279   0.162791   \n",
       "std      0.464701   0.502486   0.499169   0.427463   0.324353   0.373544   \n",
       "min      0.000000   0.000000   0.000000   0.000000   0.000000   0.000000   \n",
       "25%      0.000000   0.000000   0.000000   1.000000   0.000000   0.000000   \n",
       "50%      0.000000   0.000000   1.000000   1.000000   0.000000   0.000000   \n",
       "75%      1.000000   1.000000   1.000000   1.000000   0.000000   0.000000   \n",
       "max      1.000000   1.000000   1.000000   1.000000   1.000000   1.000000   \n",
       "\n",
       "             legs       tail   domestic    catsize  class_type  \n",
       "count   43.000000  43.000000  43.000000  43.000000   43.000000  \n",
       "unique        NaN        NaN        NaN        NaN         NaN  \n",
       "top           NaN        NaN        NaN        NaN         NaN  \n",
       "freq          NaN        NaN        NaN        NaN         NaN  \n",
       "mean     3.209302   0.488372   0.116279   0.372093    4.837209  \n",
       "std      2.587131   0.505781   0.324353   0.489083    1.462715  \n",
       "min      0.000000   0.000000   0.000000   0.000000    3.000000  \n",
       "25%      0.000000   0.000000   0.000000   0.000000    3.000000  \n",
       "50%      4.000000   0.000000   0.000000   0.000000    5.000000  \n",
       "75%      6.000000   1.000000   0.000000   1.000000    6.000000  \n",
       "max      8.000000   1.000000   1.000000   1.000000    7.000000  "
      ]
     },
     "execution_count": 46,
     "metadata": {},
     "output_type": "execute_result"
    }
   ],
   "source": [
    "# Характеристика всех признаков\n",
    "data.describe(include = 'all')"
   ]
  },
  {
   "cell_type": "code",
   "execution_count": 47,
   "metadata": {},
   "outputs": [
    {
     "data": {
      "text/plain": [
       "array(['turtle', 'chameleon', 'iguana', 'lizard', 'gecko', 'python',\n",
       "       'boa', 'adder', 'crocodile', 'alligator', 'gharial', 'skink',\n",
       "       'anchovy', 'flounder', 'halibut', 'mackerel', 'barracuda',\n",
       "       'marlin', 'trout', 'salamander', 'siren', 'tree frog', 'dart frog',\n",
       "       'firebelly', 'wart toad', 'mosquito', 'hornet', 'cricket',\n",
       "       'beetle', 'butterfly', 'palmetto', 'cockroach', 'mantis',\n",
       "       'dragonfly', 'aphid', 'cicada', 'antlion', 'scallop', 'spider',\n",
       "       'snail', 'silkworm', 'jellyfish', 'squid'], dtype=object)"
      ]
     },
     "execution_count": 47,
     "metadata": {},
     "output_type": "execute_result"
    }
   ],
   "source": [
    "# Вычисляем уникальные имена среди имеющихся данных выбранного столбца\n",
    "data['animal_name'].unique()"
   ]
  },
  {
   "cell_type": "code",
   "execution_count": 48,
   "metadata": {},
   "outputs": [
    {
     "data": {
      "text/plain": [
       "array([4, 0, 2, 6, 8], dtype=int64)"
      ]
     },
     "execution_count": 48,
     "metadata": {},
     "output_type": "execute_result"
    }
   ],
   "source": [
    "# Вычисляем уникальные имена среди имеющихся данных выбранного столбца\n",
    "data['legs'].unique()"
   ]
  },
  {
   "cell_type": "code",
   "execution_count": 49,
   "metadata": {},
   "outputs": [
    {
     "data": {
      "text/plain": [
       "array([3, 4, 5, 6, 7], dtype=int64)"
      ]
     },
     "execution_count": 49,
     "metadata": {},
     "output_type": "execute_result"
    }
   ],
   "source": [
    "# Вычисляем уникальные имена среди имеющихся данных выбранного столбца\n",
    "data['class_type'].unique()"
   ]
  },
  {
   "cell_type": "code",
   "execution_count": 51,
   "metadata": {},
   "outputs": [
    {
     "name": "stdout",
     "output_type": "stream",
     "text": [
      "3 4\n",
      "4 0\n",
      "5 4\n",
      "6 6\n",
      "7 0\n"
     ]
    }
   ],
   "source": [
    "# Вычисляем интересующий параметр у первых представителей каждого класса\n",
    "for name in data['class_type'].unique():\n",
    "    print(name, data['legs'][data['class_type'] == name].iloc[0])"
   ]
  },
  {
   "cell_type": "code",
   "execution_count": 52,
   "metadata": {},
   "outputs": [],
   "source": [
    "# Для тренировки пробуем удалить столбцы\n",
    "data = data.drop('milk', axis = 1)\\\n",
    "            .drop('catsize', axis = 1)\n",
    "# Так тоже будет работать data.drop(['milk','catsize'], axis = 1)"
   ]
  },
  {
   "cell_type": "markdown",
   "metadata": {},
   "source": [
    "# Готовим данные"
   ]
  },
  {
   "cell_type": "code",
   "execution_count": 54,
   "metadata": {},
   "outputs": [
    {
     "data": {
      "text/plain": [
       "'object'"
      ]
     },
     "execution_count": 54,
     "metadata": {},
     "output_type": "execute_result"
    }
   ],
   "source": [
    "# Смотрим на типы признаков и разбиваем их на количественные и номинальные\n",
    "data['animal_name'].dtype.name"
   ]
  },
  {
   "cell_type": "code",
   "execution_count": 55,
   "metadata": {},
   "outputs": [
    {
     "data": {
      "text/plain": [
       "'int64'"
      ]
     },
     "execution_count": 55,
     "metadata": {},
     "output_type": "execute_result"
    }
   ],
   "source": [
    "data['breathes'].dtype.name"
   ]
  },
  {
   "cell_type": "code",
   "execution_count": 56,
   "metadata": {},
   "outputs": [
    {
     "name": "stdout",
     "output_type": "stream",
     "text": [
      "['animal_name']\n",
      "['hair', 'feathers', 'eggs', 'airborne', 'aquatic', 'predator', 'toothed', 'backbone', 'breathes', 'venomous', 'fins', 'legs', 'tail', 'domestic', 'class_type']\n"
     ]
    }
   ],
   "source": [
    "# Выясняем, какие именно признаки являются номинальными, а какие - числовыми\n",
    "categorical_columns = [c for c in data.columns if data[c].dtype.name == 'object']\n",
    "numerical_columns   = [c for c in data.columns if data[c].dtype.name != 'object']\n",
    "print(categorical_columns)\n",
    "print(numerical_columns)"
   ]
  },
  {
   "cell_type": "code",
   "execution_count": 57,
   "metadata": {},
   "outputs": [
    {
     "name": "stdout",
     "output_type": "stream",
     "text": [
      "animal_name ['turtle' 'chameleon' 'iguana' 'lizard' 'gecko' 'python' 'boa' 'adder'\n",
      " 'crocodile' 'alligator' 'gharial' 'skink' 'anchovy' 'flounder' 'halibut'\n",
      " 'mackerel' 'barracuda' 'marlin' 'trout' 'salamander' 'siren' 'tree frog'\n",
      " 'dart frog' 'firebelly' 'wart toad' 'mosquito' 'hornet' 'cricket'\n",
      " 'beetle' 'butterfly' 'palmetto' 'cockroach' 'mantis' 'dragonfly' 'aphid'\n",
      " 'cicada' 'antlion' 'scallop' 'spider' 'snail' 'silkworm' 'jellyfish'\n",
      " 'squid']\n"
     ]
    }
   ],
   "source": [
    "# Выводим все уникальные значения данного номинального признака\n",
    "for c in categorical_columns:\n",
    "    print(c, data[c].unique())"
   ]
  },
  {
   "cell_type": "markdown",
   "metadata": {},
   "source": [
    "# Обрабатываем пропущенные значения\n",
    "В задаче нет пропущенных значений. Если бы они были, возможны были следующие варианты решения проблемы:\n",
    "- удаление столбцов с такими значениями (data = data.dropna(axis = 1)),\n",
    "- удаление строк с такими значениями (data = data.dropna(axis = 0)),\n",
    "- заполнение пропущенных значений средним или медианным значением (для количественных переменных) или самым популярным значением в столбце (для категориальных признаков)."
   ]
  },
  {
   "cell_type": "code",
   "execution_count": 58,
   "metadata": {},
   "outputs": [
    {
     "data": {
      "text/plain": [
       "hair          0.0\n",
       "feathers      0.0\n",
       "eggs          1.0\n",
       "airborne      0.0\n",
       "aquatic       0.0\n",
       "predator      0.0\n",
       "toothed       0.0\n",
       "backbone      1.0\n",
       "breathes      1.0\n",
       "venomous      0.0\n",
       "fins          0.0\n",
       "legs          4.0\n",
       "tail          0.0\n",
       "domestic      0.0\n",
       "class_type    5.0\n",
       "dtype: float64"
      ]
     },
     "execution_count": 58,
     "metadata": {},
     "output_type": "execute_result"
    }
   ],
   "source": [
    "# Выявление средних значений столбцов\n",
    "data.median(axis = 0)"
   ]
  },
  {
   "cell_type": "code",
   "execution_count": 59,
   "metadata": {},
   "outputs": [],
   "source": [
    "# Заполнение строк средними значениями\n",
    "data = data.fillna(data.median(axis = 0), axis = 0)"
   ]
  },
  {
   "cell_type": "code",
   "execution_count": 60,
   "metadata": {},
   "outputs": [
    {
     "data": {
      "text/plain": [
       "hair          43\n",
       "feathers      43\n",
       "eggs          43\n",
       "airborne      43\n",
       "aquatic       43\n",
       "predator      43\n",
       "toothed       43\n",
       "backbone      43\n",
       "breathes      43\n",
       "venomous      43\n",
       "fins          43\n",
       "legs          43\n",
       "tail          43\n",
       "domestic      43\n",
       "class_type    43\n",
       "dtype: int64"
      ]
     },
     "execution_count": 60,
     "metadata": {},
     "output_type": "execute_result"
    }
   ],
   "source": [
    "# Проверяем, что пропусков больше нет\n",
    "data[numerical_columns].count(axis = 0)"
   ]
  },
  {
   "cell_type": "code",
   "execution_count": 61,
   "metadata": {},
   "outputs": [
    {
     "data": {
      "text/plain": [
       "animal_name    43\n",
       "dtype: int64"
      ]
     },
     "execution_count": 61,
     "metadata": {},
     "output_type": "execute_result"
    }
   ],
   "source": [
    "# При наличии пропусков в номинальных признаках заполняем их наиболее часто встречающимися значениями\n",
    "data[categorical_columns].count(axis = 0)"
   ]
  },
  {
   "cell_type": "code",
   "execution_count": 62,
   "metadata": {},
   "outputs": [
    {
     "data": {
      "text/plain": [
       "count         43\n",
       "unique        43\n",
       "top       marlin\n",
       "freq           1\n",
       "Name: animal_name, dtype: object"
      ]
     },
     "execution_count": 62,
     "metadata": {},
     "output_type": "execute_result"
    }
   ],
   "source": [
    "data['animal_name'].describe()"
   ]
  },
  {
   "cell_type": "code",
   "execution_count": 63,
   "metadata": {},
   "outputs": [],
   "source": [
    "data.loc[data.animal_name == \"?\", 'animal_name'] = None"
   ]
  },
  {
   "cell_type": "code",
   "execution_count": 64,
   "metadata": {},
   "outputs": [
    {
     "data": {
      "text/html": [
       "<div>\n",
       "<style scoped>\n",
       "    .dataframe tbody tr th:only-of-type {\n",
       "        vertical-align: middle;\n",
       "    }\n",
       "\n",
       "    .dataframe tbody tr th {\n",
       "        vertical-align: top;\n",
       "    }\n",
       "\n",
       "    .dataframe thead th {\n",
       "        text-align: right;\n",
       "    }\n",
       "</style>\n",
       "<table border=\"1\" class=\"dataframe\">\n",
       "  <thead>\n",
       "    <tr style=\"text-align: right;\">\n",
       "      <th></th>\n",
       "      <th>animal_name</th>\n",
       "    </tr>\n",
       "  </thead>\n",
       "  <tbody>\n",
       "    <tr>\n",
       "      <td>count</td>\n",
       "      <td>43</td>\n",
       "    </tr>\n",
       "    <tr>\n",
       "      <td>unique</td>\n",
       "      <td>43</td>\n",
       "    </tr>\n",
       "    <tr>\n",
       "      <td>top</td>\n",
       "      <td>marlin</td>\n",
       "    </tr>\n",
       "    <tr>\n",
       "      <td>freq</td>\n",
       "      <td>1</td>\n",
       "    </tr>\n",
       "  </tbody>\n",
       "</table>\n",
       "</div>"
      ],
      "text/plain": [
       "       animal_name\n",
       "count           43\n",
       "unique          43\n",
       "top         marlin\n",
       "freq             1"
      ]
     },
     "execution_count": 64,
     "metadata": {},
     "output_type": "execute_result"
    }
   ],
   "source": [
    "data.describe(include = [object])"
   ]
  },
  {
   "cell_type": "code",
   "execution_count": 65,
   "metadata": {},
   "outputs": [
    {
     "data": {
      "text/plain": [
       "pandas.core.series.Series"
      ]
     },
     "execution_count": 65,
     "metadata": {},
     "output_type": "execute_result"
    }
   ],
   "source": [
    "type(data['animal_name'].describe())"
   ]
  },
  {
   "cell_type": "code",
   "execution_count": 66,
   "metadata": {},
   "outputs": [
    {
     "data": {
      "text/plain": [
       "'marlin'"
      ]
     },
     "execution_count": 66,
     "metadata": {},
     "output_type": "execute_result"
    }
   ],
   "source": [
    "data['animal_name'].describe().top"
   ]
  },
  {
   "cell_type": "code",
   "execution_count": 67,
   "metadata": {},
   "outputs": [],
   "source": [
    "data['animal_name'] = data['animal_name'].fillna('Private')"
   ]
  },
  {
   "cell_type": "code",
   "execution_count": 68,
   "metadata": {},
   "outputs": [
    {
     "data": {
      "text/html": [
       "<div>\n",
       "<style scoped>\n",
       "    .dataframe tbody tr th:only-of-type {\n",
       "        vertical-align: middle;\n",
       "    }\n",
       "\n",
       "    .dataframe tbody tr th {\n",
       "        vertical-align: top;\n",
       "    }\n",
       "\n",
       "    .dataframe thead th {\n",
       "        text-align: right;\n",
       "    }\n",
       "</style>\n",
       "<table border=\"1\" class=\"dataframe\">\n",
       "  <thead>\n",
       "    <tr style=\"text-align: right;\">\n",
       "      <th></th>\n",
       "      <th>animal_name</th>\n",
       "    </tr>\n",
       "  </thead>\n",
       "  <tbody>\n",
       "    <tr>\n",
       "      <td>count</td>\n",
       "      <td>43</td>\n",
       "    </tr>\n",
       "    <tr>\n",
       "      <td>unique</td>\n",
       "      <td>43</td>\n",
       "    </tr>\n",
       "    <tr>\n",
       "      <td>top</td>\n",
       "      <td>marlin</td>\n",
       "    </tr>\n",
       "    <tr>\n",
       "      <td>freq</td>\n",
       "      <td>1</td>\n",
       "    </tr>\n",
       "  </tbody>\n",
       "</table>\n",
       "</div>"
      ],
      "text/plain": [
       "       animal_name\n",
       "count           43\n",
       "unique          43\n",
       "top         marlin\n",
       "freq             1"
      ]
     },
     "execution_count": 68,
     "metadata": {},
     "output_type": "execute_result"
    }
   ],
   "source": [
    "data.describe(include = [object])"
   ]
  },
  {
   "cell_type": "code",
   "execution_count": 69,
   "metadata": {},
   "outputs": [],
   "source": [
    "# Непосредственно заполняем пропуски у категориальных переменных\n",
    "data_describe = data.describe(include = [object])\n",
    "for c in categorical_columns:\n",
    "    data[c] = data[c].fillna(data_describe[c]['top'])"
   ]
  },
  {
   "cell_type": "code",
   "execution_count": 70,
   "metadata": {},
   "outputs": [
    {
     "data": {
      "text/html": [
       "<div>\n",
       "<style scoped>\n",
       "    .dataframe tbody tr th:only-of-type {\n",
       "        vertical-align: middle;\n",
       "    }\n",
       "\n",
       "    .dataframe tbody tr th {\n",
       "        vertical-align: top;\n",
       "    }\n",
       "\n",
       "    .dataframe thead th {\n",
       "        text-align: right;\n",
       "    }\n",
       "</style>\n",
       "<table border=\"1\" class=\"dataframe\">\n",
       "  <thead>\n",
       "    <tr style=\"text-align: right;\">\n",
       "      <th></th>\n",
       "      <th>animal_name</th>\n",
       "    </tr>\n",
       "  </thead>\n",
       "  <tbody>\n",
       "    <tr>\n",
       "      <td>count</td>\n",
       "      <td>43</td>\n",
       "    </tr>\n",
       "    <tr>\n",
       "      <td>unique</td>\n",
       "      <td>43</td>\n",
       "    </tr>\n",
       "    <tr>\n",
       "      <td>top</td>\n",
       "      <td>marlin</td>\n",
       "    </tr>\n",
       "    <tr>\n",
       "      <td>freq</td>\n",
       "      <td>1</td>\n",
       "    </tr>\n",
       "  </tbody>\n",
       "</table>\n",
       "</div>"
      ],
      "text/plain": [
       "       animal_name\n",
       "count           43\n",
       "unique          43\n",
       "top         marlin\n",
       "freq             1"
      ]
     },
     "execution_count": 70,
     "metadata": {},
     "output_type": "execute_result"
    }
   ],
   "source": [
    "data.describe(include = [object])"
   ]
  },
  {
   "cell_type": "markdown",
   "metadata": {},
   "source": [
    "# Векторизация\n",
    "Если нужно что-то сделать с категориальными (номинальными) признаками.\n",
    "В имеющихся данных векторизовать можно только animal_name, но это целевой признак, поэтому нам не нужно применять к нему векторизацию.\n",
    "Далее просто рассмотриваем, как сделать векторизацию, используя для примера наши данные.  "
   ]
  },
  {
   "cell_type": "code",
   "execution_count": 71,
   "metadata": {},
   "outputs": [
    {
     "name": "stdout",
     "output_type": "stream",
     "text": [
      "[] ['animal_name']\n"
     ]
    }
   ],
   "source": [
    "# Выделяем бинарные и небинарные признаки\n",
    "binary_columns    = [c for c in categorical_columns if data_describe[c]['unique'] == 2]\n",
    "nonbinary_columns = [c for c in categorical_columns if data_describe[c]['unique'] > 2]\n",
    "print(binary_columns, nonbinary_columns)"
   ]
  },
  {
   "cell_type": "markdown",
   "metadata": {},
   "source": [
    "В нашей задаче нет бинарных признаков\n",
    "\n",
    "К небинарным признакам применим метод векторизации.\n",
    "\n",
    "Суть метода:\n",
    "\n",
    "Признак j, принимающий s значений, заменим на s признаков, принимащих значения 0 или 1, в зависимости от того, чему равно значение исходного признака j."
   ]
  },
  {
   "cell_type": "code",
   "execution_count": 73,
   "metadata": {},
   "outputs": [
    {
     "data": {
      "text/plain": [
       "array(['turtle', 'chameleon', 'iguana', 'lizard', 'gecko', 'python',\n",
       "       'boa', 'adder', 'crocodile', 'alligator', 'gharial', 'skink',\n",
       "       'anchovy', 'flounder', 'halibut', 'mackerel', 'barracuda',\n",
       "       'marlin', 'trout', 'salamander', 'siren', 'tree frog', 'dart frog',\n",
       "       'firebelly', 'wart toad', 'mosquito', 'hornet', 'cricket',\n",
       "       'beetle', 'butterfly', 'palmetto', 'cockroach', 'mantis',\n",
       "       'dragonfly', 'aphid', 'cicada', 'antlion', 'scallop', 'spider',\n",
       "       'snail', 'silkworm', 'jellyfish', 'squid'], dtype=object)"
      ]
     },
     "execution_count": 73,
     "metadata": {},
     "output_type": "execute_result"
    }
   ],
   "source": [
    "# В нашей задаче признак animal_name принимает 43 различных значения:\n",
    "data['animal_name'].unique()"
   ]
  },
  {
   "cell_type": "markdown",
   "metadata": {},
   "source": [
    "Заменим признак animal_name 43 признаками: yellow, green, ..., white.\n",
    "\n",
    "- Если признак animal_name принимает значение yellow, то признак yellow равен 1, а все остальные равны 0.\n",
    "- Если признак animal_name принимает значение green, то признак green равен 1, а все остальные равны 0.\n",
    "и т.д."
   ]
  },
  {
   "cell_type": "code",
   "execution_count": 75,
   "metadata": {},
   "outputs": [
    {
     "data": {
      "text/html": [
       "<div>\n",
       "<style scoped>\n",
       "    .dataframe tbody tr th:only-of-type {\n",
       "        vertical-align: middle;\n",
       "    }\n",
       "\n",
       "    .dataframe tbody tr th {\n",
       "        vertical-align: top;\n",
       "    }\n",
       "\n",
       "    .dataframe thead th {\n",
       "        text-align: right;\n",
       "    }\n",
       "</style>\n",
       "<table border=\"1\" class=\"dataframe\">\n",
       "  <thead>\n",
       "    <tr style=\"text-align: right;\">\n",
       "      <th></th>\n",
       "      <th>animal_name</th>\n",
       "    </tr>\n",
       "  </thead>\n",
       "  <tbody>\n",
       "    <tr>\n",
       "      <td>0</td>\n",
       "      <td>turtle</td>\n",
       "    </tr>\n",
       "    <tr>\n",
       "      <td>1</td>\n",
       "      <td>chameleon</td>\n",
       "    </tr>\n",
       "    <tr>\n",
       "      <td>2</td>\n",
       "      <td>iguana</td>\n",
       "    </tr>\n",
       "    <tr>\n",
       "      <td>3</td>\n",
       "      <td>lizard</td>\n",
       "    </tr>\n",
       "    <tr>\n",
       "      <td>4</td>\n",
       "      <td>gecko</td>\n",
       "    </tr>\n",
       "    <tr>\n",
       "      <td>5</td>\n",
       "      <td>python</td>\n",
       "    </tr>\n",
       "    <tr>\n",
       "      <td>6</td>\n",
       "      <td>boa</td>\n",
       "    </tr>\n",
       "    <tr>\n",
       "      <td>7</td>\n",
       "      <td>adder</td>\n",
       "    </tr>\n",
       "    <tr>\n",
       "      <td>8</td>\n",
       "      <td>crocodile</td>\n",
       "    </tr>\n",
       "    <tr>\n",
       "      <td>9</td>\n",
       "      <td>alligator</td>\n",
       "    </tr>\n",
       "    <tr>\n",
       "      <td>10</td>\n",
       "      <td>gharial</td>\n",
       "    </tr>\n",
       "    <tr>\n",
       "      <td>11</td>\n",
       "      <td>skink</td>\n",
       "    </tr>\n",
       "    <tr>\n",
       "      <td>12</td>\n",
       "      <td>anchovy</td>\n",
       "    </tr>\n",
       "    <tr>\n",
       "      <td>13</td>\n",
       "      <td>flounder</td>\n",
       "    </tr>\n",
       "    <tr>\n",
       "      <td>14</td>\n",
       "      <td>halibut</td>\n",
       "    </tr>\n",
       "    <tr>\n",
       "      <td>15</td>\n",
       "      <td>mackerel</td>\n",
       "    </tr>\n",
       "    <tr>\n",
       "      <td>16</td>\n",
       "      <td>barracuda</td>\n",
       "    </tr>\n",
       "    <tr>\n",
       "      <td>17</td>\n",
       "      <td>marlin</td>\n",
       "    </tr>\n",
       "    <tr>\n",
       "      <td>18</td>\n",
       "      <td>trout</td>\n",
       "    </tr>\n",
       "    <tr>\n",
       "      <td>19</td>\n",
       "      <td>salamander</td>\n",
       "    </tr>\n",
       "    <tr>\n",
       "      <td>20</td>\n",
       "      <td>siren</td>\n",
       "    </tr>\n",
       "    <tr>\n",
       "      <td>21</td>\n",
       "      <td>tree frog</td>\n",
       "    </tr>\n",
       "    <tr>\n",
       "      <td>22</td>\n",
       "      <td>dart frog</td>\n",
       "    </tr>\n",
       "    <tr>\n",
       "      <td>23</td>\n",
       "      <td>firebelly</td>\n",
       "    </tr>\n",
       "    <tr>\n",
       "      <td>24</td>\n",
       "      <td>wart toad</td>\n",
       "    </tr>\n",
       "    <tr>\n",
       "      <td>25</td>\n",
       "      <td>mosquito</td>\n",
       "    </tr>\n",
       "    <tr>\n",
       "      <td>26</td>\n",
       "      <td>hornet</td>\n",
       "    </tr>\n",
       "    <tr>\n",
       "      <td>27</td>\n",
       "      <td>cricket</td>\n",
       "    </tr>\n",
       "    <tr>\n",
       "      <td>28</td>\n",
       "      <td>beetle</td>\n",
       "    </tr>\n",
       "    <tr>\n",
       "      <td>29</td>\n",
       "      <td>butterfly</td>\n",
       "    </tr>\n",
       "    <tr>\n",
       "      <td>30</td>\n",
       "      <td>palmetto</td>\n",
       "    </tr>\n",
       "    <tr>\n",
       "      <td>31</td>\n",
       "      <td>cockroach</td>\n",
       "    </tr>\n",
       "    <tr>\n",
       "      <td>32</td>\n",
       "      <td>mantis</td>\n",
       "    </tr>\n",
       "    <tr>\n",
       "      <td>33</td>\n",
       "      <td>dragonfly</td>\n",
       "    </tr>\n",
       "    <tr>\n",
       "      <td>34</td>\n",
       "      <td>aphid</td>\n",
       "    </tr>\n",
       "    <tr>\n",
       "      <td>35</td>\n",
       "      <td>cicada</td>\n",
       "    </tr>\n",
       "    <tr>\n",
       "      <td>36</td>\n",
       "      <td>antlion</td>\n",
       "    </tr>\n",
       "    <tr>\n",
       "      <td>37</td>\n",
       "      <td>scallop</td>\n",
       "    </tr>\n",
       "    <tr>\n",
       "      <td>38</td>\n",
       "      <td>spider</td>\n",
       "    </tr>\n",
       "    <tr>\n",
       "      <td>39</td>\n",
       "      <td>snail</td>\n",
       "    </tr>\n",
       "    <tr>\n",
       "      <td>40</td>\n",
       "      <td>silkworm</td>\n",
       "    </tr>\n",
       "    <tr>\n",
       "      <td>41</td>\n",
       "      <td>jellyfish</td>\n",
       "    </tr>\n",
       "    <tr>\n",
       "      <td>42</td>\n",
       "      <td>squid</td>\n",
       "    </tr>\n",
       "  </tbody>\n",
       "</table>\n",
       "</div>"
      ],
      "text/plain": [
       "   animal_name\n",
       "0       turtle\n",
       "1    chameleon\n",
       "2       iguana\n",
       "3       lizard\n",
       "4        gecko\n",
       "5       python\n",
       "6          boa\n",
       "7        adder\n",
       "8    crocodile\n",
       "9    alligator\n",
       "10     gharial\n",
       "11       skink\n",
       "12     anchovy\n",
       "13    flounder\n",
       "14     halibut\n",
       "15    mackerel\n",
       "16   barracuda\n",
       "17      marlin\n",
       "18       trout\n",
       "19  salamander\n",
       "20       siren\n",
       "21   tree frog\n",
       "22   dart frog\n",
       "23   firebelly\n",
       "24   wart toad\n",
       "25    mosquito\n",
       "26      hornet\n",
       "27     cricket\n",
       "28      beetle\n",
       "29   butterfly\n",
       "30    palmetto\n",
       "31   cockroach\n",
       "32      mantis\n",
       "33   dragonfly\n",
       "34       aphid\n",
       "35      cicada\n",
       "36     antlion\n",
       "37     scallop\n",
       "38      spider\n",
       "39       snail\n",
       "40    silkworm\n",
       "41   jellyfish\n",
       "42       squid"
      ]
     },
     "execution_count": 75,
     "metadata": {},
     "output_type": "execute_result"
    }
   ],
   "source": [
    "# Осуществление подобной векторизации в pandas методом get_dummies\n",
    "# Сначала выводим небинарные признаки\n",
    "data[nonbinary_columns]"
   ]
  },
  {
   "cell_type": "code",
   "execution_count": 76,
   "metadata": {},
   "outputs": [
    {
     "name": "stdout",
     "output_type": "stream",
     "text": [
      "Index(['animal_name_adder', 'animal_name_alligator', 'animal_name_anchovy',\n",
      "       'animal_name_antlion', 'animal_name_aphid', 'animal_name_barracuda',\n",
      "       'animal_name_beetle', 'animal_name_boa', 'animal_name_butterfly',\n",
      "       'animal_name_chameleon', 'animal_name_cicada', 'animal_name_cockroach',\n",
      "       'animal_name_cricket', 'animal_name_crocodile', 'animal_name_dart frog',\n",
      "       'animal_name_dragonfly', 'animal_name_firebelly',\n",
      "       'animal_name_flounder', 'animal_name_gecko', 'animal_name_gharial',\n",
      "       'animal_name_halibut', 'animal_name_hornet', 'animal_name_iguana',\n",
      "       'animal_name_jellyfish', 'animal_name_lizard', 'animal_name_mackerel',\n",
      "       'animal_name_mantis', 'animal_name_marlin', 'animal_name_mosquito',\n",
      "       'animal_name_palmetto', 'animal_name_python', 'animal_name_salamander',\n",
      "       'animal_name_scallop', 'animal_name_silkworm', 'animal_name_siren',\n",
      "       'animal_name_skink', 'animal_name_snail', 'animal_name_spider',\n",
      "       'animal_name_squid', 'animal_name_tree frog', 'animal_name_trout',\n",
      "       'animal_name_turtle', 'animal_name_wart toad'],\n",
      "      dtype='object')\n"
     ]
    }
   ],
   "source": [
    "# Затем реализуем метод get_dummies\n",
    "data_nonbinary = pd.get_dummies(data[nonbinary_columns])\n",
    "print(data_nonbinary.columns)"
   ]
  },
  {
   "cell_type": "code",
   "execution_count": 77,
   "metadata": {},
   "outputs": [
    {
     "data": {
      "text/plain": [
       "43"
      ]
     },
     "execution_count": 77,
     "metadata": {},
     "output_type": "execute_result"
    }
   ],
   "source": [
    "len(data_nonbinary.columns)"
   ]
  },
  {
   "cell_type": "markdown",
   "metadata": {},
   "source": [
    "# Нормализация количественных признаков\n",
    "Полезно для алгоритмов машинного обучения, чувствительных к масштабированию данных. К таким алгоритмам, например, относится метод ближайших соседей, машина опорных векторов и др.\n",
    "\n",
    "Нормализацию количественных признаков можно делать разными способами. \n",
    "Например, каждый количественный признак приведем к нулевому среднему и единичному среднеквадратичному отклонению."
   ]
  },
  {
   "cell_type": "code",
   "execution_count": 78,
   "metadata": {},
   "outputs": [
    {
     "data": {
      "text/html": [
       "<div>\n",
       "<style scoped>\n",
       "    .dataframe tbody tr th:only-of-type {\n",
       "        vertical-align: middle;\n",
       "    }\n",
       "\n",
       "    .dataframe tbody tr th {\n",
       "        vertical-align: top;\n",
       "    }\n",
       "\n",
       "    .dataframe thead th {\n",
       "        text-align: right;\n",
       "    }\n",
       "</style>\n",
       "<table border=\"1\" class=\"dataframe\">\n",
       "  <thead>\n",
       "    <tr style=\"text-align: right;\">\n",
       "      <th></th>\n",
       "      <th>hair</th>\n",
       "      <th>feathers</th>\n",
       "      <th>eggs</th>\n",
       "      <th>airborne</th>\n",
       "      <th>aquatic</th>\n",
       "      <th>predator</th>\n",
       "      <th>toothed</th>\n",
       "      <th>backbone</th>\n",
       "      <th>breathes</th>\n",
       "      <th>venomous</th>\n",
       "      <th>fins</th>\n",
       "      <th>legs</th>\n",
       "      <th>tail</th>\n",
       "      <th>domestic</th>\n",
       "      <th>class_type</th>\n",
       "    </tr>\n",
       "  </thead>\n",
       "  <tbody>\n",
       "    <tr>\n",
       "      <td>count</td>\n",
       "      <td>43.000000</td>\n",
       "      <td>43.0</td>\n",
       "      <td>43.0</td>\n",
       "      <td>43.000000</td>\n",
       "      <td>43.000000</td>\n",
       "      <td>43.000000</td>\n",
       "      <td>43.000000</td>\n",
       "      <td>43.000000</td>\n",
       "      <td>43.000000</td>\n",
       "      <td>43.000000</td>\n",
       "      <td>43.000000</td>\n",
       "      <td>43.000000</td>\n",
       "      <td>43.000000</td>\n",
       "      <td>43.000000</td>\n",
       "      <td>43.000000</td>\n",
       "    </tr>\n",
       "    <tr>\n",
       "      <td>mean</td>\n",
       "      <td>0.023256</td>\n",
       "      <td>0.0</td>\n",
       "      <td>1.0</td>\n",
       "      <td>0.162791</td>\n",
       "      <td>0.465116</td>\n",
       "      <td>0.302326</td>\n",
       "      <td>0.441860</td>\n",
       "      <td>0.581395</td>\n",
       "      <td>0.767442</td>\n",
       "      <td>0.116279</td>\n",
       "      <td>0.162791</td>\n",
       "      <td>3.209302</td>\n",
       "      <td>0.488372</td>\n",
       "      <td>0.116279</td>\n",
       "      <td>4.837209</td>\n",
       "    </tr>\n",
       "    <tr>\n",
       "      <td>std</td>\n",
       "      <td>0.152499</td>\n",
       "      <td>0.0</td>\n",
       "      <td>0.0</td>\n",
       "      <td>0.373544</td>\n",
       "      <td>0.504685</td>\n",
       "      <td>0.464701</td>\n",
       "      <td>0.502486</td>\n",
       "      <td>0.499169</td>\n",
       "      <td>0.427463</td>\n",
       "      <td>0.324353</td>\n",
       "      <td>0.373544</td>\n",
       "      <td>2.587131</td>\n",
       "      <td>0.505781</td>\n",
       "      <td>0.324353</td>\n",
       "      <td>1.462715</td>\n",
       "    </tr>\n",
       "    <tr>\n",
       "      <td>min</td>\n",
       "      <td>0.000000</td>\n",
       "      <td>0.0</td>\n",
       "      <td>1.0</td>\n",
       "      <td>0.000000</td>\n",
       "      <td>0.000000</td>\n",
       "      <td>0.000000</td>\n",
       "      <td>0.000000</td>\n",
       "      <td>0.000000</td>\n",
       "      <td>0.000000</td>\n",
       "      <td>0.000000</td>\n",
       "      <td>0.000000</td>\n",
       "      <td>0.000000</td>\n",
       "      <td>0.000000</td>\n",
       "      <td>0.000000</td>\n",
       "      <td>3.000000</td>\n",
       "    </tr>\n",
       "    <tr>\n",
       "      <td>25%</td>\n",
       "      <td>0.000000</td>\n",
       "      <td>0.0</td>\n",
       "      <td>1.0</td>\n",
       "      <td>0.000000</td>\n",
       "      <td>0.000000</td>\n",
       "      <td>0.000000</td>\n",
       "      <td>0.000000</td>\n",
       "      <td>0.000000</td>\n",
       "      <td>1.000000</td>\n",
       "      <td>0.000000</td>\n",
       "      <td>0.000000</td>\n",
       "      <td>0.000000</td>\n",
       "      <td>0.000000</td>\n",
       "      <td>0.000000</td>\n",
       "      <td>3.000000</td>\n",
       "    </tr>\n",
       "    <tr>\n",
       "      <td>50%</td>\n",
       "      <td>0.000000</td>\n",
       "      <td>0.0</td>\n",
       "      <td>1.0</td>\n",
       "      <td>0.000000</td>\n",
       "      <td>0.000000</td>\n",
       "      <td>0.000000</td>\n",
       "      <td>0.000000</td>\n",
       "      <td>1.000000</td>\n",
       "      <td>1.000000</td>\n",
       "      <td>0.000000</td>\n",
       "      <td>0.000000</td>\n",
       "      <td>4.000000</td>\n",
       "      <td>0.000000</td>\n",
       "      <td>0.000000</td>\n",
       "      <td>5.000000</td>\n",
       "    </tr>\n",
       "    <tr>\n",
       "      <td>75%</td>\n",
       "      <td>0.000000</td>\n",
       "      <td>0.0</td>\n",
       "      <td>1.0</td>\n",
       "      <td>0.000000</td>\n",
       "      <td>1.000000</td>\n",
       "      <td>1.000000</td>\n",
       "      <td>1.000000</td>\n",
       "      <td>1.000000</td>\n",
       "      <td>1.000000</td>\n",
       "      <td>0.000000</td>\n",
       "      <td>0.000000</td>\n",
       "      <td>6.000000</td>\n",
       "      <td>1.000000</td>\n",
       "      <td>0.000000</td>\n",
       "      <td>6.000000</td>\n",
       "    </tr>\n",
       "    <tr>\n",
       "      <td>max</td>\n",
       "      <td>1.000000</td>\n",
       "      <td>0.0</td>\n",
       "      <td>1.0</td>\n",
       "      <td>1.000000</td>\n",
       "      <td>1.000000</td>\n",
       "      <td>1.000000</td>\n",
       "      <td>1.000000</td>\n",
       "      <td>1.000000</td>\n",
       "      <td>1.000000</td>\n",
       "      <td>1.000000</td>\n",
       "      <td>1.000000</td>\n",
       "      <td>8.000000</td>\n",
       "      <td>1.000000</td>\n",
       "      <td>1.000000</td>\n",
       "      <td>7.000000</td>\n",
       "    </tr>\n",
       "  </tbody>\n",
       "</table>\n",
       "</div>"
      ],
      "text/plain": [
       "            hair  feathers  eggs   airborne    aquatic   predator    toothed  \\\n",
       "count  43.000000      43.0  43.0  43.000000  43.000000  43.000000  43.000000   \n",
       "mean    0.023256       0.0   1.0   0.162791   0.465116   0.302326   0.441860   \n",
       "std     0.152499       0.0   0.0   0.373544   0.504685   0.464701   0.502486   \n",
       "min     0.000000       0.0   1.0   0.000000   0.000000   0.000000   0.000000   \n",
       "25%     0.000000       0.0   1.0   0.000000   0.000000   0.000000   0.000000   \n",
       "50%     0.000000       0.0   1.0   0.000000   0.000000   0.000000   0.000000   \n",
       "75%     0.000000       0.0   1.0   0.000000   1.000000   1.000000   1.000000   \n",
       "max     1.000000       0.0   1.0   1.000000   1.000000   1.000000   1.000000   \n",
       "\n",
       "        backbone   breathes   venomous       fins       legs       tail  \\\n",
       "count  43.000000  43.000000  43.000000  43.000000  43.000000  43.000000   \n",
       "mean    0.581395   0.767442   0.116279   0.162791   3.209302   0.488372   \n",
       "std     0.499169   0.427463   0.324353   0.373544   2.587131   0.505781   \n",
       "min     0.000000   0.000000   0.000000   0.000000   0.000000   0.000000   \n",
       "25%     0.000000   1.000000   0.000000   0.000000   0.000000   0.000000   \n",
       "50%     1.000000   1.000000   0.000000   0.000000   4.000000   0.000000   \n",
       "75%     1.000000   1.000000   0.000000   0.000000   6.000000   1.000000   \n",
       "max     1.000000   1.000000   1.000000   1.000000   8.000000   1.000000   \n",
       "\n",
       "        domestic  class_type  \n",
       "count  43.000000   43.000000  \n",
       "mean    0.116279    4.837209  \n",
       "std     0.324353    1.462715  \n",
       "min     0.000000    3.000000  \n",
       "25%     0.000000    3.000000  \n",
       "50%     0.000000    5.000000  \n",
       "75%     0.000000    6.000000  \n",
       "max     1.000000    7.000000  "
      ]
     },
     "execution_count": 78,
     "metadata": {},
     "output_type": "execute_result"
    }
   ],
   "source": [
    "data_numerical = data[numerical_columns]\n",
    "data_numerical.describe()"
   ]
  },
  {
   "cell_type": "code",
   "execution_count": 79,
   "metadata": {},
   "outputs": [],
   "source": [
    "data_numerical = (data_numerical - data_numerical.mean(axis = 0))/data_numerical.std(axis = 0)"
   ]
  },
  {
   "cell_type": "code",
   "execution_count": 80,
   "metadata": {},
   "outputs": [
    {
     "data": {
      "text/html": [
       "<div>\n",
       "<style scoped>\n",
       "    .dataframe tbody tr th:only-of-type {\n",
       "        vertical-align: middle;\n",
       "    }\n",
       "\n",
       "    .dataframe tbody tr th {\n",
       "        vertical-align: top;\n",
       "    }\n",
       "\n",
       "    .dataframe thead th {\n",
       "        text-align: right;\n",
       "    }\n",
       "</style>\n",
       "<table border=\"1\" class=\"dataframe\">\n",
       "  <thead>\n",
       "    <tr style=\"text-align: right;\">\n",
       "      <th></th>\n",
       "      <th>hair</th>\n",
       "      <th>feathers</th>\n",
       "      <th>eggs</th>\n",
       "      <th>airborne</th>\n",
       "      <th>aquatic</th>\n",
       "      <th>predator</th>\n",
       "      <th>toothed</th>\n",
       "      <th>backbone</th>\n",
       "      <th>breathes</th>\n",
       "      <th>venomous</th>\n",
       "      <th>fins</th>\n",
       "      <th>legs</th>\n",
       "      <th>tail</th>\n",
       "      <th>domestic</th>\n",
       "      <th>class_type</th>\n",
       "    </tr>\n",
       "  </thead>\n",
       "  <tbody>\n",
       "    <tr>\n",
       "      <td>count</td>\n",
       "      <td>4.300000e+01</td>\n",
       "      <td>0.0</td>\n",
       "      <td>0.0</td>\n",
       "      <td>4.300000e+01</td>\n",
       "      <td>4.300000e+01</td>\n",
       "      <td>4.300000e+01</td>\n",
       "      <td>4.300000e+01</td>\n",
       "      <td>4.300000e+01</td>\n",
       "      <td>4.300000e+01</td>\n",
       "      <td>4.300000e+01</td>\n",
       "      <td>4.300000e+01</td>\n",
       "      <td>4.300000e+01</td>\n",
       "      <td>4.300000e+01</td>\n",
       "      <td>4.300000e+01</td>\n",
       "      <td>4.300000e+01</td>\n",
       "    </tr>\n",
       "    <tr>\n",
       "      <td>mean</td>\n",
       "      <td>-3.614680e-17</td>\n",
       "      <td>NaN</td>\n",
       "      <td>NaN</td>\n",
       "      <td>-1.110223e-16</td>\n",
       "      <td>8.262125e-17</td>\n",
       "      <td>-5.163828e-18</td>\n",
       "      <td>6.712976e-17</td>\n",
       "      <td>-2.788467e-16</td>\n",
       "      <td>-3.098297e-17</td>\n",
       "      <td>-8.003933e-17</td>\n",
       "      <td>2.065531e-17</td>\n",
       "      <td>1.239319e-16</td>\n",
       "      <td>3.976148e-16</td>\n",
       "      <td>3.098297e-17</td>\n",
       "      <td>1.342595e-16</td>\n",
       "    </tr>\n",
       "    <tr>\n",
       "      <td>std</td>\n",
       "      <td>1.000000e+00</td>\n",
       "      <td>NaN</td>\n",
       "      <td>NaN</td>\n",
       "      <td>1.000000e+00</td>\n",
       "      <td>1.000000e+00</td>\n",
       "      <td>1.000000e+00</td>\n",
       "      <td>1.000000e+00</td>\n",
       "      <td>1.000000e+00</td>\n",
       "      <td>1.000000e+00</td>\n",
       "      <td>1.000000e+00</td>\n",
       "      <td>1.000000e+00</td>\n",
       "      <td>1.000000e+00</td>\n",
       "      <td>1.000000e+00</td>\n",
       "      <td>1.000000e+00</td>\n",
       "      <td>1.000000e+00</td>\n",
       "    </tr>\n",
       "    <tr>\n",
       "      <td>min</td>\n",
       "      <td>-1.524986e-01</td>\n",
       "      <td>NaN</td>\n",
       "      <td>NaN</td>\n",
       "      <td>-4.358010e-01</td>\n",
       "      <td>-9.215979e-01</td>\n",
       "      <td>-6.505811e-01</td>\n",
       "      <td>-8.793497e-01</td>\n",
       "      <td>-1.164727e+00</td>\n",
       "      <td>-1.795343e+00</td>\n",
       "      <td>-3.584954e-01</td>\n",
       "      <td>-4.358010e-01</td>\n",
       "      <td>-1.240487e+00</td>\n",
       "      <td>-9.655810e-01</td>\n",
       "      <td>-3.584954e-01</td>\n",
       "      <td>-1.256027e+00</td>\n",
       "    </tr>\n",
       "    <tr>\n",
       "      <td>25%</td>\n",
       "      <td>-1.524986e-01</td>\n",
       "      <td>NaN</td>\n",
       "      <td>NaN</td>\n",
       "      <td>-4.358010e-01</td>\n",
       "      <td>-9.215979e-01</td>\n",
       "      <td>-6.505811e-01</td>\n",
       "      <td>-8.793497e-01</td>\n",
       "      <td>-1.164727e+00</td>\n",
       "      <td>5.440433e-01</td>\n",
       "      <td>-3.584954e-01</td>\n",
       "      <td>-4.358010e-01</td>\n",
       "      <td>-1.240487e+00</td>\n",
       "      <td>-9.655810e-01</td>\n",
       "      <td>-3.584954e-01</td>\n",
       "      <td>-1.256027e+00</td>\n",
       "    </tr>\n",
       "    <tr>\n",
       "      <td>50%</td>\n",
       "      <td>-1.524986e-01</td>\n",
       "      <td>NaN</td>\n",
       "      <td>NaN</td>\n",
       "      <td>-4.358010e-01</td>\n",
       "      <td>-9.215979e-01</td>\n",
       "      <td>-6.505811e-01</td>\n",
       "      <td>-8.793497e-01</td>\n",
       "      <td>8.386035e-01</td>\n",
       "      <td>5.440433e-01</td>\n",
       "      <td>-3.584954e-01</td>\n",
       "      <td>-4.358010e-01</td>\n",
       "      <td>3.056273e-01</td>\n",
       "      <td>-9.655810e-01</td>\n",
       "      <td>-3.584954e-01</td>\n",
       "      <td>1.112935e-01</td>\n",
       "    </tr>\n",
       "    <tr>\n",
       "      <td>75%</td>\n",
       "      <td>-1.524986e-01</td>\n",
       "      <td>NaN</td>\n",
       "      <td>NaN</td>\n",
       "      <td>-4.358010e-01</td>\n",
       "      <td>1.059838e+00</td>\n",
       "      <td>1.501341e+00</td>\n",
       "      <td>1.110757e+00</td>\n",
       "      <td>8.386035e-01</td>\n",
       "      <td>5.440433e-01</td>\n",
       "      <td>-3.584954e-01</td>\n",
       "      <td>-4.358010e-01</td>\n",
       "      <td>1.078684e+00</td>\n",
       "      <td>1.011561e+00</td>\n",
       "      <td>-3.584954e-01</td>\n",
       "      <td>7.949538e-01</td>\n",
       "    </tr>\n",
       "    <tr>\n",
       "      <td>max</td>\n",
       "      <td>6.404940e+00</td>\n",
       "      <td>NaN</td>\n",
       "      <td>NaN</td>\n",
       "      <td>2.241262e+00</td>\n",
       "      <td>1.059838e+00</td>\n",
       "      <td>1.501341e+00</td>\n",
       "      <td>1.110757e+00</td>\n",
       "      <td>8.386035e-01</td>\n",
       "      <td>5.440433e-01</td>\n",
       "      <td>2.724565e+00</td>\n",
       "      <td>2.241262e+00</td>\n",
       "      <td>1.851742e+00</td>\n",
       "      <td>1.011561e+00</td>\n",
       "      <td>2.724565e+00</td>\n",
       "      <td>1.478614e+00</td>\n",
       "    </tr>\n",
       "  </tbody>\n",
       "</table>\n",
       "</div>"
      ],
      "text/plain": [
       "               hair  feathers  eggs      airborne       aquatic      predator  \\\n",
       "count  4.300000e+01       0.0   0.0  4.300000e+01  4.300000e+01  4.300000e+01   \n",
       "mean  -3.614680e-17       NaN   NaN -1.110223e-16  8.262125e-17 -5.163828e-18   \n",
       "std    1.000000e+00       NaN   NaN  1.000000e+00  1.000000e+00  1.000000e+00   \n",
       "min   -1.524986e-01       NaN   NaN -4.358010e-01 -9.215979e-01 -6.505811e-01   \n",
       "25%   -1.524986e-01       NaN   NaN -4.358010e-01 -9.215979e-01 -6.505811e-01   \n",
       "50%   -1.524986e-01       NaN   NaN -4.358010e-01 -9.215979e-01 -6.505811e-01   \n",
       "75%   -1.524986e-01       NaN   NaN -4.358010e-01  1.059838e+00  1.501341e+00   \n",
       "max    6.404940e+00       NaN   NaN  2.241262e+00  1.059838e+00  1.501341e+00   \n",
       "\n",
       "            toothed      backbone      breathes      venomous          fins  \\\n",
       "count  4.300000e+01  4.300000e+01  4.300000e+01  4.300000e+01  4.300000e+01   \n",
       "mean   6.712976e-17 -2.788467e-16 -3.098297e-17 -8.003933e-17  2.065531e-17   \n",
       "std    1.000000e+00  1.000000e+00  1.000000e+00  1.000000e+00  1.000000e+00   \n",
       "min   -8.793497e-01 -1.164727e+00 -1.795343e+00 -3.584954e-01 -4.358010e-01   \n",
       "25%   -8.793497e-01 -1.164727e+00  5.440433e-01 -3.584954e-01 -4.358010e-01   \n",
       "50%   -8.793497e-01  8.386035e-01  5.440433e-01 -3.584954e-01 -4.358010e-01   \n",
       "75%    1.110757e+00  8.386035e-01  5.440433e-01 -3.584954e-01 -4.358010e-01   \n",
       "max    1.110757e+00  8.386035e-01  5.440433e-01  2.724565e+00  2.241262e+00   \n",
       "\n",
       "               legs          tail      domestic    class_type  \n",
       "count  4.300000e+01  4.300000e+01  4.300000e+01  4.300000e+01  \n",
       "mean   1.239319e-16  3.976148e-16  3.098297e-17  1.342595e-16  \n",
       "std    1.000000e+00  1.000000e+00  1.000000e+00  1.000000e+00  \n",
       "min   -1.240487e+00 -9.655810e-01 -3.584954e-01 -1.256027e+00  \n",
       "25%   -1.240487e+00 -9.655810e-01 -3.584954e-01 -1.256027e+00  \n",
       "50%    3.056273e-01 -9.655810e-01 -3.584954e-01  1.112935e-01  \n",
       "75%    1.078684e+00  1.011561e+00 -3.584954e-01  7.949538e-01  \n",
       "max    1.851742e+00  1.011561e+00  2.724565e+00  1.478614e+00  "
      ]
     },
     "execution_count": 80,
     "metadata": {},
     "output_type": "execute_result"
    }
   ],
   "source": [
    "data_numerical.describe()"
   ]
  },
  {
   "cell_type": "markdown",
   "metadata": {},
   "source": [
    "# Соединяем все в одну таблицу"
   ]
  },
  {
   "cell_type": "code",
   "execution_count": 126,
   "metadata": {},
   "outputs": [
    {
     "name": "stdout",
     "output_type": "stream",
     "text": [
      "(43, 58)\n"
     ]
    }
   ],
   "source": [
    "# Т.к. в нашей задаче нет бинарных признаков, то делаем это следующим образом\n",
    "data = pd.concat((data_numerical, data_nonbinary, data[binary_columns]), axis = 1)\n",
    "print(data.shape)\n",
    "#print data.columns"
   ]
  },
  {
   "cell_type": "code",
   "execution_count": 84,
   "metadata": {},
   "outputs": [
    {
     "data": {
      "text/html": [
       "<div>\n",
       "<style scoped>\n",
       "    .dataframe tbody tr th:only-of-type {\n",
       "        vertical-align: middle;\n",
       "    }\n",
       "\n",
       "    .dataframe tbody tr th {\n",
       "        vertical-align: top;\n",
       "    }\n",
       "\n",
       "    .dataframe thead th {\n",
       "        text-align: right;\n",
       "    }\n",
       "</style>\n",
       "<table border=\"1\" class=\"dataframe\">\n",
       "  <thead>\n",
       "    <tr style=\"text-align: right;\">\n",
       "      <th></th>\n",
       "      <th>hair</th>\n",
       "      <th>feathers</th>\n",
       "      <th>eggs</th>\n",
       "      <th>airborne</th>\n",
       "      <th>aquatic</th>\n",
       "      <th>predator</th>\n",
       "      <th>toothed</th>\n",
       "      <th>backbone</th>\n",
       "      <th>breathes</th>\n",
       "      <th>venomous</th>\n",
       "      <th>...</th>\n",
       "      <th>animal_name_silkworm</th>\n",
       "      <th>animal_name_siren</th>\n",
       "      <th>animal_name_skink</th>\n",
       "      <th>animal_name_snail</th>\n",
       "      <th>animal_name_spider</th>\n",
       "      <th>animal_name_squid</th>\n",
       "      <th>animal_name_tree frog</th>\n",
       "      <th>animal_name_trout</th>\n",
       "      <th>animal_name_turtle</th>\n",
       "      <th>animal_name_wart toad</th>\n",
       "    </tr>\n",
       "  </thead>\n",
       "  <tbody>\n",
       "    <tr>\n",
       "      <td>count</td>\n",
       "      <td>4.300000e+01</td>\n",
       "      <td>0.0</td>\n",
       "      <td>0.0</td>\n",
       "      <td>4.300000e+01</td>\n",
       "      <td>4.300000e+01</td>\n",
       "      <td>4.300000e+01</td>\n",
       "      <td>4.300000e+01</td>\n",
       "      <td>4.300000e+01</td>\n",
       "      <td>4.300000e+01</td>\n",
       "      <td>4.300000e+01</td>\n",
       "      <td>...</td>\n",
       "      <td>43.000000</td>\n",
       "      <td>43.000000</td>\n",
       "      <td>43.000000</td>\n",
       "      <td>43.000000</td>\n",
       "      <td>43.000000</td>\n",
       "      <td>43.000000</td>\n",
       "      <td>43.000000</td>\n",
       "      <td>43.000000</td>\n",
       "      <td>43.000000</td>\n",
       "      <td>43.000000</td>\n",
       "    </tr>\n",
       "    <tr>\n",
       "      <td>mean</td>\n",
       "      <td>-3.614680e-17</td>\n",
       "      <td>NaN</td>\n",
       "      <td>NaN</td>\n",
       "      <td>-1.110223e-16</td>\n",
       "      <td>8.262125e-17</td>\n",
       "      <td>-5.163828e-18</td>\n",
       "      <td>6.712976e-17</td>\n",
       "      <td>-2.788467e-16</td>\n",
       "      <td>-3.098297e-17</td>\n",
       "      <td>-8.003933e-17</td>\n",
       "      <td>...</td>\n",
       "      <td>0.023256</td>\n",
       "      <td>0.023256</td>\n",
       "      <td>0.023256</td>\n",
       "      <td>0.023256</td>\n",
       "      <td>0.023256</td>\n",
       "      <td>0.023256</td>\n",
       "      <td>0.023256</td>\n",
       "      <td>0.023256</td>\n",
       "      <td>0.023256</td>\n",
       "      <td>0.023256</td>\n",
       "    </tr>\n",
       "    <tr>\n",
       "      <td>std</td>\n",
       "      <td>1.000000e+00</td>\n",
       "      <td>NaN</td>\n",
       "      <td>NaN</td>\n",
       "      <td>1.000000e+00</td>\n",
       "      <td>1.000000e+00</td>\n",
       "      <td>1.000000e+00</td>\n",
       "      <td>1.000000e+00</td>\n",
       "      <td>1.000000e+00</td>\n",
       "      <td>1.000000e+00</td>\n",
       "      <td>1.000000e+00</td>\n",
       "      <td>...</td>\n",
       "      <td>0.152499</td>\n",
       "      <td>0.152499</td>\n",
       "      <td>0.152499</td>\n",
       "      <td>0.152499</td>\n",
       "      <td>0.152499</td>\n",
       "      <td>0.152499</td>\n",
       "      <td>0.152499</td>\n",
       "      <td>0.152499</td>\n",
       "      <td>0.152499</td>\n",
       "      <td>0.152499</td>\n",
       "    </tr>\n",
       "    <tr>\n",
       "      <td>min</td>\n",
       "      <td>-1.524986e-01</td>\n",
       "      <td>NaN</td>\n",
       "      <td>NaN</td>\n",
       "      <td>-4.358010e-01</td>\n",
       "      <td>-9.215979e-01</td>\n",
       "      <td>-6.505811e-01</td>\n",
       "      <td>-8.793497e-01</td>\n",
       "      <td>-1.164727e+00</td>\n",
       "      <td>-1.795343e+00</td>\n",
       "      <td>-3.584954e-01</td>\n",
       "      <td>...</td>\n",
       "      <td>0.000000</td>\n",
       "      <td>0.000000</td>\n",
       "      <td>0.000000</td>\n",
       "      <td>0.000000</td>\n",
       "      <td>0.000000</td>\n",
       "      <td>0.000000</td>\n",
       "      <td>0.000000</td>\n",
       "      <td>0.000000</td>\n",
       "      <td>0.000000</td>\n",
       "      <td>0.000000</td>\n",
       "    </tr>\n",
       "    <tr>\n",
       "      <td>25%</td>\n",
       "      <td>-1.524986e-01</td>\n",
       "      <td>NaN</td>\n",
       "      <td>NaN</td>\n",
       "      <td>-4.358010e-01</td>\n",
       "      <td>-9.215979e-01</td>\n",
       "      <td>-6.505811e-01</td>\n",
       "      <td>-8.793497e-01</td>\n",
       "      <td>-1.164727e+00</td>\n",
       "      <td>5.440433e-01</td>\n",
       "      <td>-3.584954e-01</td>\n",
       "      <td>...</td>\n",
       "      <td>0.000000</td>\n",
       "      <td>0.000000</td>\n",
       "      <td>0.000000</td>\n",
       "      <td>0.000000</td>\n",
       "      <td>0.000000</td>\n",
       "      <td>0.000000</td>\n",
       "      <td>0.000000</td>\n",
       "      <td>0.000000</td>\n",
       "      <td>0.000000</td>\n",
       "      <td>0.000000</td>\n",
       "    </tr>\n",
       "    <tr>\n",
       "      <td>50%</td>\n",
       "      <td>-1.524986e-01</td>\n",
       "      <td>NaN</td>\n",
       "      <td>NaN</td>\n",
       "      <td>-4.358010e-01</td>\n",
       "      <td>-9.215979e-01</td>\n",
       "      <td>-6.505811e-01</td>\n",
       "      <td>-8.793497e-01</td>\n",
       "      <td>8.386035e-01</td>\n",
       "      <td>5.440433e-01</td>\n",
       "      <td>-3.584954e-01</td>\n",
       "      <td>...</td>\n",
       "      <td>0.000000</td>\n",
       "      <td>0.000000</td>\n",
       "      <td>0.000000</td>\n",
       "      <td>0.000000</td>\n",
       "      <td>0.000000</td>\n",
       "      <td>0.000000</td>\n",
       "      <td>0.000000</td>\n",
       "      <td>0.000000</td>\n",
       "      <td>0.000000</td>\n",
       "      <td>0.000000</td>\n",
       "    </tr>\n",
       "    <tr>\n",
       "      <td>75%</td>\n",
       "      <td>-1.524986e-01</td>\n",
       "      <td>NaN</td>\n",
       "      <td>NaN</td>\n",
       "      <td>-4.358010e-01</td>\n",
       "      <td>1.059838e+00</td>\n",
       "      <td>1.501341e+00</td>\n",
       "      <td>1.110757e+00</td>\n",
       "      <td>8.386035e-01</td>\n",
       "      <td>5.440433e-01</td>\n",
       "      <td>-3.584954e-01</td>\n",
       "      <td>...</td>\n",
       "      <td>0.000000</td>\n",
       "      <td>0.000000</td>\n",
       "      <td>0.000000</td>\n",
       "      <td>0.000000</td>\n",
       "      <td>0.000000</td>\n",
       "      <td>0.000000</td>\n",
       "      <td>0.000000</td>\n",
       "      <td>0.000000</td>\n",
       "      <td>0.000000</td>\n",
       "      <td>0.000000</td>\n",
       "    </tr>\n",
       "    <tr>\n",
       "      <td>max</td>\n",
       "      <td>6.404940e+00</td>\n",
       "      <td>NaN</td>\n",
       "      <td>NaN</td>\n",
       "      <td>2.241262e+00</td>\n",
       "      <td>1.059838e+00</td>\n",
       "      <td>1.501341e+00</td>\n",
       "      <td>1.110757e+00</td>\n",
       "      <td>8.386035e-01</td>\n",
       "      <td>5.440433e-01</td>\n",
       "      <td>2.724565e+00</td>\n",
       "      <td>...</td>\n",
       "      <td>1.000000</td>\n",
       "      <td>1.000000</td>\n",
       "      <td>1.000000</td>\n",
       "      <td>1.000000</td>\n",
       "      <td>1.000000</td>\n",
       "      <td>1.000000</td>\n",
       "      <td>1.000000</td>\n",
       "      <td>1.000000</td>\n",
       "      <td>1.000000</td>\n",
       "      <td>1.000000</td>\n",
       "    </tr>\n",
       "  </tbody>\n",
       "</table>\n",
       "<p>8 rows × 58 columns</p>\n",
       "</div>"
      ],
      "text/plain": [
       "               hair  feathers  eggs      airborne       aquatic      predator  \\\n",
       "count  4.300000e+01       0.0   0.0  4.300000e+01  4.300000e+01  4.300000e+01   \n",
       "mean  -3.614680e-17       NaN   NaN -1.110223e-16  8.262125e-17 -5.163828e-18   \n",
       "std    1.000000e+00       NaN   NaN  1.000000e+00  1.000000e+00  1.000000e+00   \n",
       "min   -1.524986e-01       NaN   NaN -4.358010e-01 -9.215979e-01 -6.505811e-01   \n",
       "25%   -1.524986e-01       NaN   NaN -4.358010e-01 -9.215979e-01 -6.505811e-01   \n",
       "50%   -1.524986e-01       NaN   NaN -4.358010e-01 -9.215979e-01 -6.505811e-01   \n",
       "75%   -1.524986e-01       NaN   NaN -4.358010e-01  1.059838e+00  1.501341e+00   \n",
       "max    6.404940e+00       NaN   NaN  2.241262e+00  1.059838e+00  1.501341e+00   \n",
       "\n",
       "            toothed      backbone      breathes      venomous  ...  \\\n",
       "count  4.300000e+01  4.300000e+01  4.300000e+01  4.300000e+01  ...   \n",
       "mean   6.712976e-17 -2.788467e-16 -3.098297e-17 -8.003933e-17  ...   \n",
       "std    1.000000e+00  1.000000e+00  1.000000e+00  1.000000e+00  ...   \n",
       "min   -8.793497e-01 -1.164727e+00 -1.795343e+00 -3.584954e-01  ...   \n",
       "25%   -8.793497e-01 -1.164727e+00  5.440433e-01 -3.584954e-01  ...   \n",
       "50%   -8.793497e-01  8.386035e-01  5.440433e-01 -3.584954e-01  ...   \n",
       "75%    1.110757e+00  8.386035e-01  5.440433e-01 -3.584954e-01  ...   \n",
       "max    1.110757e+00  8.386035e-01  5.440433e-01  2.724565e+00  ...   \n",
       "\n",
       "       animal_name_silkworm  animal_name_siren  animal_name_skink  \\\n",
       "count             43.000000          43.000000          43.000000   \n",
       "mean               0.023256           0.023256           0.023256   \n",
       "std                0.152499           0.152499           0.152499   \n",
       "min                0.000000           0.000000           0.000000   \n",
       "25%                0.000000           0.000000           0.000000   \n",
       "50%                0.000000           0.000000           0.000000   \n",
       "75%                0.000000           0.000000           0.000000   \n",
       "max                1.000000           1.000000           1.000000   \n",
       "\n",
       "       animal_name_snail  animal_name_spider  animal_name_squid  \\\n",
       "count          43.000000           43.000000          43.000000   \n",
       "mean            0.023256            0.023256           0.023256   \n",
       "std             0.152499            0.152499           0.152499   \n",
       "min             0.000000            0.000000           0.000000   \n",
       "25%             0.000000            0.000000           0.000000   \n",
       "50%             0.000000            0.000000           0.000000   \n",
       "75%             0.000000            0.000000           0.000000   \n",
       "max             1.000000            1.000000           1.000000   \n",
       "\n",
       "       animal_name_tree frog  animal_name_trout  animal_name_turtle  \\\n",
       "count              43.000000          43.000000           43.000000   \n",
       "mean                0.023256           0.023256            0.023256   \n",
       "std                 0.152499           0.152499            0.152499   \n",
       "min                 0.000000           0.000000            0.000000   \n",
       "25%                 0.000000           0.000000            0.000000   \n",
       "50%                 0.000000           0.000000            0.000000   \n",
       "75%                 0.000000           0.000000            0.000000   \n",
       "max                 1.000000           1.000000            1.000000   \n",
       "\n",
       "       animal_name_wart toad  \n",
       "count              43.000000  \n",
       "mean                0.023256  \n",
       "std                 0.152499  \n",
       "min                 0.000000  \n",
       "25%                 0.000000  \n",
       "50%                 0.000000  \n",
       "75%                 0.000000  \n",
       "max                 1.000000  \n",
       "\n",
       "[8 rows x 58 columns]"
      ]
     },
     "execution_count": 84,
     "metadata": {},
     "output_type": "execute_result"
    }
   ],
   "source": [
    "data.describe()"
   ]
  },
  {
   "cell_type": "markdown",
   "metadata": {},
   "source": [
    "# X и y, $k$NN\n",
    "Работаем только с тестовой выборкой"
   ]
  },
  {
   "cell_type": "code",
   "execution_count": 11,
   "metadata": {},
   "outputs": [],
   "source": [
    "import numpy as np\n",
    "import matplotlib.pyplot as plt\n",
    "import pandas as pd\n",
    "data1 = pd.read_csv('C:/Users/Lenovo/Desktop/zoo3.csv', sep = ',', engine = 'python') "
   ]
  },
  {
   "cell_type": "code",
   "execution_count": 12,
   "metadata": {},
   "outputs": [],
   "source": [
    "# Тестовая выборка\n",
    "data1 = data1.drop('animal_name', axis = 1)"
   ]
  },
  {
   "cell_type": "code",
   "execution_count": 13,
   "metadata": {},
   "outputs": [
    {
     "data": {
      "text/html": [
       "<div>\n",
       "<style scoped>\n",
       "    .dataframe tbody tr th:only-of-type {\n",
       "        vertical-align: middle;\n",
       "    }\n",
       "\n",
       "    .dataframe tbody tr th {\n",
       "        vertical-align: top;\n",
       "    }\n",
       "\n",
       "    .dataframe thead th {\n",
       "        text-align: right;\n",
       "    }\n",
       "</style>\n",
       "<table border=\"1\" class=\"dataframe\">\n",
       "  <thead>\n",
       "    <tr style=\"text-align: right;\">\n",
       "      <th></th>\n",
       "      <th>hair</th>\n",
       "      <th>feathers</th>\n",
       "      <th>eggs</th>\n",
       "      <th>milk</th>\n",
       "      <th>airborne</th>\n",
       "      <th>aquatic</th>\n",
       "      <th>predator</th>\n",
       "      <th>toothed</th>\n",
       "      <th>backbone</th>\n",
       "      <th>breathes</th>\n",
       "      <th>venomous</th>\n",
       "      <th>fins</th>\n",
       "      <th>legs</th>\n",
       "      <th>tail</th>\n",
       "      <th>domestic</th>\n",
       "      <th>catsize</th>\n",
       "      <th>class_type</th>\n",
       "    </tr>\n",
       "  </thead>\n",
       "  <tbody>\n",
       "    <tr>\n",
       "      <td>0</td>\n",
       "      <td>1</td>\n",
       "      <td>0</td>\n",
       "      <td>0</td>\n",
       "      <td>1</td>\n",
       "      <td>0</td>\n",
       "      <td>0</td>\n",
       "      <td>0</td>\n",
       "      <td>1</td>\n",
       "      <td>1</td>\n",
       "      <td>1</td>\n",
       "      <td>0</td>\n",
       "      <td>0</td>\n",
       "      <td>4</td>\n",
       "      <td>0</td>\n",
       "      <td>0</td>\n",
       "      <td>0</td>\n",
       "      <td>1</td>\n",
       "    </tr>\n",
       "    <tr>\n",
       "      <td>1</td>\n",
       "      <td>1</td>\n",
       "      <td>0</td>\n",
       "      <td>0</td>\n",
       "      <td>1</td>\n",
       "      <td>0</td>\n",
       "      <td>1</td>\n",
       "      <td>1</td>\n",
       "      <td>1</td>\n",
       "      <td>1</td>\n",
       "      <td>1</td>\n",
       "      <td>0</td>\n",
       "      <td>1</td>\n",
       "      <td>4</td>\n",
       "      <td>1</td>\n",
       "      <td>0</td>\n",
       "      <td>0</td>\n",
       "      <td>1</td>\n",
       "    </tr>\n",
       "    <tr>\n",
       "      <td>2</td>\n",
       "      <td>0</td>\n",
       "      <td>0</td>\n",
       "      <td>0</td>\n",
       "      <td>1</td>\n",
       "      <td>0</td>\n",
       "      <td>1</td>\n",
       "      <td>1</td>\n",
       "      <td>1</td>\n",
       "      <td>1</td>\n",
       "      <td>1</td>\n",
       "      <td>0</td>\n",
       "      <td>1</td>\n",
       "      <td>0</td>\n",
       "      <td>1</td>\n",
       "      <td>0</td>\n",
       "      <td>0</td>\n",
       "      <td>1</td>\n",
       "    </tr>\n",
       "    <tr>\n",
       "      <td>3</td>\n",
       "      <td>1</td>\n",
       "      <td>0</td>\n",
       "      <td>0</td>\n",
       "      <td>1</td>\n",
       "      <td>0</td>\n",
       "      <td>0</td>\n",
       "      <td>0</td>\n",
       "      <td>1</td>\n",
       "      <td>1</td>\n",
       "      <td>1</td>\n",
       "      <td>0</td>\n",
       "      <td>0</td>\n",
       "      <td>4</td>\n",
       "      <td>1</td>\n",
       "      <td>0</td>\n",
       "      <td>0</td>\n",
       "      <td>1</td>\n",
       "    </tr>\n",
       "    <tr>\n",
       "      <td>4</td>\n",
       "      <td>1</td>\n",
       "      <td>0</td>\n",
       "      <td>0</td>\n",
       "      <td>1</td>\n",
       "      <td>0</td>\n",
       "      <td>0</td>\n",
       "      <td>1</td>\n",
       "      <td>1</td>\n",
       "      <td>1</td>\n",
       "      <td>1</td>\n",
       "      <td>0</td>\n",
       "      <td>0</td>\n",
       "      <td>4</td>\n",
       "      <td>1</td>\n",
       "      <td>0</td>\n",
       "      <td>1</td>\n",
       "      <td>1</td>\n",
       "    </tr>\n",
       "    <tr>\n",
       "      <td>...</td>\n",
       "      <td>...</td>\n",
       "      <td>...</td>\n",
       "      <td>...</td>\n",
       "      <td>...</td>\n",
       "      <td>...</td>\n",
       "      <td>...</td>\n",
       "      <td>...</td>\n",
       "      <td>...</td>\n",
       "      <td>...</td>\n",
       "      <td>...</td>\n",
       "      <td>...</td>\n",
       "      <td>...</td>\n",
       "      <td>...</td>\n",
       "      <td>...</td>\n",
       "      <td>...</td>\n",
       "      <td>...</td>\n",
       "      <td>...</td>\n",
       "    </tr>\n",
       "    <tr>\n",
       "      <td>65</td>\n",
       "      <td>0</td>\n",
       "      <td>0</td>\n",
       "      <td>1</td>\n",
       "      <td>0</td>\n",
       "      <td>1</td>\n",
       "      <td>0</td>\n",
       "      <td>1</td>\n",
       "      <td>0</td>\n",
       "      <td>0</td>\n",
       "      <td>1</td>\n",
       "      <td>1</td>\n",
       "      <td>0</td>\n",
       "      <td>6</td>\n",
       "      <td>0</td>\n",
       "      <td>0</td>\n",
       "      <td>0</td>\n",
       "      <td>6</td>\n",
       "    </tr>\n",
       "    <tr>\n",
       "      <td>66</td>\n",
       "      <td>0</td>\n",
       "      <td>0</td>\n",
       "      <td>1</td>\n",
       "      <td>0</td>\n",
       "      <td>0</td>\n",
       "      <td>0</td>\n",
       "      <td>0</td>\n",
       "      <td>0</td>\n",
       "      <td>0</td>\n",
       "      <td>1</td>\n",
       "      <td>0</td>\n",
       "      <td>0</td>\n",
       "      <td>6</td>\n",
       "      <td>0</td>\n",
       "      <td>0</td>\n",
       "      <td>0</td>\n",
       "      <td>7</td>\n",
       "    </tr>\n",
       "    <tr>\n",
       "      <td>67</td>\n",
       "      <td>0</td>\n",
       "      <td>0</td>\n",
       "      <td>1</td>\n",
       "      <td>0</td>\n",
       "      <td>0</td>\n",
       "      <td>0</td>\n",
       "      <td>0</td>\n",
       "      <td>0</td>\n",
       "      <td>0</td>\n",
       "      <td>1</td>\n",
       "      <td>0</td>\n",
       "      <td>0</td>\n",
       "      <td>0</td>\n",
       "      <td>0</td>\n",
       "      <td>0</td>\n",
       "      <td>0</td>\n",
       "      <td>7</td>\n",
       "    </tr>\n",
       "    <tr>\n",
       "      <td>68</td>\n",
       "      <td>1</td>\n",
       "      <td>0</td>\n",
       "      <td>1</td>\n",
       "      <td>0</td>\n",
       "      <td>0</td>\n",
       "      <td>0</td>\n",
       "      <td>1</td>\n",
       "      <td>0</td>\n",
       "      <td>0</td>\n",
       "      <td>1</td>\n",
       "      <td>1</td>\n",
       "      <td>0</td>\n",
       "      <td>8</td>\n",
       "      <td>0</td>\n",
       "      <td>0</td>\n",
       "      <td>0</td>\n",
       "      <td>7</td>\n",
       "    </tr>\n",
       "    <tr>\n",
       "      <td>69</td>\n",
       "      <td>1</td>\n",
       "      <td>0</td>\n",
       "      <td>1</td>\n",
       "      <td>0</td>\n",
       "      <td>0</td>\n",
       "      <td>0</td>\n",
       "      <td>1</td>\n",
       "      <td>0</td>\n",
       "      <td>0</td>\n",
       "      <td>1</td>\n",
       "      <td>1</td>\n",
       "      <td>0</td>\n",
       "      <td>6</td>\n",
       "      <td>0</td>\n",
       "      <td>0</td>\n",
       "      <td>0</td>\n",
       "      <td>7</td>\n",
       "    </tr>\n",
       "  </tbody>\n",
       "</table>\n",
       "<p>70 rows × 17 columns</p>\n",
       "</div>"
      ],
      "text/plain": [
       "    hair  feathers  eggs  milk  airborne  aquatic  predator  toothed  \\\n",
       "0      1         0     0     1         0        0         0        1   \n",
       "1      1         0     0     1         0        1         1        1   \n",
       "2      0         0     0     1         0        1         1        1   \n",
       "3      1         0     0     1         0        0         0        1   \n",
       "4      1         0     0     1         0        0         1        1   \n",
       "..   ...       ...   ...   ...       ...      ...       ...      ...   \n",
       "65     0         0     1     0         1        0         1        0   \n",
       "66     0         0     1     0         0        0         0        0   \n",
       "67     0         0     1     0         0        0         0        0   \n",
       "68     1         0     1     0         0        0         1        0   \n",
       "69     1         0     1     0         0        0         1        0   \n",
       "\n",
       "    backbone  breathes  venomous  fins  legs  tail  domestic  catsize  \\\n",
       "0          1         1         0     0     4     0         0        0   \n",
       "1          1         1         0     1     4     1         0        0   \n",
       "2          1         1         0     1     0     1         0        0   \n",
       "3          1         1         0     0     4     1         0        0   \n",
       "4          1         1         0     0     4     1         0        1   \n",
       "..       ...       ...       ...   ...   ...   ...       ...      ...   \n",
       "65         0         1         1     0     6     0         0        0   \n",
       "66         0         1         0     0     6     0         0        0   \n",
       "67         0         1         0     0     0     0         0        0   \n",
       "68         0         1         1     0     8     0         0        0   \n",
       "69         0         1         1     0     6     0         0        0   \n",
       "\n",
       "    class_type  \n",
       "0            1  \n",
       "1            1  \n",
       "2            1  \n",
       "3            1  \n",
       "4            1  \n",
       "..         ...  \n",
       "65           6  \n",
       "66           7  \n",
       "67           7  \n",
       "68           7  \n",
       "69           7  \n",
       "\n",
       "[70 rows x 17 columns]"
      ]
     },
     "execution_count": 13,
     "metadata": {},
     "output_type": "execute_result"
    }
   ],
   "source": [
    "data1"
   ]
  },
  {
   "cell_type": "code",
   "execution_count": 35,
   "metadata": {},
   "outputs": [
    {
     "data": {
      "text/plain": [
       "pandas.core.indexes.base.Index"
      ]
     },
     "execution_count": 35,
     "metadata": {},
     "output_type": "execute_result"
    }
   ],
   "source": [
    "type(feature_names)"
   ]
  },
  {
   "cell_type": "code",
   "execution_count": 36,
   "metadata": {},
   "outputs": [
    {
     "data": {
      "text/plain": [
       "Index(['hair', 'feathers', 'eggs', 'milk', 'airborne', 'aquatic', 'predator',\n",
       "       'toothed', 'backbone', 'breathes', 'venomous', 'fins', 'legs', 'tail',\n",
       "       'domestic', 'catsize'],\n",
       "      dtype='object')"
      ]
     },
     "execution_count": 36,
     "metadata": {},
     "output_type": "execute_result"
    }
   ],
   "source": [
    "feature_names"
   ]
  },
  {
   "cell_type": "code",
   "execution_count": 14,
   "metadata": {},
   "outputs": [],
   "source": [
    "# Выбрасываем столбец 'class_type'\n",
    "y = data1['class_type']\n",
    "X = data1.drop(('class_type'), axis = 1) \n",
    "feature_names = X.columns"
   ]
  },
  {
   "cell_type": "code",
   "execution_count": 15,
   "metadata": {},
   "outputs": [
    {
     "data": {
      "text/plain": [
       "0     1\n",
       "1     1\n",
       "2     1\n",
       "3     1\n",
       "4     1\n",
       "     ..\n",
       "65    6\n",
       "66    7\n",
       "67    7\n",
       "68    7\n",
       "69    7\n",
       "Name: class_type, Length: 70, dtype: int64"
      ]
     },
     "execution_count": 15,
     "metadata": {},
     "output_type": "execute_result"
    }
   ],
   "source": [
    "y"
   ]
  },
  {
   "cell_type": "code",
   "execution_count": 16,
   "metadata": {},
   "outputs": [
    {
     "name": "stdout",
     "output_type": "stream",
     "text": [
      "35 35\n"
     ]
    }
   ],
   "source": [
    "# Разбиваем выборку на обучающую и тестовую и на тест даем 50% выборки\n",
    "from sklearn.model_selection import train_test_split\n",
    "X_train, X_test, y_train, y_test = train_test_split(X, y, test_size = 0.5, random_state = 17)\n",
    "\n",
    "N_train, _ = X_train.shape \n",
    "N_test,  _ = X_test.shape \n",
    "\n",
    "print(N_train, N_test)"
   ]
  },
  {
   "cell_type": "code",
   "execution_count": 17,
   "metadata": {},
   "outputs": [
    {
     "data": {
      "text/plain": [
       "KNeighborsClassifier(algorithm='auto', leaf_size=30, metric='minkowski',\n",
       "                     metric_params=None, n_jobs=None, n_neighbors=10, p=2,\n",
       "                     weights='uniform')"
      ]
     },
     "execution_count": 17,
     "metadata": {},
     "output_type": "execute_result"
    }
   ],
   "source": [
    "# Реализуем метод ближайшего соседа\n",
    "# Будем использовать k ближайших соседей с числом соседей равным 10\n",
    "from sklearn.neighbors import KNeighborsClassifier\n",
    "\n",
    "knn = KNeighborsClassifier(n_neighbors = 10)\n",
    "#knn.set_params(n_neighbors=10)\n",
    "knn.fit(X_train, y_train)"
   ]
  },
  {
   "cell_type": "code",
   "execution_count": 18,
   "metadata": {},
   "outputs": [
    {
     "name": "stdout",
     "output_type": "stream",
     "text": [
      "0.3142857142857143 0.37142857142857144\n"
     ]
    }
   ],
   "source": [
    "# Считаем ошибку на тесте и на обуч. выборке\n",
    "y_train_predict = knn.predict(X_train)\n",
    "y_test_predict = knn.predict(X_test)\n",
    "\n",
    "err_train = np.mean(y_train != y_train_predict)\n",
    "err_test  = np.mean(y_test  != y_test_predict)\n",
    "\n",
    "print(err_train, err_test)"
   ]
  },
  {
   "cell_type": "code",
   "execution_count": 19,
   "metadata": {},
   "outputs": [
    {
     "name": "stderr",
     "output_type": "stream",
     "text": [
      "C:\\Users\\Lenovo\\Documents\\Anaconda\\lib\\site-packages\\sklearn\\model_selection\\_split.py:657: Warning: The least populated class in y has only 2 members, which is too few. The minimum number of members in any class cannot be less than n_splits=10.\n",
      "  % (min_groups, self.n_splits)), Warning)\n"
     ]
    },
    {
     "name": "stdout",
     "output_type": "stream",
     "text": [
      "0.11428571428571432 1\n"
     ]
    },
    {
     "name": "stderr",
     "output_type": "stream",
     "text": [
      "C:\\Users\\Lenovo\\Documents\\Anaconda\\lib\\site-packages\\sklearn\\model_selection\\_search.py:814: DeprecationWarning: The default of the `iid` parameter will change from True to False in version 0.22 and will be removed in 0.24. This will change numeric results when test-set sizes are unequal.\n",
      "  DeprecationWarning)\n"
     ]
    }
   ],
   "source": [
    "# Подберем параметры - наилучший k \n",
    "from sklearn.model_selection import GridSearchCV\n",
    "nnb = [1, 2, 3, 4, 5, 6, 7, 8, 9, 10]\n",
    "knn = KNeighborsClassifier()\n",
    "grid = GridSearchCV(knn, param_grid = {'n_neighbors': nnb}, cv=10)\n",
    "grid.fit(X_train, y_train)\n",
    "\n",
    "best_cv_err = 1 - grid.best_score_\n",
    "best_n_neighbors = grid.best_estimator_.n_neighbors\n",
    "print(best_cv_err, best_n_neighbors)"
   ]
  },
  {
   "cell_type": "code",
   "execution_count": 20,
   "metadata": {},
   "outputs": [
    {
     "name": "stdout",
     "output_type": "stream",
     "text": [
      "0.0 0.2571428571428571\n"
     ]
    }
   ],
   "source": [
    "knn = KNeighborsClassifier(n_neighbors = best_n_neighbors).fit(X_train, y_train)\n",
    "\n",
    "err_train = np.mean(y_train != knn.predict(X_train))\n",
    "err_test  = np.mean(y_test  != knn.predict(X_test))\n",
    "\n",
    "print(err_train, err_test)\n",
    "# 0.0 0.2571428571428571  for train/test = 50% / 50%"
   ]
  },
  {
   "cell_type": "code",
   "execution_count": 21,
   "metadata": {},
   "outputs": [
    {
     "name": "stdout",
     "output_type": "stream",
     "text": [
      "42 28\n"
     ]
    }
   ],
   "source": [
    "# Разбиваем выборку на обучающую и тестовую и на тест даем 40% выборки\n",
    "from sklearn.model_selection import train_test_split\n",
    "X_train, X_test, y_train, y_test = train_test_split(X, y, test_size = 0.4, random_state = 17)\n",
    "\n",
    "N_train, _ = X_train.shape \n",
    "N_test,  _ = X_test.shape \n",
    "\n",
    "print(N_train, N_test)"
   ]
  },
  {
   "cell_type": "code",
   "execution_count": 23,
   "metadata": {},
   "outputs": [
    {
     "data": {
      "text/plain": [
       "KNeighborsClassifier(algorithm='auto', leaf_size=30, metric='minkowski',\n",
       "                     metric_params=None, n_jobs=None, n_neighbors=10, p=2,\n",
       "                     weights='uniform')"
      ]
     },
     "execution_count": 23,
     "metadata": {},
     "output_type": "execute_result"
    }
   ],
   "source": [
    "# Реализуем метод ближайшего соседа\n",
    "# Будем использовать k ближайших соседей с числом соседей равным 10\n",
    "from sklearn.neighbors import KNeighborsClassifier\n",
    "\n",
    "knn = KNeighborsClassifier(n_neighbors = 10)\n",
    "#knn.set_params(n_neighbors=10)\n",
    "knn.fit(X_train, y_train)"
   ]
  },
  {
   "cell_type": "code",
   "execution_count": 24,
   "metadata": {},
   "outputs": [
    {
     "name": "stdout",
     "output_type": "stream",
     "text": [
      "0.2857142857142857 0.42857142857142855\n"
     ]
    }
   ],
   "source": [
    "# Считаем ошибку на тесте и на обуч. выборке\n",
    "y_train_predict = knn.predict(X_train)\n",
    "y_test_predict = knn.predict(X_test)\n",
    "\n",
    "err_train = np.mean(y_train != y_train_predict)\n",
    "err_test  = np.mean(y_test  != y_test_predict)\n",
    "\n",
    "print(err_train, err_test)"
   ]
  },
  {
   "cell_type": "code",
   "execution_count": 25,
   "metadata": {},
   "outputs": [
    {
     "name": "stderr",
     "output_type": "stream",
     "text": [
      "C:\\Users\\Lenovo\\Documents\\Anaconda\\lib\\site-packages\\sklearn\\model_selection\\_split.py:657: Warning: The least populated class in y has only 1 members, which is too few. The minimum number of members in any class cannot be less than n_splits=10.\n",
      "  % (min_groups, self.n_splits)), Warning)\n"
     ]
    },
    {
     "name": "stdout",
     "output_type": "stream",
     "text": [
      "0.11904761904761907 1\n"
     ]
    },
    {
     "name": "stderr",
     "output_type": "stream",
     "text": [
      "C:\\Users\\Lenovo\\Documents\\Anaconda\\lib\\site-packages\\sklearn\\model_selection\\_search.py:814: DeprecationWarning: The default of the `iid` parameter will change from True to False in version 0.22 and will be removed in 0.24. This will change numeric results when test-set sizes are unequal.\n",
      "  DeprecationWarning)\n"
     ]
    }
   ],
   "source": [
    "# Подберем параметры - наилучший k \n",
    "from sklearn.model_selection import GridSearchCV\n",
    "nnb = [1, 2, 3, 4, 5, 6, 7, 8, 9, 10]\n",
    "knn = KNeighborsClassifier()\n",
    "grid = GridSearchCV(knn, param_grid = {'n_neighbors': nnb}, cv=10)\n",
    "grid.fit(X_train, y_train)\n",
    "\n",
    "best_cv_err = 1 - grid.best_score_\n",
    "best_n_neighbors = grid.best_estimator_.n_neighbors\n",
    "print(best_cv_err, best_n_neighbors)"
   ]
  },
  {
   "cell_type": "code",
   "execution_count": 26,
   "metadata": {},
   "outputs": [
    {
     "name": "stdout",
     "output_type": "stream",
     "text": [
      "0.0 0.17857142857142858\n"
     ]
    }
   ],
   "source": [
    "knn = KNeighborsClassifier(n_neighbors = best_n_neighbors).fit(X_train, y_train)\n",
    "\n",
    "err_train = np.mean(y_train != knn.predict(X_train))\n",
    "err_test  = np.mean(y_test  != knn.predict(X_test))\n",
    "\n",
    "print(err_train, err_test)\n",
    "# 0.0 0.2571428571428571  for train/test = 50% / 50%\n",
    "# 0.0 0.17857142857142858 for train/test = 60% / 40%"
   ]
  },
  {
   "cell_type": "code",
   "execution_count": 27,
   "metadata": {},
   "outputs": [
    {
     "name": "stdout",
     "output_type": "stream",
     "text": [
      "49 21\n"
     ]
    }
   ],
   "source": [
    "# Разбиваем выборку на обучающую и тестовую и на тест даем 30% выборки\n",
    "from sklearn.model_selection import train_test_split\n",
    "X_train, X_test, y_train, y_test = train_test_split(X, y, test_size = 0.3, random_state = 17)\n",
    "\n",
    "N_train, _ = X_train.shape \n",
    "N_test,  _ = X_test.shape \n",
    "\n",
    "print(N_train, N_test)"
   ]
  },
  {
   "cell_type": "code",
   "execution_count": 28,
   "metadata": {},
   "outputs": [
    {
     "data": {
      "text/plain": [
       "KNeighborsClassifier(algorithm='auto', leaf_size=30, metric='minkowski',\n",
       "                     metric_params=None, n_jobs=None, n_neighbors=10, p=2,\n",
       "                     weights='uniform')"
      ]
     },
     "execution_count": 28,
     "metadata": {},
     "output_type": "execute_result"
    }
   ],
   "source": [
    "# Реализуем метод ближайшего соседа\n",
    "# Будем использовать k ближайших соседей с числом соседей равным 10\n",
    "from sklearn.neighbors import KNeighborsClassifier\n",
    "\n",
    "knn = KNeighborsClassifier(n_neighbors = 10)\n",
    "#knn.set_params(n_neighbors=10)\n",
    "knn.fit(X_train, y_train)"
   ]
  },
  {
   "cell_type": "code",
   "execution_count": 29,
   "metadata": {},
   "outputs": [
    {
     "name": "stdout",
     "output_type": "stream",
     "text": [
      "0.30612244897959184 0.42857142857142855\n"
     ]
    }
   ],
   "source": [
    "# Считаем ошибку на тесте и на обуч. выборке\n",
    "y_train_predict = knn.predict(X_train)\n",
    "y_test_predict = knn.predict(X_test)\n",
    "\n",
    "err_train = np.mean(y_train != y_train_predict)\n",
    "err_test  = np.mean(y_test  != y_test_predict)\n",
    "\n",
    "print(err_train, err_test)"
   ]
  },
  {
   "cell_type": "code",
   "execution_count": 34,
   "metadata": {},
   "outputs": [
    {
     "name": "stdout",
     "output_type": "stream",
     "text": [
      "[[5 0 0 0 0 0 0]\n",
      " [0 4 0 0 0 0 0]\n",
      " [0 0 0 2 0 0 0]\n",
      " [0 0 0 3 0 0 0]\n",
      " [3 0 0 0 0 0 0]\n",
      " [0 0 3 0 0 0 0]\n",
      " [0 0 1 0 0 0 0]]\n"
     ]
    }
   ],
   "source": [
    "# Для наглядности совпадения предсказанных и истинных меток необходимо построить матрицу неточности (соответствий) \n",
    "from sklearn.metrics import confusion_matrix\n",
    "\n",
    "print(confusion_matrix(y_test, y_test_predict))"
   ]
  },
  {
   "cell_type": "code",
   "execution_count": 30,
   "metadata": {},
   "outputs": [
    {
     "name": "stderr",
     "output_type": "stream",
     "text": [
      "C:\\Users\\Lenovo\\Documents\\Anaconda\\lib\\site-packages\\sklearn\\model_selection\\_split.py:657: Warning: The least populated class in y has only 2 members, which is too few. The minimum number of members in any class cannot be less than n_splits=10.\n",
      "  % (min_groups, self.n_splits)), Warning)\n"
     ]
    },
    {
     "name": "stdout",
     "output_type": "stream",
     "text": [
      "0.10204081632653061 1\n"
     ]
    },
    {
     "name": "stderr",
     "output_type": "stream",
     "text": [
      "C:\\Users\\Lenovo\\Documents\\Anaconda\\lib\\site-packages\\sklearn\\model_selection\\_search.py:814: DeprecationWarning: The default of the `iid` parameter will change from True to False in version 0.22 and will be removed in 0.24. This will change numeric results when test-set sizes are unequal.\n",
      "  DeprecationWarning)\n"
     ]
    }
   ],
   "source": [
    "# Подберем параметры - наилучший k \n",
    "from sklearn.model_selection import GridSearchCV\n",
    "nnb = [1, 2, 3, 4, 5, 6, 7, 8, 9, 10]\n",
    "knn = KNeighborsClassifier()\n",
    "grid = GridSearchCV(knn, param_grid = {'n_neighbors': nnb}, cv=10)\n",
    "grid.fit(X_train, y_train)\n",
    "\n",
    "best_cv_err = 1 - grid.best_score_\n",
    "best_n_neighbors = grid.best_estimator_.n_neighbors\n",
    "print(best_cv_err, best_n_neighbors)"
   ]
  },
  {
   "cell_type": "code",
   "execution_count": 31,
   "metadata": {},
   "outputs": [
    {
     "name": "stdout",
     "output_type": "stream",
     "text": [
      "0.0 0.09523809523809523\n"
     ]
    }
   ],
   "source": [
    "knn = KNeighborsClassifier(n_neighbors = best_n_neighbors).fit(X_train, y_train)\n",
    "\n",
    "err_train = np.mean(y_train != knn.predict(X_train))\n",
    "err_test  = np.mean(y_test  != knn.predict(X_test))\n",
    "\n",
    "print(err_train, err_test)\n",
    "# 0.0 0.2571428571428571  for train/test = 50% / 50%\n",
    "# 0.0 0.17857142857142858 for train/test = 60% / 40%\n",
    "# 0.0 0.09523809523809523 for train/test = 70% / 30%"
   ]
  },
  {
   "cell_type": "markdown",
   "metadata": {},
   "source": [
    "# SVC\n",
    "Метод опорных векторов"
   ]
  },
  {
   "cell_type": "code",
   "execution_count": 39,
   "metadata": {},
   "outputs": [
    {
     "name": "stdout",
     "output_type": "stream",
     "text": [
      "35 35\n"
     ]
    }
   ],
   "source": [
    "# Разбиваем выборку на обучающую и тестовую и на тест даем 50% выборки\n",
    "from sklearn.model_selection import train_test_split\n",
    "X_train, X_test, y_train, y_test = train_test_split(X, y, test_size = 0.5, random_state = 17)\n",
    "\n",
    "N_train, _ = X_train.shape \n",
    "N_test,  _ = X_test.shape \n",
    "\n",
    "print(N_train, N_test)"
   ]
  },
  {
   "cell_type": "code",
   "execution_count": 40,
   "metadata": {},
   "outputs": [
    {
     "name": "stdout",
     "output_type": "stream",
     "text": [
      "0.11428571428571428 0.3142857142857143\n"
     ]
    },
    {
     "name": "stderr",
     "output_type": "stream",
     "text": [
      "C:\\Users\\Lenovo\\Documents\\Anaconda\\lib\\site-packages\\sklearn\\svm\\base.py:193: FutureWarning: The default value of gamma will change from 'auto' to 'scale' in version 0.22 to account better for unscaled features. Set gamma explicitly to 'auto' or 'scale' to avoid this warning.\n",
      "  \"avoid this warning.\", FutureWarning)\n"
     ]
    }
   ],
   "source": [
    "from sklearn.svm import SVC\n",
    "svc = SVC()\n",
    "svc.fit(X_train, y_train)\n",
    "\n",
    "err_train = np.mean(y_train != svc.predict(X_train))\n",
    "err_test  = np.mean(y_test  != svc.predict(X_test))\n",
    "\n",
    "print(err_train, err_test)\n",
    "# 0.11428571428571428 0.3142857142857143  for train/test = 50% / 50%"
   ]
  },
  {
   "cell_type": "code",
   "execution_count": 41,
   "metadata": {},
   "outputs": [
    {
     "name": "stdout",
     "output_type": "stream",
     "text": [
      "42 28\n"
     ]
    }
   ],
   "source": [
    "# Разбиваем выборку на обучающую и тестовую и на тест даем 40% выборки\n",
    "from sklearn.model_selection import train_test_split\n",
    "X_train, X_test, y_train, y_test = train_test_split(X, y, test_size = 0.4, random_state = 17)\n",
    "\n",
    "N_train, _ = X_train.shape \n",
    "N_test,  _ = X_test.shape \n",
    "\n",
    "print(N_train, N_test)"
   ]
  },
  {
   "cell_type": "code",
   "execution_count": 42,
   "metadata": {},
   "outputs": [
    {
     "name": "stdout",
     "output_type": "stream",
     "text": [
      "0.11904761904761904 0.35714285714285715\n"
     ]
    },
    {
     "name": "stderr",
     "output_type": "stream",
     "text": [
      "C:\\Users\\Lenovo\\Documents\\Anaconda\\lib\\site-packages\\sklearn\\svm\\base.py:193: FutureWarning: The default value of gamma will change from 'auto' to 'scale' in version 0.22 to account better for unscaled features. Set gamma explicitly to 'auto' or 'scale' to avoid this warning.\n",
      "  \"avoid this warning.\", FutureWarning)\n"
     ]
    }
   ],
   "source": [
    "from sklearn.svm import SVC\n",
    "svc = SVC()\n",
    "svc.fit(X_train, y_train)\n",
    "\n",
    "err_train = np.mean(y_train != svc.predict(X_train))\n",
    "err_test  = np.mean(y_test  != svc.predict(X_test))\n",
    "\n",
    "print(err_train, err_test)\n",
    "# 0.11428571428571428 0.3142857142857143  for train/test = 50% / 50%\n",
    "# 0.11904761904761904 0.35714285714285715  for train/test = 60% / 40%"
   ]
  },
  {
   "cell_type": "code",
   "execution_count": 46,
   "metadata": {},
   "outputs": [
    {
     "name": "stdout",
     "output_type": "stream",
     "text": [
      "49 21\n"
     ]
    }
   ],
   "source": [
    "# Разбиваем выборку на обучающую и тестовую и на тест даем 30% выборки\n",
    "from sklearn.model_selection import train_test_split\n",
    "X_train, X_test, y_train, y_test = train_test_split(X, y, test_size = 0.3, random_state = 17)\n",
    "\n",
    "N_train, _ = X_train.shape \n",
    "N_test,  _ = X_test.shape \n",
    "\n",
    "print(N_train, N_test)"
   ]
  },
  {
   "cell_type": "code",
   "execution_count": 48,
   "metadata": {},
   "outputs": [
    {
     "name": "stdout",
     "output_type": "stream",
     "text": [
      "0.14285714285714285 0.2857142857142857\n"
     ]
    },
    {
     "name": "stderr",
     "output_type": "stream",
     "text": [
      "C:\\Users\\Lenovo\\Documents\\Anaconda\\lib\\site-packages\\sklearn\\svm\\base.py:193: FutureWarning: The default value of gamma will change from 'auto' to 'scale' in version 0.22 to account better for unscaled features. Set gamma explicitly to 'auto' or 'scale' to avoid this warning.\n",
      "  \"avoid this warning.\", FutureWarning)\n"
     ]
    }
   ],
   "source": [
    "from sklearn.svm import SVC\n",
    "svc = SVC()\n",
    "svc.fit(X_train, y_train)\n",
    "\n",
    "err_train = np.mean(y_train != svc.predict(X_train))\n",
    "err_test  = np.mean(y_test  != svc.predict(X_test))\n",
    "\n",
    "print(err_train, err_test)\n",
    "# 0.11428571428571428 0.3142857142857143  for train/test = 50% / 50%\n",
    "# 0.11904761904761904 0.35714285714285715  for train/test = 60% / 40%\n",
    "# 0.14285714285714285 0.2857142857142857  for train/test = 70% / 30%"
   ]
  },
  {
   "cell_type": "code",
   "execution_count": 49,
   "metadata": {},
   "outputs": [],
   "source": [
    "# Данная задача достаточно простая(70 животных и 7 классов)\n",
    "# Тренировочная выборка 70% / 30% хорошо аппроксимирует тестовую выборку"
   ]
  },
  {
   "cell_type": "markdown",
   "metadata": {},
   "source": [
    "Подбор параметров"
   ]
  },
  {
   "cell_type": "code",
   "execution_count": 50,
   "metadata": {},
   "outputs": [
    {
     "name": "stderr",
     "output_type": "stream",
     "text": [
      "C:\\Users\\Lenovo\\Documents\\Anaconda\\lib\\site-packages\\sklearn\\model_selection\\_split.py:1978: FutureWarning: The default value of cv will change from 3 to 5 in version 0.22. Specify it explicitly to silence this warning.\n",
      "  warnings.warn(CV_WARNING, FutureWarning)\n",
      "C:\\Users\\Lenovo\\Documents\\Anaconda\\lib\\site-packages\\sklearn\\model_selection\\_split.py:657: Warning: The least populated class in y has only 2 members, which is too few. The minimum number of members in any class cannot be less than n_splits=3.\n",
      "  % (min_groups, self.n_splits)), Warning)\n"
     ]
    },
    {
     "name": "stdout",
     "output_type": "stream",
     "text": [
      "0.04081632653061229 100.0\n"
     ]
    },
    {
     "name": "stderr",
     "output_type": "stream",
     "text": [
      "C:\\Users\\Lenovo\\Documents\\Anaconda\\lib\\site-packages\\sklearn\\model_selection\\_search.py:814: DeprecationWarning: The default of the `iid` parameter will change from True to False in version 0.22 and will be removed in 0.24. This will change numeric results when test-set sizes are unequal.\n",
      "  DeprecationWarning)\n"
     ]
    }
   ],
   "source": [
    "from sklearn.model_selection import GridSearchCV\n",
    "Cs = 10.**np.arange(-5, 5)\n",
    "gamma_array = 10.**np.arange(-5, 5)\n",
    "svc = SVC()\n",
    "grid = GridSearchCV(svc, param_grid = {'C': Cs, 'gamma': gamma_array})\n",
    "grid.fit(X_train, y_train)\n",
    "\n",
    "best_cv_err = 1 - grid.best_score_\n",
    "best_C = grid.best_estimator_.C\n",
    "print(best_cv_err, best_C)"
   ]
  },
  {
   "cell_type": "code",
   "execution_count": 52,
   "metadata": {},
   "outputs": [
    {
     "name": "stdout",
     "output_type": "stream",
     "text": [
      "0.0 0.09523809523809523\n"
     ]
    }
   ],
   "source": [
    "svc = SVC(C = best_C, gamma='auto').fit(X_train, y_train)\n",
    "\n",
    "err_train = np.mean(y_train != knn.predict(X_train))\n",
    "err_test  = np.mean(y_test  != knn.predict(X_test))\n",
    "\n",
    "print(err_train, err_test)"
   ]
  },
  {
   "cell_type": "markdown",
   "metadata": {},
   "source": [
    "# Random Forest"
   ]
  },
  {
   "cell_type": "code",
   "execution_count": 53,
   "metadata": {},
   "outputs": [
    {
     "name": "stdout",
     "output_type": "stream",
     "text": [
      "0.0 0.14285714285714285\n"
     ]
    }
   ],
   "source": [
    "from sklearn import ensemble\n",
    "rf = ensemble.RandomForestClassifier(n_estimators = 1000)\n",
    "rf.fit(X_train, y_train)\n",
    "\n",
    "err_train = np.mean(y_train != rf.predict(X_train))\n",
    "err_test  = np.mean(y_test  != rf.predict(X_test))\n",
    "\n",
    "print(err_train, err_test)"
   ]
  },
  {
   "cell_type": "code",
   "execution_count": 54,
   "metadata": {},
   "outputs": [
    {
     "data": {
      "text/plain": [
       "1.0"
      ]
     },
     "execution_count": 54,
     "metadata": {},
     "output_type": "execute_result"
    }
   ],
   "source": [
    "# Значимость признаков\n",
    "np.sum(rf.feature_importances_)"
   ]
  },
  {
   "cell_type": "code",
   "execution_count": 55,
   "metadata": {},
   "outputs": [
    {
     "name": "stdout",
     "output_type": "stream",
     "text": [
      "Feature ranking:\n",
      " 1. feature 'feathers' (0.153615)\n",
      " 2. feature ' eggs' (0.124815)\n",
      " 3. feature ' milk' (0.107302)\n",
      " 4. feature ' legs' (0.088520)\n",
      " 5. feature ' hair' (0.066077)\n",
      " 6. feature 'airborne' (0.063569)\n",
      " 7. feature 'toothed' (0.062092)\n",
      " 8. feature 'breathes' (0.060656)\n",
      " 9. feature ' fins' (0.048065)\n",
      "10. feature ' tail' (0.044956)\n",
      "11. feature 'backbone' (0.043262)\n",
      "12. feature 'aquatic' (0.043069)\n",
      "13. feature 'domestic' (0.035087)\n",
      "14. feature 'predator' (0.025098)\n",
      "15. feature 'venomous' (0.018022)\n",
      "16. feature 'catsize' (0.015796)\n"
     ]
    }
   ],
   "source": [
    "# Определение значимости каждого признака\n",
    "importances = rf.feature_importances_\n",
    "indices = np.argsort(importances)[::-1]\n",
    "\n",
    "print(\"Feature ranking:\")\n",
    "\n",
    "for f in range(d):\n",
    "    print(\"%2d. feature '%5s' (%f)\" % (f + 1, feature_names[indices[f]], importances[indices[f]]))"
   ]
  },
  {
   "cell_type": "markdown",
   "metadata": {},
   "source": [
    "# Extremely Randomized Trees"
   ]
  },
  {
   "cell_type": "code",
   "execution_count": 58,
   "metadata": {},
   "outputs": [
    {
     "name": "stdout",
     "output_type": "stream",
     "text": [
      "0.0 0.09523809523809523\n"
     ]
    }
   ],
   "source": [
    "ert = ensemble.ExtraTreesClassifier(n_estimators = 100).fit(X_train, y_train)\n",
    "\n",
    "err_train = np.mean(y_train != ert.predict(X_train))\n",
    "err_test  = np.mean(y_test  != ert.predict(X_test))\n",
    "\n",
    "print(err_train, err_test)"
   ]
  },
  {
   "cell_type": "markdown",
   "metadata": {},
   "source": [
    "# AdaBoost"
   ]
  },
  {
   "cell_type": "code",
   "execution_count": 59,
   "metadata": {},
   "outputs": [
    {
     "name": "stdout",
     "output_type": "stream",
     "text": [
      "0.16326530612244897 0.38095238095238093\n"
     ]
    }
   ],
   "source": [
    "ada = ensemble.AdaBoostClassifier(n_estimators = 1000)\n",
    "ada.fit(X_train, y_train)\n",
    "\n",
    "err_train = np.mean(y_train != ada.predict(X_train))\n",
    "err_test = np.mean(y_test != ada.predict(X_test))\n",
    "\n",
    "print(err_train, err_test)"
   ]
  },
  {
   "cell_type": "markdown",
   "metadata": {},
   "source": [
    "# GBT"
   ]
  },
  {
   "cell_type": "code",
   "execution_count": 60,
   "metadata": {},
   "outputs": [
    {
     "name": "stdout",
     "output_type": "stream",
     "text": [
      "0.0 0.09523809523809523\n"
     ]
    }
   ],
   "source": [
    "gbt = ensemble.GradientBoostingClassifier(n_estimators = 1000)\n",
    "gbt.fit(X_train, y_train)\n",
    "\n",
    "err_train = np.mean(y_train != gbt.predict(X_train))\n",
    "err_test = np.mean(y_test != gbt.predict(X_test))\n",
    "\n",
    "print(err_train, err_test)"
   ]
  },
  {
   "cell_type": "markdown",
   "metadata": {},
   "source": [
    "# PCA\n",
    "Используем для сокращения размерности признаков до 2"
   ]
  },
  {
   "cell_type": "code",
   "execution_count": 62,
   "metadata": {},
   "outputs": [],
   "source": [
    "from sklearn.decomposition import PCA"
   ]
  },
  {
   "cell_type": "code",
   "execution_count": 63,
   "metadata": {},
   "outputs": [],
   "source": [
    "# Устанавливаем количество компонент\n",
    "pca = PCA(n_components = 2)\n",
    "X_PCA = pca.fit_transform(X)"
   ]
  },
  {
   "cell_type": "code",
   "execution_count": 64,
   "metadata": {},
   "outputs": [
    {
     "data": {
      "text/plain": [
       "array([[ 1.45888632,  1.02956448],\n",
       "       [ 1.14133515,  1.57331442],\n",
       "       [-2.82936297,  1.37131971],\n",
       "       [ 1.33114346,  1.1624836 ],\n",
       "       [ 1.28300567,  1.17931197],\n",
       "       [ 1.30472166,  1.35756121],\n",
       "       [ 1.28300567,  1.17931197],\n",
       "       [ 1.30565409,  1.34619035],\n",
       "       [ 1.30565409,  1.34619035],\n",
       "       [ 1.30849504,  0.99560522],\n",
       "       [ 1.33114346,  1.1624836 ],\n",
       "       [ 1.30756262,  1.00697608],\n",
       "       [ 1.33114346,  1.1624836 ],\n",
       "       [ 1.30565409,  1.34619035],\n",
       "       [ 1.33021103,  1.17385446],\n",
       "       [-0.75409375,  1.449028  ],\n",
       "       [ 1.28300567,  1.17931197],\n",
       "       [ 1.39151584,  0.68146491],\n",
       "       [ 1.43339695,  1.21327122],\n",
       "       [-0.86774871, -0.86986758],\n",
       "       [-0.84225934, -1.05357433],\n",
       "       [-0.86490775, -1.22045271],\n",
       "       [-0.86490775, -1.22045271],\n",
       "       [-0.86584018, -1.20908185],\n",
       "       [-0.72065099, -0.80898528],\n",
       "       [-0.89039712, -1.03674596],\n",
       "       [-0.93745783, -1.13915506],\n",
       "       [-0.86774871, -0.86986758],\n",
       "       [-0.89039712, -1.03674596],\n",
       "       [-0.86490775, -1.22045271],\n",
       "       [-0.84225934, -1.05357433],\n",
       "       [-0.7432994 , -0.97586366],\n",
       "       [-0.89039712, -1.03674596],\n",
       "       [-0.87104226, -0.84294454],\n",
       "       [-0.86584018, -1.20908185],\n",
       "       [-0.93745783, -1.13915506],\n",
       "       [-0.86490775, -1.22045271],\n",
       "       [-0.86490775, -1.22045271],\n",
       "       [-0.86774871, -0.86986758],\n",
       "       [-2.79555167,  0.39534354],\n",
       "       [ 1.16375857, -0.59535155],\n",
       "       [ 0.9737348 ,  0.35780053],\n",
       "       [-2.77417032,  0.38708013],\n",
       "       [-2.79555167,  0.39534354],\n",
       "       [-2.86810175,  0.47664119],\n",
       "       [ 1.18640699, -0.42847317],\n",
       "       [-2.77417032,  0.38708013],\n",
       "       [-2.98607051,  0.49436471],\n",
       "       [-3.00838428,  0.51399897],\n",
       "       [-3.00838428,  0.51399897],\n",
       "       [-3.03294123,  0.68633486],\n",
       "       [-2.95987061,  0.62246761],\n",
       "       [-3.03420829,  0.51119307],\n",
       "       [-3.00745186,  0.50262811],\n",
       "       [-3.03294123,  0.68633486],\n",
       "       [ 1.18733941, -0.43984403],\n",
       "       [ 1.20872076, -0.44810743],\n",
       "       [ 1.18733941, -0.43984403],\n",
       "       [ 1.18640699, -0.42847317],\n",
       "       [ 1.12285901,  0.216618  ],\n",
       "       [ 1.07882924,  0.05800303],\n",
       "       [ 3.42771847, -0.74496322],\n",
       "       [ 3.27747555, -1.05753518],\n",
       "       [ 3.40633712, -0.73669982],\n",
       "       [ 3.27747555, -1.05753518],\n",
       "       [ 3.27336753, -0.88209184],\n",
       "       [ 3.27134104, -0.680027  ],\n",
       "       [-2.49141379, -0.50176602],\n",
       "       [ 5.31701287, -0.24316863],\n",
       "       [ 3.3960946 , -0.1837483 ]])"
      ]
     },
     "execution_count": 64,
     "metadata": {},
     "output_type": "execute_result"
    }
   ],
   "source": [
    "X_PCA"
   ]
  },
  {
   "cell_type": "code",
   "execution_count": 65,
   "metadata": {},
   "outputs": [
    {
     "data": {
      "text/plain": [
       "Text(0.5, 1.0, 'Projection our points on 2 components after PCA')"
      ]
     },
     "execution_count": 65,
     "metadata": {},
     "output_type": "execute_result"
    },
    {
     "data": {
      "image/png": "[encoded data removed]",
      "text/plain": [
       "<Figure size 432x288 with 1 Axes>"
      ]
     },
     "metadata": {
      "needs_background": "light"
     },
     "output_type": "display_data"
    }
   ],
   "source": [
    "# Изображаем точки, проецируем их на 2 компоненты после PCA\n",
    "plt.scatter(X_PCA[:,0], X_PCA[:,1], alpha = .2)\n",
    "\n",
    "plt.grid()\n",
    "plt.xlabel('1st component : v1')\n",
    "plt.ylabel('2nd component : v2')\n",
    "plt.title('Projection our points on 2 components after PCA')"
   ]
  },
  {
   "cell_type": "code",
   "execution_count": 118,
   "metadata": {},
   "outputs": [
    {
     "data": {
      "text/plain": [
       "Text(0.5, 1.0, 'Projection our points on 2 components after PCA with classes value')"
      ]
     },
     "execution_count": 118,
     "metadata": {},
     "output_type": "execute_result"
    },
    {
     "data": {
      "image/png": "[encoded data removed]",
      "text/plain": [
       "<Figure size 720x720 with 1 Axes>"
      ]
     },
     "metadata": {
      "needs_background": "light"
     },
     "output_type": "display_data"
    }
   ],
   "source": [
    "plt.figure(figsize=(10,10))\n",
    "for i in range(len(X_PCA)):\n",
    "    if (y[i] == '1'):\n",
    "        plt.scatter(X_PCA[i, 0], X_PCA[i, 1], alpha = 0.3, label = '1', c= 'b')\n",
    "    elif (y[i] == '2'):\n",
    "        plt.scatter(X_PCA[i, 0], X_PCA[i, 1], alpha = 0.3, label = '2', c= 'r')\n",
    "    elif (y[i] == '3'):\n",
    "        plt.scatter(X_PCA[i, 0], X_PCA[i, 1], alpha = 0.3, label = '3', c= 'g')\n",
    "    elif (y[i] == '4'):\n",
    "        plt.scatter(X_PCA[i, 0], X_PCA[i, 1], alpha = 0.3, label = '4', c= 'y')\n",
    "    elif (y[i] == '5'):\n",
    "        plt.scatter(X_PCA[i, 0], X_PCA[i, 1], alpha = 0.3, label = '5', c= 'm')\n",
    "    elif (y[i] == '6'):\n",
    "        plt.scatter(X_PCA[i, 0], X_PCA[i, 1], alpha = 0.3, label = '6', c= 'c')\n",
    "    elif (y[i] == '7'):\n",
    "        plt.scatter(X_PCA[i, 0], X_PCA[i, 1], alpha = 0.3, label = '7', c= 'a')\n",
    "plt.grid()\n",
    "plt.xlabel('1st component : v1')\n",
    "plt.ylabel('2nd component : v2')\n",
    "plt.title('Projection our points on 2 components after PCA with classes value')"
   ]
  },
  {
   "cell_type": "code",
   "execution_count": 73,
   "metadata": {},
   "outputs": [
    {
     "name": "stdout",
     "output_type": "stream",
     "text": [
      "49 21\n"
     ]
    }
   ],
   "source": [
    "#  Применяем kNN с полученным ранее оптимальным числом ближайших соседей \n",
    "#  В нашем случае это 1, при соотношении тренировочной выборки к тестовой 70% / 30%\n",
    "from sklearn.model_selection import train_test_split\n",
    "X_train, X_test, y_train, y_test = train_test_split(X_PCA, y, test_size = 0.3, random_state = 17)\n",
    "\n",
    "N_train, _ = X_train.shape \n",
    "N_test,  _ = X_test.shape \n",
    "\n",
    "print(N_train, N_test)"
   ]
  },
  {
   "cell_type": "code",
   "execution_count": 75,
   "metadata": {},
   "outputs": [
    {
     "data": {
      "text/plain": [
       "KNeighborsClassifier(algorithm='auto', leaf_size=30, metric='minkowski',\n",
       "                     metric_params=None, n_jobs=None, n_neighbors=1, p=2,\n",
       "                     weights='uniform')"
      ]
     },
     "execution_count": 75,
     "metadata": {},
     "output_type": "execute_result"
    }
   ],
   "source": [
    "# Реализуем метод ближайшего соседа\n",
    "# Будем использовать k ближайших соседей с числом соседей равным 1\n",
    "from sklearn.neighbors import KNeighborsClassifier\n",
    "\n",
    "knn = KNeighborsClassifier(n_neighbors = 1)\n",
    "#knn.set_params(n_neighbors=10)\n",
    "knn.fit(X_train, y_train)"
   ]
  },
  {
   "cell_type": "code",
   "execution_count": 76,
   "metadata": {},
   "outputs": [
    {
     "name": "stdout",
     "output_type": "stream",
     "text": [
      "0.0 0.09523809523809523\n"
     ]
    }
   ],
   "source": [
    "# Считаем ошибку на тесте и на обуч. выборке\n",
    "y_train_predict = knn.predict(X_train)\n",
    "y_test_predict = knn.predict(X_test)\n",
    "\n",
    "err_train = np.mean(y_train != y_train_predict)\n",
    "err_test  = np.mean(y_test  != y_test_predict)\n",
    "\n",
    "print(err_train, err_test)"
   ]
  },
  {
   "cell_type": "code",
   "execution_count": 129,
   "metadata": {},
   "outputs": [
    {
     "data": {
      "text/plain": [
       "<matplotlib.legend.Legend at 0x1bf91cb87c8>"
      ]
     },
     "execution_count": 129,
     "metadata": {},
     "output_type": "execute_result"
    },
    {
     "data": {
      "image/png": "[encoded data removed]",
      "text/plain": [
       "<Figure size 432x288 with 1 Axes>"
      ]
     },
     "metadata": {
      "needs_background": "light"
     },
     "output_type": "display_data"
    }
   ],
   "source": [
    "# Рисуем график зависимости от главных компонент\n",
    "comp = range(1, 17, 1)\n",
    "err_train_mas = []\n",
    "err_test_mas = []\n",
    "for temp in comp:\n",
    "    pca = PCA(n_components = temp)\n",
    "    X_PCA = pca.fit_transform(X)\n",
    "    X_train, X_test, y_train, y_test = train_test_split(X_PCA, y, test_size = 0.3, random_state = 17)\n",
    "    knn = KNeighborsClassifier(n_neighbors = 1).fit(X_train, y_train)\n",
    "    err_train_mas.append(np.mean(knn.predict(X_train) != y_train))\n",
    "    err_test_mas.append(np.mean(knn.predict(X_test) != y_test))\n",
    "plt.grid()\n",
    "plt.plot(comp, err_train_mas, 'r-o', label = 'Train error')\n",
    "plt.plot(comp, err_test_mas,  'b-o', label = 'Test error')  \n",
    "plt.xlabel('n_components')\n",
    "plt.ylabel('errors')\n",
    "plt.legend(loc = 2)"
   ]
  },
  {
   "cell_type": "markdown",
   "metadata": {},
   "source": [
    "Графики показывают, что при увеличении n_components ошибка увеличивается. При использовании более 2 компонент величина ошибки колеблется в пределах 14,3-19%. \n",
    "\n",
    "Величина ошибки в лучшем случае (при n_components=2) составляет 9,5%. \n",
    "\n",
    "Соответственно PCA не позволил уменьшить ошибку. \n",
    "\n",
    "Лучшее значение для компонент PCA, дающее минимум ошибки, достигается при n_components = 2. \n",
    "\n",
    "Выведем все значения ошибок на тесте, чтобы увидеть при каком n_components достигается лучшее значение"
   ]
  },
  {
   "cell_type": "code",
   "execution_count": 130,
   "metadata": {},
   "outputs": [
    {
     "name": "stdout",
     "output_type": "stream",
     "text": [
      "Число компонент:  1 Значение ошибки на тестовой выборке:  0.19047619047619047\n",
      "Число компонент:  2 Значение ошибки на тестовой выборке:  0.09523809523809523\n",
      "Число компонент:  3 Значение ошибки на тестовой выборке:  0.19047619047619047\n",
      "Число компонент:  4 Значение ошибки на тестовой выборке:  0.19047619047619047\n",
      "Число компонент:  5 Значение ошибки на тестовой выборке:  0.19047619047619047\n",
      "Число компонент:  6 Значение ошибки на тестовой выборке:  0.19047619047619047\n",
      "Число компонент:  7 Значение ошибки на тестовой выборке:  0.14285714285714285\n",
      "Число компонент:  8 Значение ошибки на тестовой выборке:  0.14285714285714285\n",
      "Число компонент:  9 Значение ошибки на тестовой выборке:  0.19047619047619047\n",
      "Число компонент:  10 Значение ошибки на тестовой выборке:  0.19047619047619047\n",
      "Число компонент:  11 Значение ошибки на тестовой выборке:  0.19047619047619047\n",
      "Число компонент:  12 Значение ошибки на тестовой выборке:  0.14285714285714285\n",
      "Число компонент:  13 Значение ошибки на тестовой выборке:  0.14285714285714285\n",
      "Число компонент:  14 Значение ошибки на тестовой выборке:  0.14285714285714285\n",
      "Число компонент:  15 Значение ошибки на тестовой выборке:  0.19047619047619047\n",
      "Число компонент:  16 Значение ошибки на тестовой выборке:  0.19047619047619047\n"
     ]
    }
   ],
   "source": [
    "for i in range(16):\n",
    "    print(\"Число компонент: \" , i + 1, \"Значение ошибки на тестовой выборке: \" , err_test_mas[i])"
   ]
  },
  {
   "cell_type": "code",
   "execution_count": 84,
   "metadata": {},
   "outputs": [
    {
     "name": "stdout",
     "output_type": "stream",
     "text": [
      "Минимальное значение ошибки: 0.09523809523809523\n",
      "Наилучшее значение числа компонент: 2\n"
     ]
    }
   ],
   "source": [
    "# Делаем вывод о минимальном значении ошибки и наилучшем значении числа компонент\n",
    "min_err = min(err_test_mas)\n",
    "min_err_index = err_test_mas.index(min(err_test_mas))\n",
    "print(\"Минимальное значение ошибки: \" + str(min_err))                  \n",
    "n_components_best = comp[min_err_index]\n",
    "print(\"Наилучшее значение числа компонент: \" + str(n_components_best))"
   ]
  },
  {
   "cell_type": "markdown",
   "metadata": {},
   "source": [
    "Минимальная ошибка на тесте достигается при 2 компонентах. При этом значение ошибки: 0.09523809523809523, что примерно равно 9,5%"
   ]
  },
  {
   "cell_type": "markdown",
   "metadata": {},
   "source": [
    "# MLP"
   ]
  },
  {
   "cell_type": "code",
   "execution_count": 85,
   "metadata": {},
   "outputs": [
    {
     "data": {
      "text/plain": [
       "MLPClassifier(activation='logistic', alpha=0.0001, batch_size='auto',\n",
       "              beta_1=0.9, beta_2=0.999, early_stopping=False, epsilon=1e-08,\n",
       "              hidden_layer_sizes=(100,), learning_rate='constant',\n",
       "              learning_rate_init=0.001, max_iter=200, momentum=0.9,\n",
       "              n_iter_no_change=10, nesterovs_momentum=True, power_t=0.5,\n",
       "              random_state=None, shuffle=True, solver='lbfgs', tol=0.0001,\n",
       "              validation_fraction=0.1, verbose=False, warm_start=False)"
      ]
     },
     "execution_count": 85,
     "metadata": {},
     "output_type": "execute_result"
    }
   ],
   "source": [
    "# Обучаем классификатор, используем 1 скрытый слой из 100 нейронов\n",
    "from sklearn.neural_network import MLPClassifier\n",
    "mlp = MLPClassifier(hidden_layer_sizes = (100,), solver='lbfgs', activation = 'logistic')\n",
    "mlp.fit(X_train, y_train)"
   ]
  },
  {
   "cell_type": "code",
   "execution_count": 86,
   "metadata": {},
   "outputs": [
    {
     "name": "stdout",
     "output_type": "stream",
     "text": [
      "0.0 0.09523809523809523\n"
     ]
    }
   ],
   "source": [
    "# Оцениваем ошибку на тренировочной и тестовой выборках\n",
    "err_train = np.mean(y_train != mlp.predict(X_train))\n",
    "err_test = np.mean(y_test  != mlp.predict(X_test))\n",
    "\n",
    "print(err_train, err_test)"
   ]
  },
  {
   "cell_type": "code",
   "execution_count": 87,
   "metadata": {},
   "outputs": [
    {
     "data": {
      "text/plain": [
       "MLPClassifier(activation='logistic', alpha=0.0001, batch_size='auto',\n",
       "              beta_1=0.9, beta_2=0.999, early_stopping=False, epsilon=1e-08,\n",
       "              hidden_layer_sizes=(100, 2), learning_rate='constant',\n",
       "              learning_rate_init=0.001, max_iter=200, momentum=0.9,\n",
       "              n_iter_no_change=10, nesterovs_momentum=True, power_t=0.5,\n",
       "              random_state=None, shuffle=True, solver='lbfgs', tol=0.0001,\n",
       "              validation_fraction=0.1, verbose=False, warm_start=False)"
      ]
     },
     "execution_count": 87,
     "metadata": {},
     "output_type": "execute_result"
    }
   ],
   "source": [
    "# Используем 2 скрытых слоя из 100 нейронов\n",
    "mlp2 = MLPClassifier(hidden_layer_sizes = (100,2), solver='lbfgs', activation = 'logistic')\n",
    "mlp2.fit(X_train, y_train)"
   ]
  },
  {
   "cell_type": "code",
   "execution_count": 88,
   "metadata": {},
   "outputs": [
    {
     "name": "stdout",
     "output_type": "stream",
     "text": [
      "0.0 0.09523809523809523\n"
     ]
    }
   ],
   "source": [
    "# Оцениваем ошибку на тренировочной и тестовой выборках\n",
    "err_train = np.mean(y_train != mlp.predict(X_train))\n",
    "err_test = np.mean(y_test  != mlp.predict(X_test))\n",
    "\n",
    "print(err_train, err_test)\n",
    "# Ошибка не изменилась"
   ]
  },
  {
   "cell_type": "markdown",
   "metadata": {},
   "source": [
    "Меняем гиперпараметр alpha, подбирая оптимальное значение параметра регуляризации"
   ]
  },
  {
   "cell_type": "code",
   "execution_count": 89,
   "metadata": {},
   "outputs": [
    {
     "name": "stderr",
     "output_type": "stream",
     "text": [
      "C:\\Users\\Lenovo\\Documents\\Anaconda\\lib\\site-packages\\sklearn\\model_selection\\_split.py:657: Warning: The least populated class in y has only 3 members, which is too few. The minimum number of members in any class cannot be less than n_splits=5.\n",
      "  % (min_groups, self.n_splits)), Warning)\n"
     ]
    },
    {
     "name": "stdout",
     "output_type": "stream",
     "text": [
      "Меньшая ошибка 0.08163265306122447\n",
      "Лучший параметр alpha 0.25118864315095796\n"
     ]
    },
    {
     "name": "stderr",
     "output_type": "stream",
     "text": [
      "C:\\Users\\Lenovo\\Documents\\Anaconda\\lib\\site-packages\\sklearn\\model_selection\\_search.py:814: DeprecationWarning: The default of the `iid` parameter will change from True to False in version 0.22 and will be removed in 0.24. This will change numeric results when test-set sizes are unequal.\n",
      "  DeprecationWarning)\n"
     ]
    }
   ],
   "source": [
    "from sklearn.model_selection import GridSearchCV\n",
    "\n",
    "alpha_massive = np.logspace(-3, 3, 21)\n",
    "mlp = MLPClassifier(hidden_layer_sizes = (100,), solver='lbfgs', activation = 'logistic')\n",
    "\n",
    "grid = GridSearchCV(mlp, param_grid={\"alpha\": alpha_massive}, cv=5)\n",
    "grid.fit(X_train, y_train)\n",
    "\n",
    "best_cv_err = 1 - grid.best_score_\n",
    "best_alpha = grid.best_estimator_.alpha\n",
    "print(\"Меньшая ошибка \" + str(best_cv_err))\n",
    "print(\"Лучший параметр alpha \" + str(best_alpha))"
   ]
  },
  {
   "cell_type": "code",
   "execution_count": 92,
   "metadata": {},
   "outputs": [
    {
     "name": "stdout",
     "output_type": "stream",
     "text": [
      "ошибка на обучающей выборке при лучшей alpha: 0.0\n",
      "ошибка на тестовой выборке при лучшей alpha: 0.09523809523809523\n"
     ]
    },
    {
     "name": "stderr",
     "output_type": "stream",
     "text": [
      "C:\\Users\\Lenovo\\Documents\\Anaconda\\lib\\site-packages\\sklearn\\neural_network\\multilayer_perceptron.py:566: ConvergenceWarning: Stochastic Optimizer: Maximum iterations (200) reached and the optimization hasn't converged yet.\n",
      "  % self.max_iter, ConvergenceWarning)\n"
     ]
    }
   ],
   "source": [
    "# Оцениваем ошибку на тренировочной и тестовой выборках при лучшей alpha\n",
    "mlp = MLPClassifier(alpha = best_alpha)\n",
    "mlp.fit(X_train, y_train)\n",
    "err_train = np.mean(y_train != mlp.predict(X_train))\n",
    "err_test  = np.mean(y_test  != mlp.predict(X_test)) \n",
    "\n",
    "print(\"ошибка на обучающей выборке при лучшей alpha: \" + str(err_train)) \n",
    "print(\"ошибка на тестовой выборке при лучшей alpha: \" + str(err_test))"
   ]
  },
  {
   "cell_type": "code",
   "execution_count": 93,
   "metadata": {},
   "outputs": [
    {
     "data": {
      "text/plain": [
       "<matplotlib.legend.Legend at 0x1bf928f2a88>"
      ]
     },
     "execution_count": 93,
     "metadata": {},
     "output_type": "execute_result"
    },
    {
     "data": {
      "image/png": "[encoded data removed]",
      "text/plain": [
       "<Figure size 432x288 with 1 Axes>"
      ]
     },
     "metadata": {
      "needs_background": "light"
     },
     "output_type": "display_data"
    }
   ],
   "source": [
    "# Рисуем график зависимости изменения ошибки на тренировочной и тестовой выборках в зависимости от выбранного alpha\n",
    "err_train_mas = []\n",
    "err_test_mas = []\n",
    "for cur in alpha_massive:\n",
    "    model = MLPClassifier(alpha = cur, hidden_layer_sizes = (100,), \n",
    "                          solver='lbfgs', activation = 'logistic')\n",
    "    model.fit(X_train, y_train)\n",
    "    \n",
    "    err_train_mas.append(np.mean(model.predict(X_train) != y_train))\n",
    "    err_test_mas.append(np.mean(model.predict(X_test) != y_test))\n",
    "    \n",
    "plt.semilogx(alpha_massive, err_train_mas, 'r-o', label = 'Train error')\n",
    "plt.semilogx(alpha_massive, err_test_mas,  'b-o', label = 'Test error') \n",
    "\n",
    "plt.title('MLP alpha/error')\n",
    "plt.xlabel('alpha')\n",
    "plt.ylabel('error')\n",
    "plt.legend(loc = 'best')"
   ]
  },
  {
   "cell_type": "markdown",
   "metadata": {},
   "source": [
    "Меняем число нейронов в скрытом слое"
   ]
  },
  {
   "cell_type": "code",
   "execution_count": 96,
   "metadata": {},
   "outputs": [
    {
     "name": "stderr",
     "output_type": "stream",
     "text": [
      "C:\\Users\\Lenovo\\Documents\\Anaconda\\lib\\site-packages\\sklearn\\model_selection\\_split.py:657: Warning: The least populated class in y has only 3 members, which is too few. The minimum number of members in any class cannot be less than n_splits=5.\n",
      "  % (min_groups, self.n_splits)), Warning)\n"
     ]
    },
    {
     "name": "stdout",
     "output_type": "stream",
     "text": [
      "Меньшая ошибка 0.08163265306122447\n",
      "Лучший параметр alpha 19\n"
     ]
    },
    {
     "name": "stderr",
     "output_type": "stream",
     "text": [
      "C:\\Users\\Lenovo\\Documents\\Anaconda\\lib\\site-packages\\sklearn\\model_selection\\_search.py:814: DeprecationWarning: The default of the `iid` parameter will change from True to False in version 0.22 and will be removed in 0.24. This will change numeric results when test-set sizes are unequal.\n",
      "  DeprecationWarning)\n"
     ]
    }
   ],
   "source": [
    "neuron_massive = np.linspace(10, 100, 40, dtype = int)\n",
    "mlp = MLPClassifier(alpha = best_alpha, solver='lbfgs', activation = 'logistic')\n",
    "\n",
    "grid = GridSearchCV(mlp, param_grid={\"hidden_layer_sizes\": neuron_massive}, cv=5)\n",
    "grid.fit(X_train, y_train)\n",
    "\n",
    "best_cv_err = 1 - grid.best_score_\n",
    "best_neuron = grid.best_estimator_.hidden_layer_sizes\n",
    "print(\"Меньшая ошибка \" + str(best_cv_err))\n",
    "print(\"Лучший параметр alpha \" + str(best_neuron))"
   ]
  },
  {
   "cell_type": "code",
   "execution_count": 97,
   "metadata": {},
   "outputs": [
    {
     "name": "stdout",
     "output_type": "stream",
     "text": [
      "ошибка на обучающей выборке при лучшей alpha: 0.0\n",
      "ошибка на тестовой выборке при лучшей alpha: 0.09523809523809523\n"
     ]
    }
   ],
   "source": [
    "# Оцениваем ошибку на тренировочной и тестовой выборках\n",
    "mlp = MLPClassifier(hidden_layer_sizes = best_neuron, alpha = best_alpha, \n",
    "                    solver='lbfgs', activation = 'logistic')\n",
    "mlp.fit(X_train, y_train)\n",
    "err_train = np.mean(y_train != mlp.predict(X_train)) #ошибка на обуч. выборке\n",
    "err_test  = np.mean(y_test  != mlp.predict(X_test)) #ошибка на тесте\n",
    "\n",
    "print(\"ошибка на обучающей выборке при лучшей alpha: \" + str(err_train)) \n",
    "print(\"ошибка на тестовой выборке при лучшей alpha: \" + str(err_test))"
   ]
  },
  {
   "cell_type": "code",
   "execution_count": 98,
   "metadata": {},
   "outputs": [
    {
     "data": {
      "text/plain": [
       "<matplotlib.legend.Legend at 0x1bf92a8ec48>"
      ]
     },
     "execution_count": 98,
     "metadata": {},
     "output_type": "execute_result"
    },
    {
     "data": {
      "image/png": "[encoded data removed]",
      "text/plain": [
       "<Figure size 432x288 with 1 Axes>"
      ]
     },
     "metadata": {
      "needs_background": "light"
     },
     "output_type": "display_data"
    }
   ],
   "source": [
    "# Рисуем график зависимости изменения ошибки на тренировочной и тестовой выборках \n",
    "# в зависимости от числа нейронов в скрытом слое\n",
    "err_train_mas = []\n",
    "err_test_mas = []\n",
    "for cur in neuron_massive:\n",
    "    model = MLPClassifier(alpha = best_alpha, hidden_layer_sizes = cur, \n",
    "                          solver='lbfgs', activation = 'logistic')\n",
    "    model.fit(X_train, y_train)\n",
    "    \n",
    "    err_train_mas.append(np.mean(model.predict(X_train) != y_train))\n",
    "    err_test_mas.append(np.mean(model.predict(X_test) != y_test))\n",
    "    \n",
    "plt.semilogx(neuron_massive, err_train_mas, 'r-o', label = 'Train error')\n",
    "plt.semilogx(neuron_massive, err_test_mas,  'b-o', label = 'Test error') \n",
    "plt.xlim([np.max(neuron_massive), np.min(neuron_massive)])\n",
    "\n",
    "plt.title('MLP neurons/error')\n",
    "plt.xlabel('neurons')\n",
    "plt.ylabel('error')\n",
    "plt.legend(loc = 'best')"
   ]
  },
  {
   "cell_type": "markdown",
   "metadata": {},
   "source": [
    "Делаем вывод.\n",
    "\n",
    "При изменении гиперпараметра alpha ошибка на тестовой выборке сначала не меняется, а в дальнейшем начинает расти, что свидетельствует о наличии переобучения.\n",
    "\n",
    "Изменение числа нейронов в скрытом слое не приводит к изменению ошибки. Следовательно, переобучение не наблюдается."
   ]
  },
  {
   "cell_type": "markdown",
   "metadata": {},
   "source": [
    "# Обучение на имеющихся данных Random Forest и Gradient Boosted Trees (GBT)"
   ]
  },
  {
   "cell_type": "markdown",
   "metadata": {},
   "source": [
    "# Random Forest\n",
    "Используем случайный лес с 1000 деревьев"
   ]
  },
  {
   "cell_type": "code",
   "execution_count": 99,
   "metadata": {},
   "outputs": [
    {
     "name": "stdout",
     "output_type": "stream",
     "text": [
      "ошибка на обучающей выборке: 0.0\n",
      "ошибка на тестовой выборке: 0.09523809523809523\n",
      "oob-error: 0.10204081632653061\n"
     ]
    }
   ],
   "source": [
    "# Создаем лес, оцениваем ошибки\n",
    "from sklearn import ensemble\n",
    "rf = ensemble.RandomForestClassifier(n_estimators = 1000, oob_score=True)\n",
    "rf.fit(X_train, y_train)\n",
    "oob_error = 1 - rf.oob_score_\n",
    "err_train = np.mean(y_train != rf.predict(X_train))\n",
    "err_test  = np.mean(y_test  != rf.predict(X_test))\n",
    "\n",
    "print(\"ошибка на обучающей выборке: \" + str(err_train)) \n",
    "print(\"ошибка на тестовой выборке: \" + str(err_test))\n",
    "print(\"oob-error: \" + str(oob_error))"
   ]
  },
  {
   "cell_type": "code",
   "execution_count": 100,
   "metadata": {},
   "outputs": [
    {
     "name": "stdout",
     "output_type": "stream",
     "text": [
      "[[8 0 0 0 0 0 0]\n",
      " [0 5 0 0 0 0 0]\n",
      " [0 0 0 0 1 0 0]\n",
      " [0 0 0 3 0 0 0]\n",
      " [0 0 0 0 2 0 0]\n",
      " [0 0 0 0 0 1 0]\n",
      " [0 0 1 0 0 0 0]]\n"
     ]
    }
   ],
   "source": [
    "# Для наглядности совпадения предсказанных и истинных меток строим матрицу неточности (соответствий)\n",
    "from sklearn.metrics import confusion_matrix\n",
    "\n",
    "y_test_predict = rf.predict(X_test)\n",
    "print(confusion_matrix(y_test, y_test_predict))"
   ]
  },
  {
   "cell_type": "code",
   "execution_count": 101,
   "metadata": {},
   "outputs": [
    {
     "data": {
      "text/plain": [
       "0.9999999999999999"
      ]
     },
     "execution_count": 101,
     "metadata": {},
     "output_type": "execute_result"
    }
   ],
   "source": [
    "# Определяем значимость признаков\n",
    "np.sum(rf.feature_importances_)"
   ]
  },
  {
   "cell_type": "code",
   "execution_count": 102,
   "metadata": {},
   "outputs": [
    {
     "name": "stdout",
     "output_type": "stream",
     "text": [
      "Feature ranking:\n",
      " 1. feature 'feathers' (0.246114)\n",
      " 2. feature ' hair' (0.152558)\n",
      " 3. feature ' eggs' (0.146796)\n",
      " 4. feature 'aquatic' (0.083348)\n",
      " 5. feature ' fins' (0.063884)\n",
      " 6. feature 'breathes' (0.042277)\n",
      " 7. feature 'venomous' (0.041853)\n",
      " 8. feature 'toothed' (0.036271)\n",
      " 9. feature 'domestic' (0.030846)\n",
      "10. feature 'backbone' (0.030053)\n",
      "11. feature ' milk' (0.029340)\n",
      "12. feature ' legs' (0.028739)\n",
      "13. feature ' tail' (0.028028)\n",
      "14. feature 'airborne' (0.023002)\n",
      "15. feature 'predator' (0.016890)\n",
      "16. feature 'catsize' (0.000000)\n"
     ]
    }
   ],
   "source": [
    "# Отображаем значимость каждого признака\n",
    "importances = rf.feature_importances_\n",
    "indices = np.argsort(importances)[::-1]\n",
    "\n",
    "print(\"Feature ranking:\")\n",
    "\n",
    "for f in range(d):\n",
    "    print(\"%2d. feature '%5s' (%f)\" % (f + 1, feature_names[indices[f]], importances[indices[f]]))"
   ]
  },
  {
   "cell_type": "code",
   "execution_count": 103,
   "metadata": {},
   "outputs": [
    {
     "data": {
      "text/plain": [
       "Index(['feathers', 'hair', 'feathers'], dtype='object')"
      ]
     },
     "execution_count": 103,
     "metadata": {},
     "output_type": "execute_result"
    }
   ],
   "source": [
    "feature_names[[1,0,1]]"
   ]
  },
  {
   "cell_type": "code",
   "execution_count": 105,
   "metadata": {},
   "outputs": [
    {
     "data": {
      "text/plain": [
       "(-1, 16)"
      ]
     },
     "execution_count": 105,
     "metadata": {},
     "output_type": "execute_result"
    },
    {
     "data": {
      "image/png": "[encoded data removed]",
      "text/plain": [
       "<Figure size 432x288 with 1 Axes>"
      ]
     },
     "metadata": {
      "needs_background": "light"
     },
     "output_type": "display_data"
    }
   ],
   "source": [
    "# Строим гистограмму значимости\n",
    "d_first = 16\n",
    "plt.title(\"Feature importances\")\n",
    "plt.bar(range(d_first), importances[indices[:d_first]], align = 'center', color = 'r')\n",
    "plt.xticks(range(d_first), feature_names[indices[:d_first]], rotation = 90)\n",
    "plt.xlim([-1, d_first])"
   ]
  },
  {
   "cell_type": "code",
   "execution_count": 106,
   "metadata": {},
   "outputs": [
    {
     "data": {
      "text/plain": [
       "<matplotlib.legend.Legend at 0x1bf93e5ac48>"
      ]
     },
     "execution_count": 106,
     "metadata": {},
     "output_type": "execute_result"
    },
    {
     "data": {
      "image/png": "[encoded data removed]",
      "text/plain": [
       "<Figure size 432x288 with 1 Axes>"
      ]
     },
     "metadata": {
      "needs_background": "light"
     },
     "output_type": "display_data"
    }
   ],
   "source": [
    "# Изменяем число деревьев, рисуем динамику изменения ошибок в зависимости от числа деревьев\n",
    "ran_tree = range(25, 2500, 100)\n",
    "err_train_mas = []\n",
    "err_test_mas = []\n",
    "err_oob = []\n",
    "for t_cur in ran_tree:\n",
    "    mod_t = ensemble.RandomForestClassifier(n_estimators = t_cur, oob_score=True)\n",
    "    mod_t.fit(X_train, y_train)\n",
    "    oob_error = 1 - mod_t.oob_score_\n",
    "    err_train_mas.append(np.mean(mod_t.predict(X_train) != y_train))\n",
    "    err_test_mas.append(np.mean(mod_t.predict(X_test) != y_test))\n",
    "    err_oob.append(oob_error)\n",
    "plt.plot(ran_tree, err_train_mas, 'r-o', label = 'Train error')\n",
    "plt.plot(ran_tree, err_test_mas,  'b-o', label = 'Test error') \n",
    "plt.plot(ran_tree, err_oob,  'g-o', label = 'oob error')    \n",
    "plt.title('Random Forest')\n",
    "plt.xlabel('number of estimators')\n",
    "plt.ylabel('error')\n",
    "plt.legend(loc = 'best')"
   ]
  },
  {
   "cell_type": "code",
   "execution_count": 107,
   "metadata": {},
   "outputs": [
    {
     "name": "stdout",
     "output_type": "stream",
     "text": [
      "число деревьев для минимальной ошибке на тесте: 0\n",
      "значение минимальной ошибки на тесте:  0.09523809523809523\n"
     ]
    }
   ],
   "source": [
    "# Определяем минимальную ошибку и число деревьев при этом\n",
    "print(\"число деревьев для минимальной ошибке на тесте: \" + str(25* np.argmin(np.array(err_test_mas))))\n",
    "print(\"значение минимальной ошибки на тесте:  \" + str(np.min(np.array(err_test_mas))))"
   ]
  },
  {
   "cell_type": "code",
   "execution_count": 111,
   "metadata": {},
   "outputs": [
    {
     "name": "stdout",
     "output_type": "stream",
     "text": [
      "число деревьев для минимальной oob: 100\n",
      "значение минимальной oob: 0.061224489795918324\n"
     ]
    }
   ],
   "source": [
    "# Определяем минимальное oob и число деревьев при этом\n",
    "print(\"число деревьев для минимальной oob: \" + str(25* np.argmin(np.array(err_oob))))\n",
    "print(\"значение минимальной oob: \" + str(np.min(np.array(err_oob))))"
   ]
  },
  {
   "cell_type": "markdown",
   "metadata": {},
   "source": [
    "Делаем вывод:\n",
    "\n",
    "С ростом числа деревьев не происходит изменение ошибки на тесте. \n",
    "\n",
    "Ошибка на тесте колеблется в районе 9,5%. Переобучения и недообучения нет."
   ]
  },
  {
   "cell_type": "markdown",
   "metadata": {},
   "source": [
    "# Extremely random forestsfrom sklearn import ensemble\n",
    "rf = ensemble.ExtraTreesClassifier(n_estimators = 1000, oob_score=True, bootstrap=True)\n",
    "rf.fit(X_train, y_train)\n",
    "oob_error = 1 - rf.oob_score_\n",
    "err_train = np.mean(y_train != rf.predict(X_train))\n",
    "err_test  = np.mean(y_test  != rf.predict(X_test))\n",
    "\n",
    "print(\"ошибка на обучающей выборке: \" + str(err_train)) \n",
    "print(\"ошибка на тестовой выборке: \" + str(err_test))\n",
    "print(\"oob-error: \" + str(oob_error))"
   ]
  },
  {
   "cell_type": "code",
   "execution_count": 128,
   "metadata": {},
   "outputs": [
    {
     "name": "stdout",
     "output_type": "stream",
     "text": [
      "ошибка на обучающей выборке: 0.0\n",
      "ошибка на тестовой выборке: 0.09523809523809523\n",
      "oob-error: 0.10204081632653061\n"
     ]
    }
   ],
   "source": [
    "# Создаем лес, оцениваем ошибки\n",
    "from sklearn import ensemble\n",
    "rf = ensemble.ExtraTreesClassifier(n_estimators = 1000, oob_score=True, bootstrap=True)\n",
    "rf.fit(X_train, y_train)\n",
    "oob_error = 1 - rf.oob_score_\n",
    "err_train = np.mean(y_train != rf.predict(X_train))\n",
    "err_test  = np.mean(y_test  != rf.predict(X_test))\n",
    "\n",
    "print(\"ошибка на обучающей выборке: \" + str(err_train)) \n",
    "print(\"ошибка на тестовой выборке: \" + str(err_test))\n",
    "print(\"oob-error: \" + str(oob_error))"
   ]
  },
  {
   "cell_type": "code",
   "execution_count": 120,
   "metadata": {},
   "outputs": [
    {
     "name": "stdout",
     "output_type": "stream",
     "text": [
      "[[8 0 0 0 0 0 0]\n",
      " [0 5 0 0 0 0 0]\n",
      " [0 0 0 0 1 0 0]\n",
      " [0 0 0 3 0 0 0]\n",
      " [0 0 0 0 2 0 0]\n",
      " [0 0 0 0 0 1 0]\n",
      " [0 0 1 0 0 0 0]]\n"
     ]
    }
   ],
   "source": [
    "# Строим матрицу неточности (соответствий)\n",
    "y_test_predict = rf.predict(X_test)\n",
    "print(confusion_matrix(y_test, y_test_predict))"
   ]
  },
  {
   "cell_type": "code",
   "execution_count": 121,
   "metadata": {},
   "outputs": [
    {
     "data": {
      "text/plain": [
       "<matplotlib.legend.Legend at 0x1bf91c0c148>"
      ]
     },
     "execution_count": 121,
     "metadata": {},
     "output_type": "execute_result"
    },
    {
     "data": {
      "image/png": "[encoded data removed]",
      "text/plain": [
       "<Figure size 432x288 with 1 Axes>"
      ]
     },
     "metadata": {
      "needs_background": "light"
     },
     "output_type": "display_data"
    }
   ],
   "source": [
    "# Изменяем число деревьев, рисуем динамику изменения ошибок в зависимости от числа деревьев\n",
    "ran_tree = range(25, 2500, 100)\n",
    "err_train_mas = []\n",
    "err_test_mas = []\n",
    "err_oob = []\n",
    "for t_cur in ran_tree:\n",
    "    mod_t = ensemble.ExtraTreesClassifier(n_estimators = t_cur, oob_score=True, bootstrap=True)\n",
    "    mod_t.fit(X_train, y_train)\n",
    "    oob_error = 1 - mod_t.oob_score_\n",
    "    err_train_mas.append(np.mean(mod_t.predict(X_train) != y_train))\n",
    "    err_test_mas.append(np.mean(mod_t.predict(X_test) != y_test))\n",
    "    err_oob.append(oob_error)\n",
    "plt.plot(ran_tree, err_train_mas, 'r-o', label = 'Train error')\n",
    "plt.plot(ran_tree, err_test_mas,  'b-o', label = 'Test error') \n",
    "plt.plot(ran_tree, err_oob,  'g-o', label = 'oob error')    \n",
    "plt.title('Extremely Random Forest')\n",
    "plt.xlabel('number of estimators')\n",
    "plt.ylabel('error')\n",
    "plt.legend(loc = 'best')"
   ]
  },
  {
   "cell_type": "markdown",
   "metadata": {},
   "source": [
    "Делаем вывод:\n",
    "\n",
    "С ростом числа деревьев не происходит изменение ошибки на тесте. \n",
    "\n",
    "Ошибка на тесте колеблется в районе 9,5%. Переобучения и недообучения нет."
   ]
  },
  {
   "cell_type": "code",
   "execution_count": 122,
   "metadata": {},
   "outputs": [
    {
     "name": "stdout",
     "output_type": "stream",
     "text": [
      "число деревьев для минимальной ошибке на тесте: 0\n",
      "значение минимальной ошибки на тесте:  0.09523809523809523\n"
     ]
    }
   ],
   "source": [
    "# Определяем минимальную ошибку и число деревьев при этом\n",
    "print(\"число деревьев для минимальной ошибке на тесте: \" + str(25* np.argmin(np.array(err_test_mas))))\n",
    "print(\"значение минимальной ошибки на тесте:  \" + str(np.min(np.array(err_test_mas))))"
   ]
  },
  {
   "cell_type": "code",
   "execution_count": 123,
   "metadata": {},
   "outputs": [
    {
     "name": "stdout",
     "output_type": "stream",
     "text": [
      "число деревьев для минимальной oob: 25\n",
      "значение минимальной oob: 0.08163265306122447\n"
     ]
    }
   ],
   "source": [
    "# Определяем минимальное oob и число деревьев при этом\n",
    "print(\"число деревьев для минимальной oob: \" + str(25* np.argmin(np.array(err_oob))))\n",
    "print(\"значение минимальной oob: \" + str(np.min(np.array(err_oob))))"
   ]
  },
  {
   "cell_type": "markdown",
   "metadata": {},
   "source": [
    "# AdaBoost\n",
    "Используем простейший алгоритм бустинга с числом деревьев равным 10"
   ]
  },
  {
   "cell_type": "code",
   "execution_count": 124,
   "metadata": {},
   "outputs": [
    {
     "name": "stdout",
     "output_type": "stream",
     "text": [
      "ошибка на обучающей выборке: 0.22448979591836735\n",
      "ошибка на тестовой выборке: 0.19047619047619047\n"
     ]
    }
   ],
   "source": [
    "# Создаем бустинг, оцениваем ошибки\n",
    "ada = ensemble.AdaBoostClassifier(n_estimators = 10)\n",
    "ada.fit(X_train, y_train)\n",
    "\n",
    "err_train = np.mean(y_train != ada.predict(X_train))\n",
    "err_test = np.mean(y_test != ada.predict(X_test))\n",
    "\n",
    "print(\"ошибка на обучающей выборке: \" + str(err_train)) \n",
    "print(\"ошибка на тестовой выборке: \" + str(err_test))"
   ]
  },
  {
   "cell_type": "code",
   "execution_count": 126,
   "metadata": {},
   "outputs": [
    {
     "name": "stdout",
     "output_type": "stream",
     "text": [
      "[[8 0 0 0 0 0 0]\n",
      " [0 5 0 0 0 0 0]\n",
      " [1 0 0 0 0 0 0]\n",
      " [0 0 0 3 0 0 0]\n",
      " [2 0 0 0 0 0 0]\n",
      " [0 0 0 0 0 1 0]\n",
      " [1 0 0 0 0 0 0]]\n"
     ]
    }
   ],
   "source": [
    "# Строим матрицу неточности (соответствий)\n",
    "y_test_predict = ada.predict(X_test)\n",
    "print(confusion_matrix(y_test, y_test_predict))"
   ]
  },
  {
   "cell_type": "code",
   "execution_count": 127,
   "metadata": {},
   "outputs": [
    {
     "data": {
      "text/plain": [
       "<matplotlib.legend.Legend at 0x1bf9272cc88>"
      ]
     },
     "execution_count": 127,
     "metadata": {},
     "output_type": "execute_result"
    },
    {
     "data": {
      "image/png": "[encoded data removed]",
      "text/plain": [
       "<Figure size 432x288 with 1 Axes>"
      ]
     },
     "metadata": {
      "needs_background": "light"
     },
     "output_type": "display_data"
    }
   ],
   "source": [
    "# Изменяем число деревьев, рисуем динамику изменения ошибок в зависимости от числа деревьев\n",
    "ran_tree = range(1, 300, 10)\n",
    "err_train_mas = []\n",
    "err_test_mas = []\n",
    "for t_cur in ran_tree:\n",
    "    mod_t = ensemble.AdaBoostClassifier(n_estimators = t_cur)\n",
    "    mod_t.fit(X_train, y_train)\n",
    "    err_train_mas.append(np.mean(mod_t.predict(X_train) != y_train))\n",
    "    err_test_mas.append(np.mean(mod_t.predict(X_test) != y_test))\n",
    "plt.plot(ran_tree, err_train_mas, 'r-o', label = 'Train error')\n",
    "plt.plot(ran_tree, err_test_mas,  'b-o', label = 'Test error')    \n",
    "plt.title('Extremely Random Forest')\n",
    "plt.xlabel('number of estimators')\n",
    "plt.ylabel('error')\n",
    "plt.legend(loc = 2)"
   ]
  },
  {
   "cell_type": "markdown",
   "metadata": {},
   "source": [
    "Делаем вывод:\n",
    "\n",
    "Наблюдаются достаточно высокие ошибки как на тренировочной, так и на тестовой выборках. \n",
    "\n",
    "Минимально полученные ошибки на тесте - 19%, на тренировочной выборке - 22%. \n",
    "\n",
    "Результат свидетельствует о том, что с ростом числа деревьев происходит переобучение. \n",
    "\n",
    "Данный классификатор не подходит для решения поставленной задачи"
   ]
  },
  {
   "cell_type": "markdown",
   "metadata": {},
   "source": [
    "# GBT"
   ]
  },
  {
   "cell_type": "code",
   "execution_count": 114,
   "metadata": {},
   "outputs": [
    {
     "name": "stdout",
     "output_type": "stream",
     "text": [
      "ошибка на обучающей выборке: 0.0\n",
      "ошибка на тестовой выборке: 0.09523809523809523\n"
     ]
    }
   ],
   "source": [
    "# Создаем градиентный бустинг, оцениваем ошибки\n",
    "gbt = ensemble.GradientBoostingClassifier(n_estimators = 1000)\n",
    "gbt.fit(X_train, y_train)\n",
    "\n",
    "err_train = np.mean(y_train != gbt.predict(X_train))\n",
    "err_test = np.mean(y_test != gbt.predict(X_test))\n",
    "\n",
    "print(\"ошибка на обучающей выборке: \" + str(err_train)) \n",
    "print(\"ошибка на тестовой выборке: \" + str(err_test))"
   ]
  },
  {
   "cell_type": "code",
   "execution_count": 115,
   "metadata": {},
   "outputs": [
    {
     "name": "stdout",
     "output_type": "stream",
     "text": [
      "[[8 0 0 0 0 0 0]\n",
      " [0 5 0 0 0 0 0]\n",
      " [0 0 1 0 0 0 0]\n",
      " [0 0 0 3 0 0 0]\n",
      " [0 0 1 0 1 0 0]\n",
      " [0 0 0 0 0 1 0]\n",
      " [0 0 1 0 0 0 0]]\n"
     ]
    }
   ],
   "source": [
    "# Строим матрицу неточности (соответствий)\n",
    "y_test_predict = gbt.predict(X_test)\n",
    "print(confusion_matrix(y_test, y_test_predict))"
   ]
  },
  {
   "cell_type": "code",
   "execution_count": 116,
   "metadata": {},
   "outputs": [
    {
     "data": {
      "text/plain": [
       "<matplotlib.legend.Legend at 0x1bf9420e588>"
      ]
     },
     "execution_count": 116,
     "metadata": {},
     "output_type": "execute_result"
    },
    {
     "data": {
      "image/png": "[encoded data removed]",
      "text/plain": [
       "<Figure size 432x288 with 1 Axes>"
      ]
     },
     "metadata": {
      "needs_background": "light"
     },
     "output_type": "display_data"
    }
   ],
   "source": [
    "# Изменяем число деревьев, рисуем динамику изменения ошибок в зависимости от числа деревьев\n",
    "ran_tree = range(1, 1500, 100)\n",
    "err_train_mas = []\n",
    "err_test_mas = []\n",
    "err_oob = []\n",
    "for t_cur in ran_tree:\n",
    "    mod_t = ensemble.GradientBoostingClassifier(n_estimators = t_cur)\n",
    "    mod_t.fit(X_train, y_train)\n",
    "    err_train_mas.append(np.mean(mod_t.predict(X_train) != y_train))\n",
    "    err_test_mas.append(np.mean(mod_t.predict(X_test) != y_test))\n",
    "    err_oob.append(np.mean(mod_t.predict(X_test) != y_test))\n",
    "plt.plot(ran_tree, err_train_mas, 'r-o', label = 'Train error')\n",
    "plt.plot(ran_tree, err_test_mas,  'b-o', label = 'Test error')\n",
    "plt.plot(ran_tree, err_oob,  'b-o', label = 'oob error')    \n",
    "\n",
    "plt.legend(loc = 2)"
   ]
  },
  {
   "cell_type": "markdown",
   "metadata": {},
   "source": [
    "Делаем вывод:\n",
    "\n",
    "Ошибка на тесте находится в некотором диапазоне, переобучения нет. \n",
    "\n",
    "Ошибка на тесте колеблется около значения в 10%, что может свидетельствовать о небольшом недообучении (либо быть связанным с масштабом графика)."
   ]
  },
  {
   "cell_type": "markdown",
   "metadata": {},
   "source": [
    "# Общий вывод по всем лабораторным\n",
    "Все алгоритмы за исключением Adaboost дают хорошие результаты. \n",
    "\n",
    "В большинстве методов (кроме Adaboost) ошибка на тестовой выборке составляет 9,5%. \n",
    "\n",
    "Многие алгоритмы хорошо решают поставленную задачу, что связано с ее простотой и несложными функциональными зависимостями по данным."
   ]
  }
 ],
 "metadata": {
  "kernelspec": {
   "display_name": "Python 3",
   "language": "python",
   "name": "python3"
  },
  "language_info": {
   "codemirror_mode": {
    "name": "ipython",
    "version": 3
   },
   "file_extension": ".py",
   "mimetype": "text/x-python",
   "name": "python",
   "nbconvert_exporter": "python",
   "pygments_lexer": "ipython3",
   "version": "3.7.4"
  }
 },
 "nbformat": 4,
 "nbformat_minor": 2
}
